{
 "cells": [
  {
   "cell_type": "code",
   "execution_count": 1,
   "id": "3b777308",
   "metadata": {},
   "outputs": [
    {
     "name": "stderr",
     "output_type": "stream",
     "text": [
      "c:\\Users\\doha.ramadan\\AppData\\Local\\miniconda3\\envs\\coding\\Lib\\site-packages\\tqdm\\auto.py:21: TqdmWarning: IProgress not found. Please update jupyter and ipywidgets. See https://ipywidgets.readthedocs.io/en/stable/user_install.html\n",
      "  from .autonotebook import tqdm as notebook_tqdm\n"
     ]
    }
   ],
   "source": [
    "import pandas as pd\n",
    "from transformers import AutoTokenizer, AutoModel\n",
    "import torch\n",
    "from sklearn.metrics.pairwise import cosine_similarity\n",
    "import requests\n",
    "import json\n",
    "from tqdm import tqdm"
   ]
  },
  {
   "cell_type": "code",
   "execution_count": 69,
   "id": "74db7d81",
   "metadata": {},
   "outputs": [
    {
     "name": "stdout",
     "output_type": "stream",
     "text": [
      "(111792, 8)\n"
     ]
    },
    {
     "data": {
      "text/html": [
       "<div>\n",
       "<style scoped>\n",
       "    .dataframe tbody tr th:only-of-type {\n",
       "        vertical-align: middle;\n",
       "    }\n",
       "\n",
       "    .dataframe tbody tr th {\n",
       "        vertical-align: top;\n",
       "    }\n",
       "\n",
       "    .dataframe thead th {\n",
       "        text-align: right;\n",
       "    }\n",
       "</style>\n",
       "<table border=\"1\" class=\"dataframe\">\n",
       "  <thead>\n",
       "    <tr style=\"text-align: right;\">\n",
       "      <th></th>\n",
       "      <th>INSURANCE_COMPANY</th>\n",
       "      <th>SERVICE_CODE</th>\n",
       "      <th>SERVICE_DESCRIPTION</th>\n",
       "      <th>PRICE</th>\n",
       "      <th>SERVICE_KEY</th>\n",
       "      <th>SERVICE_CLASSIFICATION</th>\n",
       "      <th>SERVICE_CATEGORY</th>\n",
       "      <th>SRVICE_DESCRIPTION</th>\n",
       "    </tr>\n",
       "  </thead>\n",
       "  <tbody>\n",
       "    <tr>\n",
       "      <th>0</th>\n",
       "      <td>Cash</td>\n",
       "      <td>LA0013674</td>\n",
       "      <td>AFP**</td>\n",
       "      <td>300.000</td>\n",
       "      <td>75905</td>\n",
       "      <td>LAB Services</td>\n",
       "      <td>LAB-Hormones</td>\n",
       "      <td>AFP**</td>\n",
       "    </tr>\n",
       "    <tr>\n",
       "      <th>1</th>\n",
       "      <td>Islamic Bank</td>\n",
       "      <td>LA0013674</td>\n",
       "      <td>AFP**</td>\n",
       "      <td>300.000</td>\n",
       "      <td>75905</td>\n",
       "      <td>LAB Services</td>\n",
       "      <td>LAB-Hormones</td>\n",
       "      <td>AFP**</td>\n",
       "    </tr>\n",
       "    <tr>\n",
       "      <th>2</th>\n",
       "      <td>Gulf Union</td>\n",
       "      <td>LA0013674</td>\n",
       "      <td>AFP**</td>\n",
       "      <td>315.000</td>\n",
       "      <td>75905</td>\n",
       "      <td>LAB Services</td>\n",
       "      <td>LAB-Hormones</td>\n",
       "      <td>AFP**</td>\n",
       "    </tr>\n",
       "    <tr>\n",
       "      <th>3</th>\n",
       "      <td>MOH</td>\n",
       "      <td>LA0013674</td>\n",
       "      <td>AFP**</td>\n",
       "      <td>393.288</td>\n",
       "      <td>75905</td>\n",
       "      <td>LAB Services</td>\n",
       "      <td>LAB-Hormones</td>\n",
       "      <td>AFP**</td>\n",
       "    </tr>\n",
       "    <tr>\n",
       "      <th>4</th>\n",
       "      <td>AXA</td>\n",
       "      <td>LA0013674</td>\n",
       "      <td>AFP**</td>\n",
       "      <td>415.000</td>\n",
       "      <td>75905</td>\n",
       "      <td>LAB Services</td>\n",
       "      <td>LAB-Hormones</td>\n",
       "      <td>AFP**</td>\n",
       "    </tr>\n",
       "  </tbody>\n",
       "</table>\n",
       "</div>"
      ],
      "text/plain": [
       "  INSURANCE_COMPANY SERVICE_CODE SERVICE_DESCRIPTION    PRICE  SERVICE_KEY  \\\n",
       "0              Cash    LA0013674               AFP**  300.000        75905   \n",
       "1      Islamic Bank    LA0013674               AFP**  300.000        75905   \n",
       "2        Gulf Union    LA0013674               AFP**  315.000        75905   \n",
       "3               MOH    LA0013674               AFP**  393.288        75905   \n",
       "4               AXA    LA0013674               AFP**  415.000        75905   \n",
       "\n",
       "  SERVICE_CLASSIFICATION SERVICE_CATEGORY SRVICE_DESCRIPTION  \n",
       "0           LAB Services     LAB-Hormones              AFP**  \n",
       "1           LAB Services     LAB-Hormones              AFP**  \n",
       "2           LAB Services     LAB-Hormones              AFP**  \n",
       "3           LAB Services     LAB-Hormones              AFP**  \n",
       "4           LAB Services     LAB-Hormones              AFP**  "
      ]
     },
     "execution_count": 69,
     "metadata": {},
     "output_type": "execute_result"
    }
   ],
   "source": [
    "ahj = pd.read_excel(\"D:\\\\CodingSystem\\\\assets\\\\AHJ_PriceList.xlsx\")\n",
    "ahj['SRVICE_DESCRIPTION'] = ahj['SERVICE_DESCRIPTION'].str.strip().str.upper()\n",
    "\n",
    "print(ahj.shape)\n",
    "ahj.head()"
   ]
  },
  {
   "cell_type": "code",
   "execution_count": 70,
   "id": "92ac2717",
   "metadata": {},
   "outputs": [
    {
     "data": {
      "text/plain": [
       "(16302, 16298)"
      ]
     },
     "execution_count": 70,
     "metadata": {},
     "output_type": "execute_result"
    }
   ],
   "source": [
    "ahj['SERVICE_CODE'].nunique(), ahj['SERVICE_DESCRIPTION'].nunique()"
   ]
  },
  {
   "cell_type": "code",
   "execution_count": 71,
   "id": "529c25ac",
   "metadata": {},
   "outputs": [
    {
     "name": "stdout",
     "output_type": "stream",
     "text": [
      "(10081, 7)\n"
     ]
    },
    {
     "data": {
      "text/html": [
       "<div>\n",
       "<style scoped>\n",
       "    .dataframe tbody tr th:only-of-type {\n",
       "        vertical-align: middle;\n",
       "    }\n",
       "\n",
       "    .dataframe tbody tr th {\n",
       "        vertical-align: top;\n",
       "    }\n",
       "\n",
       "    .dataframe thead th {\n",
       "        text-align: right;\n",
       "    }\n",
       "</style>\n",
       "<table border=\"1\" class=\"dataframe\">\n",
       "  <thead>\n",
       "    <tr style=\"text-align: right;\">\n",
       "      <th></th>\n",
       "      <th>SBS Code</th>\n",
       "      <th>SBS Code (Hyphenated)</th>\n",
       "      <th>Short Description</th>\n",
       "      <th>Long Description</th>\n",
       "      <th>Definition</th>\n",
       "      <th>Block Name</th>\n",
       "      <th>Detailed Description</th>\n",
       "    </tr>\n",
       "  </thead>\n",
       "  <tbody>\n",
       "    <tr>\n",
       "      <th>0</th>\n",
       "      <td>408030000</td>\n",
       "      <td>40803-00-00</td>\n",
       "      <td>INTRACRANIAL STEREOTACTIC LOCALISATION</td>\n",
       "      <td>INTRACRANIAL STEREOTACTIC LOCALIZATION</td>\n",
       "      <td></td>\n",
       "      <td>Examination of skull, meninges or brain</td>\n",
       "      <td>INTRACRANIAL STEREOTACTIC LOCALIZATION||</td>\n",
       "    </tr>\n",
       "    <tr>\n",
       "      <th>1</th>\n",
       "      <td>409030000</td>\n",
       "      <td>40903-00-00</td>\n",
       "      <td>NEUROENDOSCOPY</td>\n",
       "      <td>NEUROENDOSCOPY</td>\n",
       "      <td></td>\n",
       "      <td>Examination of skull, meninges or brain</td>\n",
       "      <td>NEUROENDOSCOPY||</td>\n",
       "    </tr>\n",
       "    <tr>\n",
       "      <th>2</th>\n",
       "      <td>390030000</td>\n",
       "      <td>39003-00-00</td>\n",
       "      <td>CISTERNAL PUNCTURE</td>\n",
       "      <td>CISTERNAL PUNCTURE</td>\n",
       "      <td>A NEEDLE PLACED BELOW THE OCCIPITAL BONE (BACK...</td>\n",
       "      <td>Cranial tap or puncture</td>\n",
       "      <td>CISTERNAL PUNCTURE||A NEEDLE PLACED BELOW THE ...</td>\n",
       "    </tr>\n",
       "    <tr>\n",
       "      <th>3</th>\n",
       "      <td>390060000</td>\n",
       "      <td>39006-00-00</td>\n",
       "      <td>VENTRICULAR PUNCTURE</td>\n",
       "      <td>VENTRICULAR PUNCTURE</td>\n",
       "      <td></td>\n",
       "      <td>Cranial tap or puncture</td>\n",
       "      <td>VENTRICULAR PUNCTURE||</td>\n",
       "    </tr>\n",
       "    <tr>\n",
       "      <th>4</th>\n",
       "      <td>390090000</td>\n",
       "      <td>39009-00-00</td>\n",
       "      <td>TAP FOR SUBDURAL HAEMORRHAGE</td>\n",
       "      <td>TAP FOR SUBDURAL HAEMORRHAGE</td>\n",
       "      <td></td>\n",
       "      <td>Cranial tap or puncture</td>\n",
       "      <td>TAP FOR SUBDURAL HAEMORRHAGE||</td>\n",
       "    </tr>\n",
       "  </tbody>\n",
       "</table>\n",
       "</div>"
      ],
      "text/plain": [
       "    SBS Code SBS Code (Hyphenated)                       Short Description  \\\n",
       "0  408030000           40803-00-00  INTRACRANIAL STEREOTACTIC LOCALISATION   \n",
       "1  409030000           40903-00-00                          NEUROENDOSCOPY   \n",
       "2  390030000           39003-00-00                      CISTERNAL PUNCTURE   \n",
       "3  390060000           39006-00-00                    VENTRICULAR PUNCTURE   \n",
       "4  390090000           39009-00-00            TAP FOR SUBDURAL HAEMORRHAGE   \n",
       "\n",
       "                         Long Description  \\\n",
       "0  INTRACRANIAL STEREOTACTIC LOCALIZATION   \n",
       "1                          NEUROENDOSCOPY   \n",
       "2                      CISTERNAL PUNCTURE   \n",
       "3                    VENTRICULAR PUNCTURE   \n",
       "4            TAP FOR SUBDURAL HAEMORRHAGE   \n",
       "\n",
       "                                          Definition  \\\n",
       "0                                                      \n",
       "1                                                      \n",
       "2  A NEEDLE PLACED BELOW THE OCCIPITAL BONE (BACK...   \n",
       "3                                                      \n",
       "4                                                      \n",
       "\n",
       "                                Block Name  \\\n",
       "0  Examination of skull, meninges or brain   \n",
       "1  Examination of skull, meninges or brain   \n",
       "2                  Cranial tap or puncture   \n",
       "3                  Cranial tap or puncture   \n",
       "4                  Cranial tap or puncture   \n",
       "\n",
       "                                Detailed Description  \n",
       "0           INTRACRANIAL STEREOTACTIC LOCALIZATION||  \n",
       "1                                   NEUROENDOSCOPY||  \n",
       "2  CISTERNAL PUNCTURE||A NEEDLE PLACED BELOW THE ...  \n",
       "3                             VENTRICULAR PUNCTURE||  \n",
       "4                     TAP FOR SUBDURAL HAEMORRHAGE||  "
      ]
     },
     "execution_count": 71,
     "metadata": {},
     "output_type": "execute_result"
    }
   ],
   "source": [
    "sbs = pd.read_excel(\"D:\\\\CodingSystem\\\\assets\\\\SBS_Services.xlsx\")\n",
    "sbs['Short Description'] = sbs['Short Description'].str.strip().str.upper()\n",
    "sbs['Long Description'] = sbs['Long Description'].str.strip().str.upper()\n",
    "sbs['Definition'] = sbs['Definition'].fillna(\"\").str.strip().str.upper()\n",
    "sbs['Detailed Description'] = sbs['Long Description'] + \"||\" + sbs['Definition']\n",
    "\n",
    "print(sbs.shape)\n",
    "sbs.head()"
   ]
  },
  {
   "cell_type": "code",
   "execution_count": 72,
   "id": "68a922cc",
   "metadata": {},
   "outputs": [
    {
     "data": {
      "text/plain": [
       "(10081, 10079, 10076, 10081)"
      ]
     },
     "execution_count": 72,
     "metadata": {},
     "output_type": "execute_result"
    }
   ],
   "source": [
    "sbs['SBS Code (Hyphenated)'].nunique(), sbs['Short Description'].nunique(), sbs['Long Description'].nunique(), sbs['Detailed Description'].nunique()"
   ]
  },
  {
   "cell_type": "code",
   "execution_count": 80,
   "id": "d25cf2fe",
   "metadata": {},
   "outputs": [
    {
     "name": "stderr",
     "output_type": "stream",
     "text": [
      "C:\\Users\\doha.ramadan\\AppData\\Local\\Temp\\ipykernel_16396\\3550318295.py:3: SettingWithCopyWarning: \n",
      "A value is trying to be set on a copy of a slice from a DataFrame.\n",
      "Try using .loc[row_indexer,col_indexer] = value instead\n",
      "\n",
      "See the caveats in the documentation: https://pandas.pydata.org/pandas-docs/stable/user_guide/indexing.html#returning-a-view-versus-a-copy\n",
      "  ahj_bupa['NEW_SERVICE_DESCRIPTION'] = ahj_bupa['SERVICE_DESCRIPTION'].str.replace(r'^(PK-)+', '', regex=True)\n"
     ]
    },
    {
     "data": {
      "text/plain": [
       "(3225, 9)"
      ]
     },
     "execution_count": 80,
     "metadata": {},
     "output_type": "execute_result"
    }
   ],
   "source": [
    "ahj_bupa = ahj[ahj['INSURANCE_COMPANY'] == 'Bupa']\n",
    "# Add new column with 'PK-' prefix removed if present:\n",
    "ahj_bupa['NEW_SERVICE_DESCRIPTION'] = ahj_bupa['SERVICE_DESCRIPTION'].str.replace(r'^(PK-)+', '', regex=True)\n",
    "\n",
    "ahj_bupa.shape"
   ]
  },
  {
   "cell_type": "code",
   "execution_count": 87,
   "id": "e2ce0e61",
   "metadata": {},
   "outputs": [
    {
     "name": "stdout",
     "output_type": "stream",
     "text": [
      "(725, 16)\n"
     ]
    },
    {
     "data": {
      "text/html": [
       "<div>\n",
       "<style scoped>\n",
       "    .dataframe tbody tr th:only-of-type {\n",
       "        vertical-align: middle;\n",
       "    }\n",
       "\n",
       "    .dataframe tbody tr th {\n",
       "        vertical-align: top;\n",
       "    }\n",
       "\n",
       "    .dataframe thead th {\n",
       "        text-align: right;\n",
       "    }\n",
       "</style>\n",
       "<table border=\"1\" class=\"dataframe\">\n",
       "  <thead>\n",
       "    <tr style=\"text-align: right;\">\n",
       "      <th></th>\n",
       "      <th>INSURANCE_COMPANY</th>\n",
       "      <th>SERVICE_CODE</th>\n",
       "      <th>SERVICE_DESCRIPTION</th>\n",
       "      <th>PRICE</th>\n",
       "      <th>SERVICE_KEY</th>\n",
       "      <th>SERVICE_CLASSIFICATION</th>\n",
       "      <th>SERVICE_CATEGORY</th>\n",
       "      <th>SRVICE_DESCRIPTION</th>\n",
       "      <th>NEW_SERVICE_DESCRIPTION</th>\n",
       "      <th>SBS Code</th>\n",
       "      <th>SBS Code (Hyphenated)</th>\n",
       "      <th>Short Description</th>\n",
       "      <th>Long Description</th>\n",
       "      <th>Definition</th>\n",
       "      <th>Block Name</th>\n",
       "      <th>Detailed Description</th>\n",
       "    </tr>\n",
       "  </thead>\n",
       "  <tbody>\n",
       "    <tr>\n",
       "      <th>87</th>\n",
       "      <td>Bupa</td>\n",
       "      <td>LA0009004</td>\n",
       "      <td>ORAL GLUCOSE TOLERANCE TEST</td>\n",
       "      <td>444.11</td>\n",
       "      <td>76961</td>\n",
       "      <td>LAB Services</td>\n",
       "      <td>LAB-Biochemistry</td>\n",
       "      <td>ORAL GLUCOSE TOLERANCE TEST</td>\n",
       "      <td>ORAL GLUCOSE TOLERANCE TEST</td>\n",
       "      <td>665420020</td>\n",
       "      <td>66542-00-20</td>\n",
       "      <td>ORAL GLUCOSE TOLERANCE TEST</td>\n",
       "      <td>ORAL GLUCOSE TOLERANCE TEST</td>\n",
       "      <td>A TEST THAT MEASURES THE BODY'S RESPONSE TO SU...</td>\n",
       "      <td>Physiological assessment</td>\n",
       "      <td>ORAL GLUCOSE TOLERANCE TEST||A TEST THAT MEASU...</td>\n",
       "    </tr>\n",
       "    <tr>\n",
       "      <th>742</th>\n",
       "      <td>Bupa</td>\n",
       "      <td>XY0077664</td>\n",
       "      <td>RETINAL PHOTOGRAPHY OF BOTH EYES</td>\n",
       "      <td>332.74</td>\n",
       "      <td>81211</td>\n",
       "      <td>RAD Services</td>\n",
       "      <td>imaging</td>\n",
       "      <td>RETINAL PHOTOGRAPHY OF BOTH EYES</td>\n",
       "      <td>RETINAL PHOTOGRAPHY OF BOTH EYES</td>\n",
       "      <td>112180000</td>\n",
       "      <td>11218-00-00</td>\n",
       "      <td>RETINAL PHOTOGRAPHY OF BOTH EYES</td>\n",
       "      <td>RETINAL PHOTOGRAPHY OF BOTH EYES</td>\n",
       "      <td></td>\n",
       "      <td>Other angiography</td>\n",
       "      <td>RETINAL PHOTOGRAPHY OF BOTH EYES||</td>\n",
       "    </tr>\n",
       "    <tr>\n",
       "      <th>906</th>\n",
       "      <td>Bupa</td>\n",
       "      <td>XY0077753</td>\n",
       "      <td>RADIOGRAPHY OF ANKLE AND FOOT, UNILATERAL</td>\n",
       "      <td>413.98</td>\n",
       "      <td>81544</td>\n",
       "      <td>RAD Services</td>\n",
       "      <td>X-Ray</td>\n",
       "      <td>RADIOGRAPHY OF ANKLE AND FOOT, UNILATERAL</td>\n",
       "      <td>RADIOGRAPHY OF ANKLE AND FOOT, UNILATERAL</td>\n",
       "      <td>575240401</td>\n",
       "      <td>57524-04-01</td>\n",
       "      <td>RADIOGRAPHY ANKLE &amp; FOOT  UNI</td>\n",
       "      <td>RADIOGRAPHY OF ANKLE AND FOOT, UNILATERAL</td>\n",
       "      <td>RADIOGRAPHY OF ANKLE AND FOOT (ONE SIDE).</td>\n",
       "      <td>Radiography of lower limb</td>\n",
       "      <td>RADIOGRAPHY OF ANKLE AND FOOT, UNILATERAL||RAD...</td>\n",
       "    </tr>\n",
       "    <tr>\n",
       "      <th>910</th>\n",
       "      <td>Bupa</td>\n",
       "      <td>XY0077795</td>\n",
       "      <td>ULTRASOUND OF FOREARM OR ELBOW, UNILATERAL</td>\n",
       "      <td>2018.77</td>\n",
       "      <td>81568</td>\n",
       "      <td>RAD Services</td>\n",
       "      <td>Ultrasound</td>\n",
       "      <td>ULTRASOUND OF FOREARM OR ELBOW, UNILATERAL</td>\n",
       "      <td>ULTRASOUND OF FOREARM OR ELBOW, UNILATERAL</td>\n",
       "      <td>558040001</td>\n",
       "      <td>55804-00-01</td>\n",
       "      <td>U/S FOREARM/ELBOW UNI</td>\n",
       "      <td>ULTRASOUND OF FOREARM OR ELBOW, UNILATERAL</td>\n",
       "      <td>ULTRASOUND OF FOREARM OR ELBOW (ONE SIDE), EXC...</td>\n",
       "      <td>Ultrasound of other sites</td>\n",
       "      <td>ULTRASOUND OF FOREARM OR ELBOW, UNILATERAL||UL...</td>\n",
       "    </tr>\n",
       "    <tr>\n",
       "      <th>920</th>\n",
       "      <td>Bupa</td>\n",
       "      <td>XY0077791</td>\n",
       "      <td>RADIOGRAPHY OF HAND AND WRIST, BILATERAL</td>\n",
       "      <td>235.80</td>\n",
       "      <td>81583</td>\n",
       "      <td>RAD Services</td>\n",
       "      <td>X-Ray</td>\n",
       "      <td>RADIOGRAPHY OF HAND AND WRIST, BILATERAL</td>\n",
       "      <td>RADIOGRAPHY OF HAND AND WRIST, BILATERAL</td>\n",
       "      <td>575120302</td>\n",
       "      <td>57512-03-02</td>\n",
       "      <td>RADIOGRAPHY HAND &amp; WRIST  BIL</td>\n",
       "      <td>RADIOGRAPHY OF HAND AND WRIST, BILATERAL</td>\n",
       "      <td>RADIOGRAPHY OF HAND AND WRIST (BOTH SIDES) WIT...</td>\n",
       "      <td>Radiography of upper limb</td>\n",
       "      <td>RADIOGRAPHY OF HAND AND WRIST, BILATERAL||RADI...</td>\n",
       "    </tr>\n",
       "  </tbody>\n",
       "</table>\n",
       "</div>"
      ],
      "text/plain": [
       "    INSURANCE_COMPANY SERVICE_CODE  \\\n",
       "87               Bupa    LA0009004   \n",
       "742              Bupa    XY0077664   \n",
       "906              Bupa    XY0077753   \n",
       "910              Bupa    XY0077795   \n",
       "920              Bupa    XY0077791   \n",
       "\n",
       "                            SERVICE_DESCRIPTION    PRICE  SERVICE_KEY  \\\n",
       "87                  ORAL GLUCOSE TOLERANCE TEST   444.11        76961   \n",
       "742            RETINAL PHOTOGRAPHY OF BOTH EYES   332.74        81211   \n",
       "906   RADIOGRAPHY OF ANKLE AND FOOT, UNILATERAL   413.98        81544   \n",
       "910  ULTRASOUND OF FOREARM OR ELBOW, UNILATERAL  2018.77        81568   \n",
       "920    RADIOGRAPHY OF HAND AND WRIST, BILATERAL   235.80        81583   \n",
       "\n",
       "    SERVICE_CLASSIFICATION  SERVICE_CATEGORY  \\\n",
       "87            LAB Services  LAB-Biochemistry   \n",
       "742           RAD Services           imaging   \n",
       "906           RAD Services             X-Ray   \n",
       "910           RAD Services        Ultrasound   \n",
       "920           RAD Services             X-Ray   \n",
       "\n",
       "                             SRVICE_DESCRIPTION  \\\n",
       "87                  ORAL GLUCOSE TOLERANCE TEST   \n",
       "742            RETINAL PHOTOGRAPHY OF BOTH EYES   \n",
       "906   RADIOGRAPHY OF ANKLE AND FOOT, UNILATERAL   \n",
       "910  ULTRASOUND OF FOREARM OR ELBOW, UNILATERAL   \n",
       "920    RADIOGRAPHY OF HAND AND WRIST, BILATERAL   \n",
       "\n",
       "                        NEW_SERVICE_DESCRIPTION   SBS Code  \\\n",
       "87                  ORAL GLUCOSE TOLERANCE TEST  665420020   \n",
       "742            RETINAL PHOTOGRAPHY OF BOTH EYES  112180000   \n",
       "906   RADIOGRAPHY OF ANKLE AND FOOT, UNILATERAL  575240401   \n",
       "910  ULTRASOUND OF FOREARM OR ELBOW, UNILATERAL  558040001   \n",
       "920    RADIOGRAPHY OF HAND AND WRIST, BILATERAL  575120302   \n",
       "\n",
       "    SBS Code (Hyphenated)                 Short Description  \\\n",
       "87            66542-00-20       ORAL GLUCOSE TOLERANCE TEST   \n",
       "742           11218-00-00  RETINAL PHOTOGRAPHY OF BOTH EYES   \n",
       "906           57524-04-01     RADIOGRAPHY ANKLE & FOOT  UNI   \n",
       "910           55804-00-01             U/S FOREARM/ELBOW UNI   \n",
       "920           57512-03-02     RADIOGRAPHY HAND & WRIST  BIL   \n",
       "\n",
       "                               Long Description  \\\n",
       "87                  ORAL GLUCOSE TOLERANCE TEST   \n",
       "742            RETINAL PHOTOGRAPHY OF BOTH EYES   \n",
       "906   RADIOGRAPHY OF ANKLE AND FOOT, UNILATERAL   \n",
       "910  ULTRASOUND OF FOREARM OR ELBOW, UNILATERAL   \n",
       "920    RADIOGRAPHY OF HAND AND WRIST, BILATERAL   \n",
       "\n",
       "                                            Definition  \\\n",
       "87   A TEST THAT MEASURES THE BODY'S RESPONSE TO SU...   \n",
       "742                                                      \n",
       "906          RADIOGRAPHY OF ANKLE AND FOOT (ONE SIDE).   \n",
       "910  ULTRASOUND OF FOREARM OR ELBOW (ONE SIDE), EXC...   \n",
       "920  RADIOGRAPHY OF HAND AND WRIST (BOTH SIDES) WIT...   \n",
       "\n",
       "                    Block Name  \\\n",
       "87    Physiological assessment   \n",
       "742          Other angiography   \n",
       "906  Radiography of lower limb   \n",
       "910  Ultrasound of other sites   \n",
       "920  Radiography of upper limb   \n",
       "\n",
       "                                  Detailed Description  \n",
       "87   ORAL GLUCOSE TOLERANCE TEST||A TEST THAT MEASU...  \n",
       "742                 RETINAL PHOTOGRAPHY OF BOTH EYES||  \n",
       "906  RADIOGRAPHY OF ANKLE AND FOOT, UNILATERAL||RAD...  \n",
       "910  ULTRASOUND OF FOREARM OR ELBOW, UNILATERAL||UL...  \n",
       "920  RADIOGRAPHY OF HAND AND WRIST, BILATERAL||RADI...  "
      ]
     },
     "execution_count": 87,
     "metadata": {},
     "output_type": "execute_result"
    }
   ],
   "source": [
    "# Merge on NEW_SERVICE_DESCRIPTION == Long Description\n",
    "merge_long = ahj_bupa.merge(\n",
    "    sbs,\n",
    "    how='left',\n",
    "    left_on='NEW_SERVICE_DESCRIPTION',\n",
    "    right_on='Long Description'\n",
    ")\n",
    "\n",
    "# Merge on NEW_SERVICE_DESCRIPTION == Short Description\n",
    "merge_short = ahj_bupa.merge(\n",
    "    sbs,\n",
    "    how='left',\n",
    "    left_on='NEW_SERVICE_DESCRIPTION',\n",
    "    right_on='Short Description'\n",
    ")\n",
    "\n",
    "# Combine the two\n",
    "exact_services = pd.concat([merge_long, merge_short])\n",
    "\n",
    "# Keep only rows with a match\n",
    "exact_services = exact_services[\n",
    "    exact_services['Long Description'].notnull() | exact_services['Short Description'].notnull()\n",
    "]\n",
    "\n",
    "# Remove duplicates if any\n",
    "exact_services = exact_services.drop_duplicates()\n",
    "\n",
    "print(exact_services.shape)\n",
    "exact_services.head()"
   ]
  },
  {
   "cell_type": "code",
   "execution_count": 96,
   "id": "a7df95eb",
   "metadata": {},
   "outputs": [
    {
     "data": {
      "text/plain": [
       "725"
      ]
     },
     "execution_count": 96,
     "metadata": {},
     "output_type": "execute_result"
    }
   ],
   "source": [
    "exact_services['SERVICE_DESCRIPTION'].nunique()"
   ]
  },
  {
   "cell_type": "code",
   "execution_count": 92,
   "id": "3ddf1004",
   "metadata": {},
   "outputs": [
    {
     "data": {
      "text/plain": [
       "(2500, 9)"
      ]
     },
     "execution_count": 92,
     "metadata": {},
     "output_type": "execute_result"
    }
   ],
   "source": [
    "different_services_df = ahj_bupa[~ahj_bupa['NEW_SERVICE_DESCRIPTION'].isin(list(exact_services['NEW_SERVICE_DESCRIPTION'].unique()))]\n",
    "different_services_df = different_services_df[different_services_df['INSURANCE_COMPANY'] == 'Bupa']\n",
    "different_services_df.shape"
   ]
  },
  {
   "cell_type": "code",
   "execution_count": 97,
   "id": "d247cc16",
   "metadata": {},
   "outputs": [
    {
     "data": {
      "text/plain": [
       "2493"
      ]
     },
     "execution_count": 97,
     "metadata": {},
     "output_type": "execute_result"
    }
   ],
   "source": [
    "different_services_df['SERVICE_DESCRIPTION'].nunique()"
   ]
  },
  {
   "cell_type": "code",
   "execution_count": 111,
   "id": "fed29798",
   "metadata": {},
   "outputs": [
    {
     "data": {
      "text/plain": [
       "(2484, 10076)"
      ]
     },
     "execution_count": 111,
     "metadata": {},
     "output_type": "execute_result"
    }
   ],
   "source": [
    "ahj_services = list(different_services_df['NEW_SERVICE_DESCRIPTION'].unique())\n",
    "sbs_services = list(sbs['Long Description'].unique())\n",
    "\n",
    "len(ahj_services), len(sbs_services)"
   ]
  },
  {
   "cell_type": "code",
   "execution_count": 101,
   "id": "99333ce9",
   "metadata": {},
   "outputs": [],
   "source": [
    "from transformers import AutoTokenizer\n",
    "import pandas as pd\n",
    "\n",
    "# Load your tokenizer\n",
    "tokenizer = AutoTokenizer.from_pretrained(\"emilyalsentzer/Bio_ClinicalBERT\")  # or any other model\n",
    "\n",
    "# Function to count tokens\n",
    "def count_tokens(text):\n",
    "    if pd.isna(text):\n",
    "        return 0\n",
    "    return len(tokenizer.tokenize(text))\n",
    "\n",
    "# Apply\n",
    "sbs['SHORT_TOKEN_COUNT'] = sbs['Short Description'].apply(count_tokens)\n",
    "sbs['LONG_TOKEN_COUNT'] = sbs['Long Description'].apply(count_tokens)"
   ]
  },
  {
   "cell_type": "code",
   "execution_count": 110,
   "id": "7185cb84",
   "metadata": {},
   "outputs": [
    {
     "data": {
      "text/plain": [
       "(332, 10)"
      ]
     },
     "execution_count": 110,
     "metadata": {},
     "output_type": "execute_result"
    }
   ],
   "source": [
    "sbs[sbs['LONG_TOKEN_COUNT'] >= 32].shape"
   ]
  },
  {
   "cell_type": "code",
   "execution_count": 112,
   "id": "2a13d882",
   "metadata": {},
   "outputs": [
    {
     "name": "stderr",
     "output_type": "stream",
     "text": [
      "Encoding: 100%|██████████| 156/156 [00:31<00:00,  4.98it/s]\n",
      "Encoding: 100%|██████████| 630/630 [02:36<00:00,  4.03it/s]\n",
      "Matching: 100%|██████████| 2484/2484 [00:00<00:00, 99625.65it/s]\n"
     ]
    }
   ],
   "source": [
    "# 1. Load Clinical BioBERT\n",
    "tokenizer = AutoTokenizer.from_pretrained(\"emilyalsentzer/Bio_ClinicalBERT\")\n",
    "model = AutoModel.from_pretrained(\"emilyalsentzer/Bio_ClinicalBERT\")\n",
    "\n",
    "# 2. Mask-aware mean pooling\n",
    "def mean_pooling(model_output, attention_mask):\n",
    "    token_embeddings = model_output.last_hidden_state\n",
    "    input_mask_expanded = attention_mask.unsqueeze(-1).expand(token_embeddings.size()).float()\n",
    "    sum_embeddings = torch.sum(token_embeddings * input_mask_expanded, 1)\n",
    "    sum_mask = torch.clamp(input_mask_expanded.sum(1), min=1e-9)\n",
    "    return sum_embeddings / sum_mask\n",
    "\n",
    "# 3. Batched encoding\n",
    "def encode(texts, batch_size=16):\n",
    "    all_embeddings = []\n",
    "    for i in tqdm(range(0, len(texts), batch_size), desc=\"Encoding\"):\n",
    "        batch = texts[i:i+batch_size]\n",
    "        inputs = tokenizer(batch, padding=True, truncation=True, max_length= 64, return_tensors=\"pt\")\n",
    "        with torch.no_grad():\n",
    "            outputs = model(**inputs)\n",
    "        embeddings = mean_pooling(outputs, inputs['attention_mask'])\n",
    "        all_embeddings.append(embeddings)\n",
    "    return torch.cat(all_embeddings, dim=0)\n",
    "\n",
    "# 4. Encode\n",
    "local_emb = encode(ahj_services)\n",
    "standard_emb = encode(sbs_services)\n",
    "\n",
    "# 5. Similarity\n",
    "similarity = cosine_similarity(local_emb.cpu().numpy(), standard_emb.cpu().numpy())\n",
    "\n",
    "# 6. Match\n",
    "matches = []\n",
    "for idx, sims in tqdm(enumerate(similarity), total=len(similarity), desc=\"Matching\"):\n",
    "    best_idx = sims.argmax()\n",
    "    best_score = sims[best_idx]\n",
    "    matches.append({\n",
    "        \"ahj_description\": ahj_services[idx],\n",
    "        \"sbs_description\": sbs_services[best_idx],\n",
    "        \"similarity_score\": float(best_score)\n",
    "    })"
   ]
  },
  {
   "cell_type": "code",
   "execution_count": 118,
   "id": "92549ea1",
   "metadata": {},
   "outputs": [],
   "source": [
    "# similar_services = pd.DataFrame(matches)\n",
    "# similar_services.sort_values(\"ahj_description\").to_excel('bupa_mapped_long_services_bert.xlsx')"
   ]
  },
  {
   "cell_type": "code",
   "execution_count": null,
   "id": "31e79c49",
   "metadata": {},
   "outputs": [],
   "source": []
  },
  {
   "cell_type": "code",
   "execution_count": 119,
   "id": "e3841c70",
   "metadata": {},
   "outputs": [
    {
     "data": {
      "text/plain": [
       "((2484, 3), (2484, 3))"
      ]
     },
     "execution_count": 119,
     "metadata": {},
     "output_type": "execute_result"
    }
   ],
   "source": [
    "# Short description:\n",
    "short_similarity = pd.read_excel(\"D:\\\\CodingSystem\\\\notebooks\\\\bupa_mapped_short_services_bert.xlsx\")\n",
    "\n",
    "# Long Description:\n",
    "long_similarity = pd.read_excel(\"D:\\\\CodingSystem\\\\notebooks\\\\bupa_mapped_long_services_bert.xlsx\")\n",
    "\n",
    "short_similarity.shape, long_similarity.shape"
   ]
  },
  {
   "cell_type": "code",
   "execution_count": 120,
   "id": "880b86ae",
   "metadata": {},
   "outputs": [
    {
     "data": {
      "text/plain": [
       "(2484, 5)"
      ]
     },
     "execution_count": 120,
     "metadata": {},
     "output_type": "execute_result"
    }
   ],
   "source": [
    "common_similarity = short_similarity.merge(long_similarity, how = 'inner', on = 'AHJ_DESCRIPTION')\n",
    "common_similarity.shape"
   ]
  },
  {
   "cell_type": "code",
   "execution_count": 124,
   "id": "cf7c0f6a",
   "metadata": {},
   "outputs": [
    {
     "data": {
      "text/html": [
       "<div>\n",
       "<style scoped>\n",
       "    .dataframe tbody tr th:only-of-type {\n",
       "        vertical-align: middle;\n",
       "    }\n",
       "\n",
       "    .dataframe tbody tr th {\n",
       "        vertical-align: top;\n",
       "    }\n",
       "\n",
       "    .dataframe thead th {\n",
       "        text-align: right;\n",
       "    }\n",
       "</style>\n",
       "<table border=\"1\" class=\"dataframe\">\n",
       "  <thead>\n",
       "    <tr style=\"text-align: right;\">\n",
       "      <th></th>\n",
       "      <th>AHJ_DESCRIPTION</th>\n",
       "      <th>SBS_SHORT_DESCRIPTION</th>\n",
       "      <th>SHORT_SIMILARITY_SCORE</th>\n",
       "      <th>SBS_LONG_DESCRIPTION</th>\n",
       "      <th>LONG_SIMILARITY_SCORE</th>\n",
       "    </tr>\n",
       "  </thead>\n",
       "  <tbody>\n",
       "    <tr>\n",
       "      <th>0</th>\n",
       "      <td>Duplex u/s extracranial/carotid &amp; vert</td>\n",
       "      <td>DUPLEX U/S EXTRACRANIAL/CAROTID &amp; VERT</td>\n",
       "      <td>1.000000</td>\n",
       "      <td>DUPLEX ULTRASOUND OF EXTRACRANIAL, CAROTID AND...</td>\n",
       "      <td>0.954937</td>\n",
       "    </tr>\n",
       "    <tr>\n",
       "      <th>1</th>\n",
       "      <td>total arthroplasty of knee unilateral</td>\n",
       "      <td>TOTAL ARTHROPLASTY OF KNEE  UNILATERAL</td>\n",
       "      <td>1.000000</td>\n",
       "      <td>TOTAL ARTHROPLASTY OF KNEE, UNILATERAL</td>\n",
       "      <td>0.991215</td>\n",
       "    </tr>\n",
       "    <tr>\n",
       "      <th>2</th>\n",
       "      <td>ENDOSCOPIC BANDING OF OESOPHAGEAL VARICE</td>\n",
       "      <td>ENDOSCOPIC BANDING OF OESOPHAGEAL VARICES</td>\n",
       "      <td>0.997117</td>\n",
       "      <td>ENDOSCOPIC BANDING OF OESOPHAGEAL VARICES</td>\n",
       "      <td>0.997117</td>\n",
       "    </tr>\n",
       "    <tr>\n",
       "      <th>3</th>\n",
       "      <td>DUPLEX U/S ART/BYPS GRAFTS UPP LMB, UNI</td>\n",
       "      <td>DUPLEX U/S ART/BYPS GRAFTS UPP LMB  UNI</td>\n",
       "      <td>0.996361</td>\n",
       "      <td>GLUCOSIDASE BETA ACID (GBA) GENE VARIANT ANALY...</td>\n",
       "      <td>0.900581</td>\n",
       "    </tr>\n",
       "    <tr>\n",
       "      <th>4</th>\n",
       "      <td>CONDUCTN STUD, EMG SGL FIBRES NRV &amp; MUSC</td>\n",
       "      <td>CONDUCTN STUD  EMG SGL FIBRES NRV &amp; MUSC</td>\n",
       "      <td>0.996189</td>\n",
       "      <td>DILUTE RUSSELL VIPER VENOM TIME (DRVVT)</td>\n",
       "      <td>0.916365</td>\n",
       "    </tr>\n",
       "  </tbody>\n",
       "</table>\n",
       "</div>"
      ],
      "text/plain": [
       "                            AHJ_DESCRIPTION  \\\n",
       "0    Duplex u/s extracranial/carotid & vert   \n",
       "1     total arthroplasty of knee unilateral   \n",
       "2  ENDOSCOPIC BANDING OF OESOPHAGEAL VARICE   \n",
       "3   DUPLEX U/S ART/BYPS GRAFTS UPP LMB, UNI   \n",
       "4  CONDUCTN STUD, EMG SGL FIBRES NRV & MUSC   \n",
       "\n",
       "                       SBS_SHORT_DESCRIPTION  SHORT_SIMILARITY_SCORE  \\\n",
       "0     DUPLEX U/S EXTRACRANIAL/CAROTID & VERT                1.000000   \n",
       "1     TOTAL ARTHROPLASTY OF KNEE  UNILATERAL                1.000000   \n",
       "2  ENDOSCOPIC BANDING OF OESOPHAGEAL VARICES                0.997117   \n",
       "3    DUPLEX U/S ART/BYPS GRAFTS UPP LMB  UNI                0.996361   \n",
       "4   CONDUCTN STUD  EMG SGL FIBRES NRV & MUSC                0.996189   \n",
       "\n",
       "                                SBS_LONG_DESCRIPTION  LONG_SIMILARITY_SCORE  \n",
       "0  DUPLEX ULTRASOUND OF EXTRACRANIAL, CAROTID AND...               0.954937  \n",
       "1             TOTAL ARTHROPLASTY OF KNEE, UNILATERAL               0.991215  \n",
       "2          ENDOSCOPIC BANDING OF OESOPHAGEAL VARICES               0.997117  \n",
       "3  GLUCOSIDASE BETA ACID (GBA) GENE VARIANT ANALY...               0.900581  \n",
       "4            DILUTE RUSSELL VIPER VENOM TIME (DRVVT)               0.916365  "
      ]
     },
     "execution_count": 124,
     "metadata": {},
     "output_type": "execute_result"
    }
   ],
   "source": [
    "common_similarity.head()"
   ]
  },
  {
   "cell_type": "code",
   "execution_count": 122,
   "id": "f1f3bcba",
   "metadata": {},
   "outputs": [
    {
     "data": {
      "text/plain": [
       "10081"
      ]
     },
     "execution_count": 122,
     "metadata": {},
     "output_type": "execute_result"
    }
   ],
   "source": [
    "sbs_dict = dict(zip(sbs['Short Description'], sbs['Long Description']))\n",
    "len(sbs)"
   ]
  },
  {
   "cell_type": "code",
   "execution_count": 126,
   "id": "b56f91f1",
   "metadata": {},
   "outputs": [],
   "source": [
    "# Create a boolean mask: True where pair matches the dictionary\n",
    "mask = common_similarity.apply(\n",
    "    lambda row: sbs_dict.get(row['SBS_SHORT_DESCRIPTION'], None) == row['SBS_LONG_DESCRIPTION'],\n",
    "    axis=1\n",
    ")\n",
    "\n",
    "matched_common_similarity = common_similarity[mask].copy()"
   ]
  },
  {
   "cell_type": "code",
   "execution_count": 127,
   "id": "60c8b198",
   "metadata": {},
   "outputs": [
    {
     "data": {
      "text/plain": [
       "(602, 5)"
      ]
     },
     "execution_count": 127,
     "metadata": {},
     "output_type": "execute_result"
    }
   ],
   "source": [
    "matched_common_similarity.shape"
   ]
  },
  {
   "cell_type": "code",
   "execution_count": 131,
   "id": "2dccea96",
   "metadata": {},
   "outputs": [],
   "source": [
    "matched_common_similarity.to_excel('bupa_mapped_same_short_and_long_services_bert.xlsx')"
   ]
  },
  {
   "cell_type": "code",
   "execution_count": 136,
   "id": "ce01e819",
   "metadata": {},
   "outputs": [
    {
     "data": {
      "text/plain": [
       "(1882, 5)"
      ]
     },
     "execution_count": 136,
     "metadata": {},
     "output_type": "execute_result"
    }
   ],
   "source": [
    "unmatched_common_similarity = common_similarity[~common_similarity['AHJ_DESCRIPTION'].isin(list(matched_common_similarity['AHJ_DESCRIPTION'].unique()))]\n",
    "unmatched_common_similarity.shape"
   ]
  },
  {
   "cell_type": "code",
   "execution_count": 137,
   "id": "8663023c",
   "metadata": {},
   "outputs": [],
   "source": [
    "unmatched_common_similarity.to_excel('bupa_mapped_different_short_and_long_services_bert.xlsx')"
   ]
  }
 ],
 "metadata": {
  "kernelspec": {
   "display_name": "coding",
   "language": "python",
   "name": "python3"
  },
  "language_info": {
   "codemirror_mode": {
    "name": "ipython",
    "version": 3
   },
   "file_extension": ".py",
   "mimetype": "text/x-python",
   "name": "python",
   "nbconvert_exporter": "python",
   "pygments_lexer": "ipython3",
   "version": "3.12.11"
  }
 },
 "nbformat": 4,
 "nbformat_minor": 5
}
