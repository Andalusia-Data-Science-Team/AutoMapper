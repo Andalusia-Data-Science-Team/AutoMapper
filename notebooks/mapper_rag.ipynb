{
 "cells": [
  {
   "cell_type": "code",
   "execution_count": 1,
   "id": "352d93cd",
   "metadata": {},
   "outputs": [],
   "source": [
    "import pandas as pd\n",
    "import traceback\n",
    "\n",
    "import os\n",
    "import tiktoken\n",
    "from openai import OpenAI\n",
    "from dotenv import load_dotenv\n",
    "\n",
    "from langchain.schema import Document\n",
    "from langchain.prompts import PromptTemplate\n",
    "from langchain.embeddings import HuggingFaceEmbeddings\n",
    "from langchain.vectorstores import FAISS\n",
    "from langchain.llms.base import LLM\n",
    "from typing import List, Optional\n",
    "from langchain.chains import RetrievalQA\n",
    "\n",
    "import warnings\n",
    "warnings.filterwarnings(\"ignore\")"
   ]
  },
  {
   "cell_type": "code",
   "execution_count": 2,
   "id": "0a23979f",
   "metadata": {},
   "outputs": [
    {
     "name": "stdout",
     "output_type": "stream",
     "text": [
      "(111792, 7)\n"
     ]
    },
    {
     "data": {
      "text/html": [
       "<div>\n",
       "<style scoped>\n",
       "    .dataframe tbody tr th:only-of-type {\n",
       "        vertical-align: middle;\n",
       "    }\n",
       "\n",
       "    .dataframe tbody tr th {\n",
       "        vertical-align: top;\n",
       "    }\n",
       "\n",
       "    .dataframe thead th {\n",
       "        text-align: right;\n",
       "    }\n",
       "</style>\n",
       "<table border=\"1\" class=\"dataframe\">\n",
       "  <thead>\n",
       "    <tr style=\"text-align: right;\">\n",
       "      <th></th>\n",
       "      <th>INSURANCE_COMPANY</th>\n",
       "      <th>SERVICE_CODE</th>\n",
       "      <th>SERVICE_DESCRIPTION</th>\n",
       "      <th>PRICE</th>\n",
       "      <th>SERVICE_KEY</th>\n",
       "      <th>SERVICE_CLASSIFICATION</th>\n",
       "      <th>SERVICE_CATEGORY</th>\n",
       "    </tr>\n",
       "  </thead>\n",
       "  <tbody>\n",
       "    <tr>\n",
       "      <th>0</th>\n",
       "      <td>Cash</td>\n",
       "      <td>LA0013674</td>\n",
       "      <td>AFP**</td>\n",
       "      <td>300.000</td>\n",
       "      <td>75905</td>\n",
       "      <td>LAB Services</td>\n",
       "      <td>LAB-Hormones</td>\n",
       "    </tr>\n",
       "    <tr>\n",
       "      <th>1</th>\n",
       "      <td>Islamic Bank</td>\n",
       "      <td>LA0013674</td>\n",
       "      <td>AFP**</td>\n",
       "      <td>300.000</td>\n",
       "      <td>75905</td>\n",
       "      <td>LAB Services</td>\n",
       "      <td>LAB-Hormones</td>\n",
       "    </tr>\n",
       "    <tr>\n",
       "      <th>2</th>\n",
       "      <td>Gulf Union</td>\n",
       "      <td>LA0013674</td>\n",
       "      <td>AFP**</td>\n",
       "      <td>315.000</td>\n",
       "      <td>75905</td>\n",
       "      <td>LAB Services</td>\n",
       "      <td>LAB-Hormones</td>\n",
       "    </tr>\n",
       "    <tr>\n",
       "      <th>3</th>\n",
       "      <td>MOH</td>\n",
       "      <td>LA0013674</td>\n",
       "      <td>AFP**</td>\n",
       "      <td>393.288</td>\n",
       "      <td>75905</td>\n",
       "      <td>LAB Services</td>\n",
       "      <td>LAB-Hormones</td>\n",
       "    </tr>\n",
       "    <tr>\n",
       "      <th>4</th>\n",
       "      <td>AXA</td>\n",
       "      <td>LA0013674</td>\n",
       "      <td>AFP**</td>\n",
       "      <td>415.000</td>\n",
       "      <td>75905</td>\n",
       "      <td>LAB Services</td>\n",
       "      <td>LAB-Hormones</td>\n",
       "    </tr>\n",
       "  </tbody>\n",
       "</table>\n",
       "</div>"
      ],
      "text/plain": [
       "  INSURANCE_COMPANY SERVICE_CODE SERVICE_DESCRIPTION    PRICE  SERVICE_KEY  \\\n",
       "0              Cash    LA0013674               AFP**  300.000        75905   \n",
       "1      Islamic Bank    LA0013674               AFP**  300.000        75905   \n",
       "2        Gulf Union    LA0013674               AFP**  315.000        75905   \n",
       "3               MOH    LA0013674               AFP**  393.288        75905   \n",
       "4               AXA    LA0013674               AFP**  415.000        75905   \n",
       "\n",
       "  SERVICE_CLASSIFICATION SERVICE_CATEGORY  \n",
       "0           LAB Services     LAB-Hormones  \n",
       "1           LAB Services     LAB-Hormones  \n",
       "2           LAB Services     LAB-Hormones  \n",
       "3           LAB Services     LAB-Hormones  \n",
       "4           LAB Services     LAB-Hormones  "
      ]
     },
     "execution_count": 2,
     "metadata": {},
     "output_type": "execute_result"
    }
   ],
   "source": [
    "ahj = pd.read_excel(\"D:\\\\CodingSystem\\\\assets\\\\AHJ_PriceList.xlsx\")\n",
    "\n",
    "print(ahj.shape)\n",
    "ahj.head()"
   ]
  },
  {
   "cell_type": "code",
   "execution_count": 3,
   "id": "d6200fd1",
   "metadata": {},
   "outputs": [
    {
     "data": {
      "text/plain": [
       "(16302, 16298)"
      ]
     },
     "execution_count": 3,
     "metadata": {},
     "output_type": "execute_result"
    }
   ],
   "source": [
    "ahj['SERVICE_CODE'].nunique(), ahj['SERVICE_DESCRIPTION'].nunique()"
   ]
  },
  {
   "cell_type": "code",
   "execution_count": 4,
   "id": "31a2d2bc",
   "metadata": {},
   "outputs": [
    {
     "data": {
      "text/plain": [
       "(92164, 7)"
      ]
     },
     "execution_count": 4,
     "metadata": {},
     "output_type": "execute_result"
    }
   ],
   "source": [
    "ahj = ahj[~ahj['INSURANCE_COMPANY'].isin([0, 'Cash', 'Item Cash', 'OUTSIDE DOCTOR (CASH)'])]\n",
    "ahj.shape"
   ]
  },
  {
   "cell_type": "code",
   "execution_count": 5,
   "id": "4f34d444",
   "metadata": {},
   "outputs": [
    {
     "data": {
      "text/plain": [
       "49"
      ]
     },
     "execution_count": 5,
     "metadata": {},
     "output_type": "execute_result"
    }
   ],
   "source": [
    "ahj['INSURANCE_COMPANY'].nunique()"
   ]
  },
  {
   "cell_type": "code",
   "execution_count": 6,
   "id": "d67863f0",
   "metadata": {},
   "outputs": [
    {
     "data": {
      "text/plain": [
       "(13385, 13380)"
      ]
     },
     "execution_count": 6,
     "metadata": {},
     "output_type": "execute_result"
    }
   ],
   "source": [
    "ahj['SERVICE_CODE'].nunique(), ahj['SERVICE_DESCRIPTION'].nunique()"
   ]
  },
  {
   "cell_type": "code",
   "execution_count": 7,
   "id": "3069b67b",
   "metadata": {},
   "outputs": [
    {
     "name": "stdout",
     "output_type": "stream",
     "text": [
      "(10081, 7)\n"
     ]
    },
    {
     "data": {
      "text/html": [
       "<div>\n",
       "<style scoped>\n",
       "    .dataframe tbody tr th:only-of-type {\n",
       "        vertical-align: middle;\n",
       "    }\n",
       "\n",
       "    .dataframe tbody tr th {\n",
       "        vertical-align: top;\n",
       "    }\n",
       "\n",
       "    .dataframe thead th {\n",
       "        text-align: right;\n",
       "    }\n",
       "</style>\n",
       "<table border=\"1\" class=\"dataframe\">\n",
       "  <thead>\n",
       "    <tr style=\"text-align: right;\">\n",
       "      <th></th>\n",
       "      <th>SBS Code</th>\n",
       "      <th>SBS Code (Hyphenated)</th>\n",
       "      <th>Short Description</th>\n",
       "      <th>Long Description</th>\n",
       "      <th>Definition</th>\n",
       "      <th>Chapter Name</th>\n",
       "      <th>Block Name</th>\n",
       "    </tr>\n",
       "  </thead>\n",
       "  <tbody>\n",
       "    <tr>\n",
       "      <th>0</th>\n",
       "      <td>408030000</td>\n",
       "      <td>40803-00-00</td>\n",
       "      <td>INTRACRANIAL STEREOTACTIC LOCALISATION</td>\n",
       "      <td>INTRACRANIAL STEREOTACTIC LOCALIZATION</td>\n",
       "      <td>NaN</td>\n",
       "      <td>Procedures on nervous system</td>\n",
       "      <td>Examination of skull, meninges or brain</td>\n",
       "    </tr>\n",
       "    <tr>\n",
       "      <th>1</th>\n",
       "      <td>409030000</td>\n",
       "      <td>40903-00-00</td>\n",
       "      <td>NEUROENDOSCOPY</td>\n",
       "      <td>NEUROENDOSCOPY</td>\n",
       "      <td>NaN</td>\n",
       "      <td>Procedures on nervous system</td>\n",
       "      <td>Examination of skull, meninges or brain</td>\n",
       "    </tr>\n",
       "    <tr>\n",
       "      <th>2</th>\n",
       "      <td>390030000</td>\n",
       "      <td>39003-00-00</td>\n",
       "      <td>CISTERNAL PUNCTURE</td>\n",
       "      <td>CISTERNAL PUNCTURE</td>\n",
       "      <td>A needle placed below the occipital bone (back...</td>\n",
       "      <td>Procedures on nervous system</td>\n",
       "      <td>Cranial tap or puncture</td>\n",
       "    </tr>\n",
       "    <tr>\n",
       "      <th>3</th>\n",
       "      <td>390060000</td>\n",
       "      <td>39006-00-00</td>\n",
       "      <td>VENTRICULAR PUNCTURE</td>\n",
       "      <td>VENTRICULAR PUNCTURE</td>\n",
       "      <td>NaN</td>\n",
       "      <td>Procedures on nervous system</td>\n",
       "      <td>Cranial tap or puncture</td>\n",
       "    </tr>\n",
       "    <tr>\n",
       "      <th>4</th>\n",
       "      <td>390090000</td>\n",
       "      <td>39009-00-00</td>\n",
       "      <td>TAP FOR SUBDURAL HAEMORRHAGE</td>\n",
       "      <td>TAP FOR SUBDURAL HAEMORRHAGE</td>\n",
       "      <td>NaN</td>\n",
       "      <td>Procedures on nervous system</td>\n",
       "      <td>Cranial tap or puncture</td>\n",
       "    </tr>\n",
       "  </tbody>\n",
       "</table>\n",
       "</div>"
      ],
      "text/plain": [
       "    SBS Code SBS Code (Hyphenated)                       Short Description  \\\n",
       "0  408030000           40803-00-00  INTRACRANIAL STEREOTACTIC LOCALISATION   \n",
       "1  409030000           40903-00-00                          NEUROENDOSCOPY   \n",
       "2  390030000           39003-00-00                      CISTERNAL PUNCTURE   \n",
       "3  390060000           39006-00-00                    VENTRICULAR PUNCTURE   \n",
       "4  390090000           39009-00-00            TAP FOR SUBDURAL HAEMORRHAGE   \n",
       "\n",
       "                         Long Description  \\\n",
       "0  INTRACRANIAL STEREOTACTIC LOCALIZATION   \n",
       "1                          NEUROENDOSCOPY   \n",
       "2                      CISTERNAL PUNCTURE   \n",
       "3                    VENTRICULAR PUNCTURE   \n",
       "4            TAP FOR SUBDURAL HAEMORRHAGE   \n",
       "\n",
       "                                          Definition  \\\n",
       "0                                                NaN   \n",
       "1                                                NaN   \n",
       "2  A needle placed below the occipital bone (back...   \n",
       "3                                                NaN   \n",
       "4                                                NaN   \n",
       "\n",
       "                    Chapter Name                               Block Name  \n",
       "0  Procedures on nervous system   Examination of skull, meninges or brain  \n",
       "1  Procedures on nervous system   Examination of skull, meninges or brain  \n",
       "2  Procedures on nervous system                   Cranial tap or puncture  \n",
       "3  Procedures on nervous system                   Cranial tap or puncture  \n",
       "4  Procedures on nervous system                   Cranial tap or puncture  "
      ]
     },
     "execution_count": 7,
     "metadata": {},
     "output_type": "execute_result"
    }
   ],
   "source": [
    "sbs = pd.read_excel(\"D:\\\\CodingSystem\\\\assets\\\\SBS_Services.xlsx\")\n",
    "sbs['Short Description'] = sbs['Short Description'].str.strip().str.upper()\n",
    "sbs['Long Description'] = sbs['Long Description'].str.strip().str.upper()\n",
    "\n",
    "print(sbs.shape)\n",
    "sbs.head()"
   ]
  },
  {
   "cell_type": "code",
   "execution_count": 8,
   "id": "6005530c",
   "metadata": {},
   "outputs": [
    {
     "data": {
      "text/plain": [
       "(10081, 10079, 10076)"
      ]
     },
     "execution_count": 8,
     "metadata": {},
     "output_type": "execute_result"
    }
   ],
   "source": [
    "sbs['SBS Code (Hyphenated)'].nunique(), sbs['Short Description'].nunique(), sbs['Long Description'].nunique()"
   ]
  },
  {
   "cell_type": "code",
   "execution_count": 9,
   "id": "8f247629",
   "metadata": {},
   "outputs": [
    {
     "name": "stdout",
     "output_type": "stream",
     "text": [
      "(31081, 15)\n"
     ]
    },
    {
     "data": {
      "text/html": [
       "<div>\n",
       "<style scoped>\n",
       "    .dataframe tbody tr th:only-of-type {\n",
       "        vertical-align: middle;\n",
       "    }\n",
       "\n",
       "    .dataframe tbody tr th {\n",
       "        vertical-align: top;\n",
       "    }\n",
       "\n",
       "    .dataframe thead th {\n",
       "        text-align: right;\n",
       "    }\n",
       "</style>\n",
       "<table border=\"1\" class=\"dataframe\">\n",
       "  <thead>\n",
       "    <tr style=\"text-align: right;\">\n",
       "      <th></th>\n",
       "      <th>INSURANCE_COMPANY</th>\n",
       "      <th>SERVICE_CODE</th>\n",
       "      <th>SERVICE_DESCRIPTION</th>\n",
       "      <th>PRICE</th>\n",
       "      <th>SERVICE_KEY</th>\n",
       "      <th>SERVICE_CLASSIFICATION</th>\n",
       "      <th>SERVICE_CATEGORY</th>\n",
       "      <th>NEW_SERVICE_DESCRIPTION</th>\n",
       "      <th>SBS Code</th>\n",
       "      <th>SBS Code (Hyphenated)</th>\n",
       "      <th>Short Description</th>\n",
       "      <th>Long Description</th>\n",
       "      <th>Definition</th>\n",
       "      <th>Chapter Name</th>\n",
       "      <th>Block Name</th>\n",
       "    </tr>\n",
       "  </thead>\n",
       "  <tbody>\n",
       "    <tr>\n",
       "      <th>3977</th>\n",
       "      <td>ANDALUSIA CLINICS FOR KIDS WELLNESS-SARI</td>\n",
       "      <td>LA0009004</td>\n",
       "      <td>ORAL GLUCOSE TOLERANCE TEST</td>\n",
       "      <td>16.200</td>\n",
       "      <td>76961</td>\n",
       "      <td>LAB Services</td>\n",
       "      <td>LAB-Biochemistry</td>\n",
       "      <td>ORAL GLUCOSE TOLERANCE TEST</td>\n",
       "      <td>665420020</td>\n",
       "      <td>66542-00-20</td>\n",
       "      <td>ORAL GLUCOSE TOLERANCE TEST</td>\n",
       "      <td>ORAL GLUCOSE TOLERANCE TEST</td>\n",
       "      <td>A test that measures the body's response to su...</td>\n",
       "      <td>Non-invasive, cognitive and other intervention...</td>\n",
       "      <td>Physiological assessment</td>\n",
       "    </tr>\n",
       "    <tr>\n",
       "      <th>3978</th>\n",
       "      <td>Globe Med</td>\n",
       "      <td>LA0009004</td>\n",
       "      <td>ORAL GLUCOSE TOLERANCE TEST</td>\n",
       "      <td>100.000</td>\n",
       "      <td>76961</td>\n",
       "      <td>LAB Services</td>\n",
       "      <td>LAB-Biochemistry</td>\n",
       "      <td>ORAL GLUCOSE TOLERANCE TEST</td>\n",
       "      <td>665420020</td>\n",
       "      <td>66542-00-20</td>\n",
       "      <td>ORAL GLUCOSE TOLERANCE TEST</td>\n",
       "      <td>ORAL GLUCOSE TOLERANCE TEST</td>\n",
       "      <td>A test that measures the body's response to su...</td>\n",
       "      <td>Non-invasive, cognitive and other intervention...</td>\n",
       "      <td>Physiological assessment</td>\n",
       "    </tr>\n",
       "    <tr>\n",
       "      <th>3979</th>\n",
       "      <td>LAB TO LAB (NEW)</td>\n",
       "      <td>LA0009004</td>\n",
       "      <td>ORAL GLUCOSE TOLERANCE TEST</td>\n",
       "      <td>115.000</td>\n",
       "      <td>76961</td>\n",
       "      <td>LAB Services</td>\n",
       "      <td>LAB-Biochemistry</td>\n",
       "      <td>ORAL GLUCOSE TOLERANCE TEST</td>\n",
       "      <td>665420020</td>\n",
       "      <td>66542-00-20</td>\n",
       "      <td>ORAL GLUCOSE TOLERANCE TEST</td>\n",
       "      <td>ORAL GLUCOSE TOLERANCE TEST</td>\n",
       "      <td>A test that measures the body's response to su...</td>\n",
       "      <td>Non-invasive, cognitive and other intervention...</td>\n",
       "      <td>Physiological assessment</td>\n",
       "    </tr>\n",
       "    <tr>\n",
       "      <th>3980</th>\n",
       "      <td>Islamic Bank</td>\n",
       "      <td>LA0009004</td>\n",
       "      <td>ORAL GLUCOSE TOLERANCE TEST</td>\n",
       "      <td>131.000</td>\n",
       "      <td>76961</td>\n",
       "      <td>LAB Services</td>\n",
       "      <td>LAB-Biochemistry</td>\n",
       "      <td>ORAL GLUCOSE TOLERANCE TEST</td>\n",
       "      <td>665420020</td>\n",
       "      <td>66542-00-20</td>\n",
       "      <td>ORAL GLUCOSE TOLERANCE TEST</td>\n",
       "      <td>ORAL GLUCOSE TOLERANCE TEST</td>\n",
       "      <td>A test that measures the body's response to su...</td>\n",
       "      <td>Non-invasive, cognitive and other intervention...</td>\n",
       "      <td>Physiological assessment</td>\n",
       "    </tr>\n",
       "    <tr>\n",
       "      <th>3981</th>\n",
       "      <td>MOH</td>\n",
       "      <td>LA0009004</td>\n",
       "      <td>ORAL GLUCOSE TOLERANCE TEST</td>\n",
       "      <td>143.345</td>\n",
       "      <td>76961</td>\n",
       "      <td>LAB Services</td>\n",
       "      <td>LAB-Biochemistry</td>\n",
       "      <td>ORAL GLUCOSE TOLERANCE TEST</td>\n",
       "      <td>665420020</td>\n",
       "      <td>66542-00-20</td>\n",
       "      <td>ORAL GLUCOSE TOLERANCE TEST</td>\n",
       "      <td>ORAL GLUCOSE TOLERANCE TEST</td>\n",
       "      <td>A test that measures the body's response to su...</td>\n",
       "      <td>Non-invasive, cognitive and other intervention...</td>\n",
       "      <td>Physiological assessment</td>\n",
       "    </tr>\n",
       "  </tbody>\n",
       "</table>\n",
       "</div>"
      ],
      "text/plain": [
       "                             INSURANCE_COMPANY SERVICE_CODE  \\\n",
       "3977  ANDALUSIA CLINICS FOR KIDS WELLNESS-SARI    LA0009004   \n",
       "3978                                 Globe Med    LA0009004   \n",
       "3979                          LAB TO LAB (NEW)    LA0009004   \n",
       "3980                              Islamic Bank    LA0009004   \n",
       "3981                                       MOH    LA0009004   \n",
       "\n",
       "              SERVICE_DESCRIPTION    PRICE  SERVICE_KEY  \\\n",
       "3977  ORAL GLUCOSE TOLERANCE TEST   16.200        76961   \n",
       "3978  ORAL GLUCOSE TOLERANCE TEST  100.000        76961   \n",
       "3979  ORAL GLUCOSE TOLERANCE TEST  115.000        76961   \n",
       "3980  ORAL GLUCOSE TOLERANCE TEST  131.000        76961   \n",
       "3981  ORAL GLUCOSE TOLERANCE TEST  143.345        76961   \n",
       "\n",
       "     SERVICE_CLASSIFICATION  SERVICE_CATEGORY      NEW_SERVICE_DESCRIPTION  \\\n",
       "3977           LAB Services  LAB-Biochemistry  ORAL GLUCOSE TOLERANCE TEST   \n",
       "3978           LAB Services  LAB-Biochemistry  ORAL GLUCOSE TOLERANCE TEST   \n",
       "3979           LAB Services  LAB-Biochemistry  ORAL GLUCOSE TOLERANCE TEST   \n",
       "3980           LAB Services  LAB-Biochemistry  ORAL GLUCOSE TOLERANCE TEST   \n",
       "3981           LAB Services  LAB-Biochemistry  ORAL GLUCOSE TOLERANCE TEST   \n",
       "\n",
       "       SBS Code SBS Code (Hyphenated)            Short Description  \\\n",
       "3977  665420020           66542-00-20  ORAL GLUCOSE TOLERANCE TEST   \n",
       "3978  665420020           66542-00-20  ORAL GLUCOSE TOLERANCE TEST   \n",
       "3979  665420020           66542-00-20  ORAL GLUCOSE TOLERANCE TEST   \n",
       "3980  665420020           66542-00-20  ORAL GLUCOSE TOLERANCE TEST   \n",
       "3981  665420020           66542-00-20  ORAL GLUCOSE TOLERANCE TEST   \n",
       "\n",
       "                 Long Description  \\\n",
       "3977  ORAL GLUCOSE TOLERANCE TEST   \n",
       "3978  ORAL GLUCOSE TOLERANCE TEST   \n",
       "3979  ORAL GLUCOSE TOLERANCE TEST   \n",
       "3980  ORAL GLUCOSE TOLERANCE TEST   \n",
       "3981  ORAL GLUCOSE TOLERANCE TEST   \n",
       "\n",
       "                                             Definition  \\\n",
       "3977  A test that measures the body's response to su...   \n",
       "3978  A test that measures the body's response to su...   \n",
       "3979  A test that measures the body's response to su...   \n",
       "3980  A test that measures the body's response to su...   \n",
       "3981  A test that measures the body's response to su...   \n",
       "\n",
       "                                           Chapter Name  \\\n",
       "3977  Non-invasive, cognitive and other intervention...   \n",
       "3978  Non-invasive, cognitive and other intervention...   \n",
       "3979  Non-invasive, cognitive and other intervention...   \n",
       "3980  Non-invasive, cognitive and other intervention...   \n",
       "3981  Non-invasive, cognitive and other intervention...   \n",
       "\n",
       "                    Block Name  \n",
       "3977  Physiological assessment  \n",
       "3978  Physiological assessment  \n",
       "3979  Physiological assessment  \n",
       "3980  Physiological assessment  \n",
       "3981  Physiological assessment  "
      ]
     },
     "execution_count": 9,
     "metadata": {},
     "output_type": "execute_result"
    }
   ],
   "source": [
    "# Add new column with 'PK-' prefix removed if present:\n",
    "ahj['NEW_SERVICE_DESCRIPTION'] = ahj['SERVICE_DESCRIPTION'].str.replace(r'^(PK-)+', '', regex=True)\n",
    "\n",
    "# Merge on NEW_SERVICE_DESCRIPTION == Long Description\n",
    "merge_long = ahj.merge(\n",
    "    sbs,\n",
    "    how='left',\n",
    "    left_on='NEW_SERVICE_DESCRIPTION',\n",
    "    right_on='Long Description'\n",
    ")\n",
    "\n",
    "# Merge on NEW_SERVICE_DESCRIPTION == Short Description\n",
    "merge_short = ahj.merge(\n",
    "    sbs,\n",
    "    how='left',\n",
    "    left_on='NEW_SERVICE_DESCRIPTION',\n",
    "    right_on='Short Description'\n",
    ")\n",
    "\n",
    "# Combine the two\n",
    "exact_services = pd.concat([merge_long, merge_short])\n",
    "\n",
    "# Keep only rows with a match\n",
    "exact_services = exact_services[\n",
    "    exact_services['Long Description'].notnull() | exact_services['Short Description'].notnull()\n",
    "]\n",
    "\n",
    "# Remove duplicates if any\n",
    "exact_services = exact_services.drop_duplicates()\n",
    "\n",
    "print(exact_services.shape)\n",
    "exact_services.head()"
   ]
  },
  {
   "cell_type": "code",
   "execution_count": 10,
   "id": "f47273ef",
   "metadata": {},
   "outputs": [
    {
     "data": {
      "text/plain": [
       "(3842, 3842)"
      ]
     },
     "execution_count": 10,
     "metadata": {},
     "output_type": "execute_result"
    }
   ],
   "source": [
    "exact_services['SERVICE_CODE'].nunique(), exact_services['SERVICE_DESCRIPTION'].nunique()"
   ]
  },
  {
   "cell_type": "code",
   "execution_count": 11,
   "id": "3795943f",
   "metadata": {},
   "outputs": [
    {
     "data": {
      "text/plain": [
       "(61083, 8)"
      ]
     },
     "execution_count": 11,
     "metadata": {},
     "output_type": "execute_result"
    }
   ],
   "source": [
    "different_ahj = ahj[~ahj['SERVICE_DESCRIPTION'].isin(list(exact_services['SERVICE_DESCRIPTION'].unique()))]\n",
    "different_ahj.shape"
   ]
  },
  {
   "cell_type": "code",
   "execution_count": 12,
   "id": "974d92bb",
   "metadata": {},
   "outputs": [
    {
     "data": {
      "text/plain": [
       "(9543, 9538)"
      ]
     },
     "execution_count": 12,
     "metadata": {},
     "output_type": "execute_result"
    }
   ],
   "source": [
    "different_ahj['SERVICE_CODE'].nunique(), different_ahj['SERVICE_DESCRIPTION'].nunique()"
   ]
  },
  {
   "cell_type": "code",
   "execution_count": 12,
   "id": "8f382b82",
   "metadata": {},
   "outputs": [],
   "source": [
    "bupa_ahj = different_ahj[different_ahj['INSURANCE_COMPANY'] == 'Bupa']\n",
    "validated_unique_services = list(bupa_ahj['SERVICE_DESCRIPTION'].unique())"
   ]
  },
  {
   "cell_type": "code",
   "execution_count": 13,
   "id": "7d4ea862",
   "metadata": {},
   "outputs": [
    {
     "data": {
      "text/plain": [
       "7045"
      ]
     },
     "execution_count": 13,
     "metadata": {},
     "output_type": "execute_result"
    }
   ],
   "source": [
    "other_accounts = different_ahj[~different_ahj['SERVICE_DESCRIPTION'].isin(validated_unique_services)]\n",
    "other_accounts['SERVICE_DESCRIPTION'].nunique()"
   ]
  },
  {
   "cell_type": "code",
   "execution_count": 14,
   "id": "de189385",
   "metadata": {},
   "outputs": [
    {
     "data": {
      "text/plain": [
       "(7049, 4)"
      ]
     },
     "execution_count": 14,
     "metadata": {},
     "output_type": "execute_result"
    }
   ],
   "source": [
    "unique_ahj_services = other_accounts[['SERVICE_CODE', 'SERVICE_DESCRIPTION','SERVICE_CLASSIFICATION', 'SERVICE_CATEGORY']].drop_duplicates()\n",
    "unique_ahj_services.reset_index(drop= True, inplace= True)\n",
    "unique_ahj_services.shape"
   ]
  },
  {
   "cell_type": "code",
   "execution_count": 15,
   "id": "3eb5027a",
   "metadata": {},
   "outputs": [
    {
     "data": {
      "text/plain": [
       "(1008, 2)"
      ]
     },
     "execution_count": 15,
     "metadata": {},
     "output_type": "execute_result"
    }
   ],
   "source": [
    "services_to_be_resent = pd.read_excel(\"D:/CodingSystem/notebooks/services_to_be_resent.xlsx\")\n",
    "services_to_be_resent.shape"
   ]
  },
  {
   "cell_type": "code",
   "execution_count": 16,
   "id": "c677123a",
   "metadata": {},
   "outputs": [
    {
     "data": {
      "text/plain": [
       "(320, 5)"
      ]
     },
     "execution_count": 16,
     "metadata": {},
     "output_type": "execute_result"
    }
   ],
   "source": [
    "resent_services_results = pd.read_csv(\"D:/CodingSystem/notebooks/resent_services_results.csv\")\n",
    "resent_services_results.shape"
   ]
  },
  {
   "cell_type": "code",
   "execution_count": 17,
   "id": "8728e84f",
   "metadata": {},
   "outputs": [
    {
     "data": {
      "text/plain": [
       "(689, 2)"
      ]
     },
     "execution_count": 17,
     "metadata": {},
     "output_type": "execute_result"
    }
   ],
   "source": [
    "failed_again = services_to_be_resent[~services_to_be_resent['SERVICE_CODE'].isin(list(resent_services_results['Internal_Service_Code'].unique()))]\n",
    "failed_again.shape"
   ]
  },
  {
   "cell_type": "code",
   "execution_count": 18,
   "id": "6763eb20",
   "metadata": {},
   "outputs": [
    {
     "data": {
      "text/plain": [
       "(677, 5)"
      ]
     },
     "execution_count": 18,
     "metadata": {},
     "output_type": "execute_result"
    }
   ],
   "source": [
    "unique_failed_services = list(failed_again['SERVICE_DESCRIPTION'].unique())\n",
    "failed_ahj_services = ahj[ahj['SERVICE_DESCRIPTION'].isin(unique_failed_services)]\n",
    "failed_ahj_services = failed_ahj_services[['SERVICE_CODE', 'SERVICE_DESCRIPTION','SERVICE_CLASSIFICATION', 'SERVICE_CATEGORY']].drop_duplicates()\n",
    "failed_ahj_services.reset_index(inplace=True)\n",
    "failed_ahj_services.shape"
   ]
  },
  {
   "cell_type": "code",
   "execution_count": 13,
   "id": "4b5a7c3e",
   "metadata": {},
   "outputs": [],
   "source": [
    "class FireworksLLM(LLM):\n",
    "    model: str\n",
    "    api_key: str\n",
    "    base_url: str = \"https://api.fireworks.ai/inference/v1\"\n",
    "    temperature: float = 0\n",
    "    top_p: float = 0\n",
    "\n",
    "    @property\n",
    "    def _llm_type(self) -> str:\n",
    "        return \"fireworks\"\n",
    "\n",
    "    def _call(self, prompt: str, stop: Optional[List[str]] = None) -> str:\n",
    "        client = OpenAI(\n",
    "            api_key=self.api_key,\n",
    "            base_url=self.base_url\n",
    "        )\n",
    "\n",
    "        response = client.chat.completions.create(\n",
    "            model=self.model,\n",
    "            messages=[\n",
    "                {\"role\": \"system\", \"content\": \"You are an expert in medical coding and service mapping.\"},\n",
    "                {\"role\": \"user\", \"content\": prompt}\n",
    "            ],\n",
    "            temperature=self.temperature,\n",
    "            top_p=self.top_p\n",
    "        )\n",
    "        return response.choices[0].message.content\n",
    "\n",
    "load_dotenv()\n",
    "\n",
    "api_key = os.getenv(\"FIREWORKS_NEW_API_KEY\")\n",
    "\n",
    "fireworks_llm = FireworksLLM(\n",
    "    model=\"accounts/fireworks/models/deepseek-v3-0324\",\n",
    "    api_key=api_key,\n",
    ")\n",
    "\n",
    "def create_faiss_index(documents, embeddings_model):\n",
    "    embeddings = HuggingFaceEmbeddings(model_name=embeddings_model)\n",
    "    return FAISS.from_documents(documents, embeddings)\n",
    "\n",
    "# Create the QA Chain\n",
    "def create_rag_chain(vectorstore, prompt_template):\n",
    "    rag_chain = RetrievalQA.from_chain_type(\n",
    "        llm=fireworks_llm,\n",
    "        retriever=vectorstore.as_retriever(search_kwargs={\"k\": 3}),\n",
    "        return_source_documents=True,\n",
    "        chain_type_kwargs={\"prompt\": prompt_template}\n",
    "    )\n",
    "    return rag_chain\n",
    "\n",
    "def parse_llm_answer(answer: str):\n",
    "    best_code = \"\"\n",
    "    best_desc = \"\"\n",
    "    explanation = \"\"\n",
    "\n",
    "    for line in answer.split('\\n'):\n",
    "        if line.startswith(\"Best SBS Code:\"):\n",
    "            best_code = line.replace(\"Best SBS Code:\", \"\").strip()\n",
    "        elif line.startswith(\"Best SBS Description:\"):\n",
    "            best_desc = line.replace(\"Best SBS Description:\", \"\").strip()\n",
    "        elif line.startswith(\"Explanation:\"):\n",
    "            explanation = line.replace(\"Explanation:\", \"\").strip()\n",
    "\n",
    "    return best_code, best_desc, explanation"
   ]
  },
  {
   "cell_type": "code",
   "execution_count": 20,
   "id": "4a29878a",
   "metadata": {},
   "outputs": [],
   "source": [
    "def convert_sbs_to_docs(sbs_df):\n",
    "    docs = []\n",
    "    for _, row in sbs_df.iterrows():\n",
    "        service_text = (\n",
    "            f\"**Service Short Description:** {row.get('Short Description', 'Not Mentioned')}\\n\"\n",
    "            f\"Service Long Description: {row.get('Long Description', 'Not Mentioned')}\\n\"\n",
    "            f\"Definition: {row.get('Definition', 'Not Mentioned')}\\n\"\n",
    "            f\"Service Category: {row.get('Block Name', 'Not Mentioned')}\\n\"\n",
    "            f\"Service Classification: {row.get('Chapter Name', 'Not Mentioned')}\\n\"\n",
    "            f\"Service Code: {row.get('SBS Code (Hyphenated)', 'Not Mentioned')}\"\n",
    "        )\n",
    "        docs.append(Document(page_content=service_text.strip(), metadata={\n",
    "            \"Service Code\": row['SBS Code (Hyphenated)'],\n",
    "            \"Short Description\": row['Short Description']\n",
    "        }))\n",
    "    return docs"
   ]
  },
  {
   "cell_type": "code",
   "execution_count": 21,
   "id": "a8cf764f",
   "metadata": {},
   "outputs": [],
   "source": [
    "# Convert SBS services to documents\n",
    "sbs_docs = convert_sbs_to_docs(sbs)\n",
    "\n",
    "# Create vectorstore\n",
    "vectorstore = create_faiss_index(sbs_docs, \"sentence-transformers/all-MiniLM-L6-v2\")\n",
    "\n",
    "# Prompt: explicitly ask the LLM to show reasoning before the final answer\n",
    "prompt_template = PromptTemplate.from_template (\n",
    "       \"\"\"\n",
    "        You are an expert medical coding analyst.\n",
    "\n",
    "        You are given:\n",
    "        Internal service details:\n",
    "        {question}\n",
    "\n",
    "        And these possible standard SBS codes:\n",
    "        {context}\n",
    "\n",
    "        Your task:\n",
    "        1. Carefully compare the internal service’s description, category, and classification with each SBS option’s short and long descriptions, definition, category (Block Name), and classification (Chapter Name).\n",
    "        2. Identify the single best-matching SBS code that most accurately represents the internal service.\n",
    "        3. Provide the SBS short description for the selected code.\n",
    "        4. Write a clear, one-sentence explanation of why this SBS code is the best match, mentioning key matching aspects.\n",
    "\n",
    "        If you are unsure, pick the SBS code that has the closest clinical purpose or wording.\n",
    "\n",
    "        Respond in this exact format ONLY:\n",
    "        Best SBS Code: <code>\n",
    "        Best SBS Description: <short description>\n",
    "        Explanation: <one-sentence reason>\n",
    "        \"\"\"\n",
    ")"
   ]
  },
  {
   "cell_type": "code",
   "execution_count": 130,
   "id": "bcb750dc",
   "metadata": {},
   "outputs": [
    {
     "name": "stdout",
     "output_type": "stream",
     "text": [
      "\n",
      "🚀 Running single row test for SERVICE_CODE: LA0013674\n",
      "\n",
      "✅ LLM Result\n",
      "Best SBS Code: 73050-01-70\n",
      "Best SBS Description: AFP (TOTAL); SERUM\n",
      "Explanation: The internal service (LAB-Hormones) matches the SBS code for total alpha-fetoprotein in serum, as both specify quantitation of total AFP without isoform differentiation or amniotic fluid testing, aligning with the general hormone assay category.\n",
      "\n",
      "🔢 Prompt tokens: 23\n",
      "📝 Answer tokens: 597\n",
      "💵 Input token cost: $0.000005\n",
      "💵 Output token cost: $0.000525\n",
      "💵 Estimated total cost for this row: $0.000530\n"
     ]
    }
   ],
   "source": [
    "def test_single_row_cost(ahj_services_df, vectorstore, prompt_template, row_idx=0):\n",
    "    row = ahj_services_df.iloc[row_idx]\n",
    "\n",
    "    query = (\n",
    "        f\"Service Code: {row['SERVICE_CODE']}\\n\"\n",
    "        f\"Description: {row['SERVICE_DESCRIPTION']}\\n\"\n",
    "        f\"Classification: {row['SERVICE_CLASSIFICATION']}\\n\"\n",
    "        f\"Category: {row['SERVICE_CATEGORY']}\"\n",
    "    )\n",
    "\n",
    "    rag_chain = create_rag_chain(vectorstore, prompt_template)\n",
    "\n",
    "    print(f\"\\n🚀 Running single row test for SERVICE_CODE: {row['SERVICE_CODE']}\\n\")\n",
    "\n",
    "    response = rag_chain({\"query\": query})\n",
    "    answer = response['result']\n",
    "\n",
    "    best_code, best_desc, explanation = parse_llm_answer(answer)\n",
    "\n",
    "    print(\"✅ LLM Result\")\n",
    "    print(f\"Best SBS Code: {best_code}\")\n",
    "    print(f\"Best SBS Description: {best_desc}\")\n",
    "    print(f\"Explanation: {explanation}\")\n",
    "\n",
    "    # Use tiktoken encoding approximation for GPT-4 (or pick a close match for Qwen)\n",
    "    enc = tiktoken.encoding_for_model(\"gpt-4\")  \n",
    "\n",
    "    prompt_tokens = len(enc.encode(query))\n",
    "    answer_tokens = len(enc.encode(answer))\n",
    "\n",
    "    input_cost_per_token = 0.22 / 1_000_000\n",
    "    output_cost_per_token = 0.88 / 1_000_000\n",
    "\n",
    "    input_cost = prompt_tokens * input_cost_per_token\n",
    "    output_cost = answer_tokens * output_cost_per_token\n",
    "\n",
    "    total_cost = input_cost + output_cost\n",
    "\n",
    "    print(f\"\\n🔢 Prompt tokens: {prompt_tokens}\")\n",
    "    print(f\"📝 Answer tokens: {answer_tokens}\")\n",
    "    print(f\"💵 Input token cost: ${input_cost:.6f}\")\n",
    "    print(f\"💵 Output token cost: ${output_cost:.6f}\")\n",
    "    print(f\"💵 Estimated total cost for this row: ${total_cost:.6f}\")\n",
    "\n",
    "# ---------------------------------------------\n",
    "# ✅ Example usage\n",
    "# ---------------------------------------------\n",
    "if __name__ == \"__main__\":\n",
    "    sbs_docs = convert_sbs_to_docs(sbs)\n",
    "    vectorstore = create_faiss_index(sbs_docs, \"sentence-transformers/all-MiniLM-L6-v2\")\n",
    "\n",
    "    test_single_row_cost(\n",
    "        ahj_services_df=different_ahj,\n",
    "        vectorstore=vectorstore,\n",
    "        prompt_template=prompt_template,\n",
    "        row_idx=0  # change index to any row you want to test\n",
    "    )"
   ]
  },
  {
   "cell_type": "code",
   "execution_count": 22,
   "id": "35bfd5e7",
   "metadata": {},
   "outputs": [],
   "source": [
    "def map_service_codes(ahj_services_df, vectorstore, prompt_template):\n",
    "    rag_chain = create_rag_chain(vectorstore, prompt_template)\n",
    "\n",
    "    results_file = \"failed_services_results.csv\"\n",
    "    failures_file = \"failed_services_failures.csv\"\n",
    "\n",
    "    results_cols = [\n",
    "        \"Internal_Service_Code\",\n",
    "        \"Internal_Description\",\n",
    "        \"Matched_SBS_Code\",\n",
    "        \"Matched_SBS_Short_Description\",\n",
    "        \"LLM_Explanation\"\n",
    "    ]\n",
    "    failures_cols = ahj_services_df.columns.tolist() + [\"Error\", \"Traceback\"]\n",
    "\n",
    "    # ✅ Check for existing results to resume\n",
    "    if os.path.exists(results_file):\n",
    "        done_codes = pd.read_csv(results_file)[\"Internal_Service_Code\"].unique().tolist()\n",
    "        print(f\"🔄 Found {len(done_codes)} completed rows in checkpoint. Will skip them.\")\n",
    "    else:\n",
    "        done_codes = []\n",
    "        # Only write header if file does NOT exist\n",
    "        pd.DataFrame(columns=results_cols).to_csv(results_file, index=False)\n",
    "\n",
    "    # Same for failures file\n",
    "    if not os.path.exists(failures_file):\n",
    "        pd.DataFrame(columns=failures_cols).to_csv(failures_file, index=False)\n",
    "\n",
    "    # ✅ Skip already processed rows\n",
    "    to_process = ahj_services_df[~ahj_services_df[\"SERVICE_CODE\"].isin(done_codes)]\n",
    "    print(f\"🚀 Total to process this run: {len(to_process)} rows\")\n",
    "\n",
    "    for idx, (_, row) in enumerate(to_process.iterrows()):\n",
    "        query = (\n",
    "            f\"Service Code: {row['SERVICE_CODE']}\\n\"\n",
    "            f\"Description: {row['SERVICE_DESCRIPTION']}\\n\"\n",
    "            f\"Classification: {row['SERVICE_CLASSIFICATION']}\\n\"\n",
    "            f\"Category: {row['SERVICE_CATEGORY']}\"\n",
    "        )\n",
    "\n",
    "        try:\n",
    "            response = rag_chain({\"query\": query})\n",
    "            answer = response['result']\n",
    "\n",
    "            best_code, best_desc, explanation = parse_llm_answer(answer)\n",
    "\n",
    "            result_row = {\n",
    "                \"Internal_Service_Code\": row['SERVICE_CODE'],\n",
    "                \"Internal_Description\": row['SERVICE_DESCRIPTION'],\n",
    "                \"Matched_SBS_Code\": best_code,\n",
    "                \"Matched_SBS_Short_Description\": best_desc,\n",
    "                \"LLM_Explanation\": explanation\n",
    "            }\n",
    "\n",
    "            pd.DataFrame([result_row]).to_csv(results_file, mode='a', header=False, index=False)\n",
    "\n",
    "            print(f\"✅ Processed row {idx+1}/{len(to_process)} — {row['SERVICE_CODE']}\")\n",
    "\n",
    "        except Exception as e:\n",
    "            tb = traceback.format_exc()\n",
    "            print(f\"❌ Error at row {idx+1}/{len(to_process)}: {e}\")\n",
    "\n",
    "            failed_row = row.to_dict()\n",
    "            failed_row[\"Error\"] = str(e)\n",
    "            failed_row[\"Traceback\"] = tb\n",
    "\n",
    "            pd.DataFrame([failed_row]).to_csv(failures_file, mode='a', header=False, index=False)\n",
    "\n",
    "    print(f\"🎉 Done! All rows processed or skipped. Results: {results_file}, Failures: {failures_file}\")"
   ]
  },
  {
   "cell_type": "code",
   "execution_count": 24,
   "id": "f3dce6f3",
   "metadata": {},
   "outputs": [
    {
     "name": "stdout",
     "output_type": "stream",
     "text": [
      "🔄 Found 223 completed rows in checkpoint. Will skip them.\n",
      "🚀 Total to process this run: 455 rows\n",
      "✅ Processed row 1/455 — PR83214\n",
      "✅ Processed row 2/455 — PR83215\n",
      "✅ Processed row 3/455 — PR83242\n",
      "✅ Processed row 4/455 — PR83261\n",
      "✅ Processed row 5/455 — PR83262\n",
      "✅ Processed row 6/455 — 83303\n",
      "✅ Processed row 7/455 — PR83312\n",
      "✅ Processed row 8/455 — PR83321\n",
      "✅ Processed row 9/455 — PR83328\n",
      "✅ Processed row 10/455 — PR83338\n",
      "✅ Processed row 11/455 — PR83339\n",
      "✅ Processed row 12/455 — PR83349\n",
      "✅ Processed row 13/455 — PR83354\n",
      "✅ Processed row 14/455 — PR83355\n",
      "✅ Processed row 15/455 — PR83379\n",
      "✅ Processed row 16/455 — PR83418\n",
      "✅ Processed row 17/455 — PR83423\n",
      "✅ Processed row 18/455 — PR83428\n",
      "✅ Processed row 19/455 — PR83429\n",
      "✅ Processed row 20/455 — PR83440\n",
      "✅ Processed row 21/455 — PR83461\n",
      "✅ Processed row 22/455 — PR83466\n",
      "✅ Processed row 23/455 — PR83470\n",
      "✅ Processed row 24/455 — PR83479\n",
      "✅ Processed row 25/455 — PR83523\n",
      "✅ Processed row 26/455 — PR83576\n",
      "✅ Processed row 27/455 — PR83577\n",
      "✅ Processed row 28/455 — PR83578\n",
      "✅ Processed row 29/455 — PR83579\n",
      "✅ Processed row 30/455 — PR83581\n",
      "✅ Processed row 31/455 — PR83590\n",
      "✅ Processed row 32/455 — PR83596\n",
      "✅ Processed row 33/455 — PR83614\n",
      "✅ Processed row 34/455 — PR83615\n",
      "✅ Processed row 35/455 — PR83616\n",
      "✅ Processed row 36/455 — PR83618\n",
      "✅ Processed row 37/455 — PR83642\n",
      "✅ Processed row 38/455 — PR83643\n",
      "✅ Processed row 39/455 — XY83646\n",
      "✅ Processed row 40/455 — PR83648\n",
      "✅ Processed row 41/455 — PR83649\n",
      "✅ Processed row 42/455 — PR83650\n",
      "✅ Processed row 43/455 — ER0028325\n",
      "✅ Processed row 44/455 — DN0070916\n",
      "✅ Processed row 45/455 — DN0070939\n",
      "✅ Processed row 46/455 — DR0070992\n",
      "✅ Processed row 47/455 — DN0070949\n",
      "✅ Processed row 48/455 — DN0070952\n",
      "✅ Processed row 49/455 — DN0070959\n",
      "✅ Processed row 50/455 — DN0070964\n",
      "✅ Processed row 51/455 — DN0070968\n",
      "✅ Processed row 52/455 — DN0070812\n",
      "✅ Processed row 53/455 — DN0070778\n",
      "✅ Processed row 54/455 — DN0070783\n",
      "✅ Processed row 55/455 — DN0070828\n",
      "✅ Processed row 56/455 — DN0070864\n",
      "✅ Processed row 57/455 — DN0070865\n",
      "✅ Processed row 58/455 — DN0070840\n",
      "✅ Processed row 59/455 — DN0070854\n",
      "✅ Processed row 60/455 — DN0070772\n",
      "✅ Processed row 61/455 — ER0071061\n",
      "✅ Processed row 62/455 — GR0071208\n",
      "✅ Processed row 63/455 — EN0071114\n",
      "✅ Processed row 64/455 — AS0070258\n",
      "✅ Processed row 65/455 — AS0070266\n",
      "✅ Processed row 66/455 — AS0070267\n",
      "✅ Processed row 67/455 — AS0070279\n",
      "✅ Processed row 68/455 — CO0070433\n",
      "✅ Processed row 69/455 — AS0070181\n",
      "✅ Processed row 70/455 — AS0070182\n",
      "✅ Processed row 71/455 — AS0070233\n",
      "✅ Processed row 72/455 — AS0070234\n",
      "✅ Processed row 73/455 — AS0070237\n",
      "✅ Processed row 74/455 — AS0070240\n",
      "✅ Processed row 75/455 — AS0070245\n",
      "✅ Processed row 76/455 — AS0070247\n",
      "✅ Processed row 77/455 — AS0070248\n",
      "✅ Processed row 78/455 — AS0070250\n",
      "✅ Processed row 79/455 — AS0070253\n",
      "✅ Processed row 80/455 — AS0070213\n",
      "✅ Processed row 81/455 — AS0070214\n",
      "✅ Processed row 82/455 — AS0070215\n",
      "✅ Processed row 83/455 — AS0070218\n",
      "✅ Processed row 84/455 — DN0070665\n",
      "✅ Processed row 85/455 — DN0070748\n",
      "✅ Processed row 86/455 — DN0070753\n",
      "✅ Processed row 87/455 — DN0070754\n",
      "✅ Processed row 88/455 — DN0070755\n",
      "✅ Processed row 89/455 — DN0070756\n",
      "✅ Processed row 90/455 — DN0070760\n",
      "✅ Processed row 91/455 — DN0070761\n",
      "✅ Processed row 92/455 — DN0070762\n",
      "✅ Processed row 93/455 — DN0070763\n",
      "✅ Processed row 94/455 — DN0070656\n",
      "✅ Processed row 95/455 — DN0070731\n",
      "✅ Processed row 96/455 — DN0070583\n",
      "✅ Processed row 97/455 — CR0070338\n",
      "✅ Processed row 98/455 — CR0070339\n",
      "✅ Processed row 99/455 — DN0070628\n",
      "✅ Processed row 100/455 — DN0070629\n",
      "✅ Processed row 101/455 — DN0070630\n",
      "✅ Processed row 102/455 — DN0070627\n",
      "✅ Processed row 103/455 — ER0019049\n",
      "✅ Processed row 104/455 — ER0021020\n",
      "✅ Processed row 105/455 — ER0023581\n",
      "✅ Processed row 106/455 — DR0008010\n",
      "✅ Processed row 107/455 — HC0046817\n",
      "✅ Processed row 108/455 — OB0002010\n",
      "✅ Processed row 109/455 — SS0071364\n",
      "✅ Processed row 110/455 — SS0071370\n",
      "✅ Processed row 111/455 — AN0045691\n",
      "✅ Processed row 112/455 — OR0013048\n",
      "✅ Processed row 113/455 — OR0013073\n",
      "✅ Processed row 114/455 — OR0010692\n",
      "✅ Processed row 115/455 — OR0018103\n",
      "✅ Processed row 116/455 — OR0017074\n",
      "✅ Processed row 117/455 — OR0017121\n",
      "✅ Processed row 118/455 — OR0010672\n",
      "✅ Processed row 119/455 — OR0005124\n",
      "✅ Processed row 120/455 — OR0005133\n",
      "✅ Processed row 121/455 — OP0006023\n",
      "✅ Processed row 122/455 — OP0017408\n",
      "✅ Processed row 123/455 — OR0005047\n",
      "✅ Processed row 124/455 — OR0010589\n",
      "✅ Processed row 125/455 — OR0010631\n",
      "✅ Processed row 126/455 — OR0010645\n",
      "✅ Processed row 127/455 — OR0010576\n",
      "✅ Processed row 128/455 — OR0010575\n",
      "✅ Processed row 129/455 — OR0007064\n",
      "✅ Processed row 130/455 — OR0010450\n",
      "✅ Processed row 131/455 — OR0010457\n",
      "✅ Processed row 132/455 — OP0071459\n",
      "✅ Processed row 133/455 — OR0071668\n",
      "✅ Processed row 134/455 — GR0071236\n",
      "✅ Processed row 135/455 — MX0071321\n",
      "✅ Processed row 136/455 — MX0071303\n",
      "✅ Processed row 137/455 — PL0070565\n",
      "✅ Processed row 138/455 — PT0071520\n",
      "✅ Processed row 139/455 — PT0071523\n",
      "✅ Processed row 140/455 — PL0070551\n",
      "✅ Processed row 141/455 — PL0070550\n",
      "✅ Processed row 142/455 — PL0070531\n",
      "✅ Processed row 143/455 — PL0070536\n",
      "✅ Processed row 144/455 — PL0070460\n",
      "✅ Processed row 145/455 — OT0071482\n",
      "✅ Processed row 146/455 — PL0070508\n",
      "✅ Processed row 147/455 — PL0070469\n",
      "✅ Processed row 148/455 — PL0070470\n",
      "✅ Processed row 149/455 — PL0070471\n",
      "✅ Processed row 150/455 — PL0070472\n",
      "✅ Processed row 151/455 — PL0070477\n",
      "✅ Processed row 152/455 — PL0070478\n",
      "✅ Processed row 153/455 — PK0074497\n",
      "✅ Processed row 154/455 — PK0074556\n",
      "✅ Processed row 155/455 — PK0073785\n",
      "✅ Processed row 156/455 — PK0073787\n",
      "✅ Processed row 157/455 — PK0073783\n",
      "✅ Processed row 158/455 — PK0073797\n",
      "✅ Processed row 159/455 — PK0073761\n",
      "✅ Processed row 160/455 — PK0073763\n",
      "✅ Processed row 161/455 — PK0073777\n",
      "✅ Processed row 162/455 — PK0073852\n",
      "✅ Processed row 163/455 — PK0073854\n",
      "✅ Processed row 164/455 — PK0073865\n",
      "✅ Processed row 165/455 — PK0073869\n",
      "✅ Processed row 166/455 — PK0073836\n",
      "✅ Processed row 167/455 — PK0073838\n",
      "✅ Processed row 168/455 — PK0073730\n",
      "✅ Processed row 169/455 — PK0073712\n",
      "✅ Processed row 170/455 — PK0073716\n",
      "✅ Processed row 171/455 — PK0073718\n",
      "✅ Processed row 172/455 — PK0073877\n",
      "✅ Processed row 173/455 — PK0073942\n",
      "✅ Processed row 174/455 — PK0075251\n",
      "✅ Processed row 175/455 — PK0075229\n",
      "✅ Processed row 176/455 — PK0075316\n",
      "✅ Processed row 177/455 — PK0075340\n",
      "✅ Processed row 178/455 — PK0075194\n",
      "✅ Processed row 179/455 — PK0075211\n",
      "✅ Processed row 180/455 — PK0075217\n",
      "✅ Processed row 181/455 — PK0075162\n",
      "✅ Processed row 182/455 — PK0075516\n",
      "✅ Processed row 183/455 — PK0075530\n",
      "✅ Processed row 184/455 — PK0075465\n",
      "✅ Processed row 185/455 — PK0075458\n",
      "✅ Processed row 186/455 — PK0075461\n",
      "✅ Processed row 187/455 — PK0074650\n",
      "✅ Processed row 188/455 — PK0074720\n",
      "✅ Processed row 189/455 — PK0074989\n",
      "✅ Processed row 190/455 — PK0075093\n",
      "✅ Processed row 191/455 — PK0075043\n",
      "✅ Processed row 192/455 — PK0075048\n",
      "✅ Processed row 193/455 — PK0075049\n",
      "✅ Processed row 194/455 — PK0074917\n",
      "✅ Processed row 195/455 — PK0072376\n",
      "✅ Processed row 196/455 — PK0072375\n",
      "✅ Processed row 197/455 — PK0072358\n",
      "✅ Processed row 198/455 — PK0072366\n",
      "✅ Processed row 199/455 — PK0072370\n",
      "✅ Processed row 200/455 — PK0072563\n",
      "✅ Processed row 201/455 — PK0072567\n",
      "✅ Processed row 202/455 — PK0072578\n",
      "✅ Processed row 203/455 — PK0072557\n",
      "✅ Processed row 204/455 — PK0072619\n",
      "✅ Processed row 205/455 — PK0071763\n",
      "✅ Processed row 206/455 — PK0071918\n",
      "✅ Processed row 207/455 — PK0072106\n",
      "✅ Processed row 208/455 — PK0071948\n",
      "✅ Processed row 209/455 — PK0071920\n",
      "✅ Processed row 210/455 — PK0073178\n",
      "✅ Processed row 211/455 — PK0073180\n",
      "✅ Processed row 212/455 — PK0073187\n",
      "✅ Processed row 213/455 — PK0073189\n",
      "✅ Processed row 214/455 — PK0073191\n",
      "✅ Processed row 215/455 — PK0073194\n",
      "✅ Processed row 216/455 — PK0073503\n",
      "✅ Processed row 217/455 — PK0072794\n",
      "✅ Processed row 218/455 — PK0072795\n",
      "✅ Processed row 219/455 — PK0072887\n",
      "✅ Processed row 220/455 — PK0072683\n",
      "✅ Processed row 221/455 — PK0072668\n",
      "✅ Processed row 222/455 — PK0072728\n",
      "✅ Processed row 223/455 — PK0072737\n",
      "✅ Processed row 224/455 — PK0072738\n",
      "✅ Processed row 225/455 — PK0072739\n",
      "✅ Processed row 226/455 — PK0073074\n",
      "✅ Processed row 227/455 — PK0072920\n",
      "✅ Processed row 228/455 — PK0080898\n",
      "✅ Processed row 229/455 — PK0080908\n",
      "✅ Processed row 230/455 — PK0080914\n",
      "✅ Processed row 231/455 — PK0080853\n",
      "✅ Processed row 232/455 — PK0080854\n",
      "✅ Processed row 233/455 — PK0080856\n",
      "✅ Processed row 234/455 — PK0080858\n",
      "✅ Processed row 235/455 — PK0080865\n",
      "✅ Processed row 236/455 — PK0080871\n",
      "✅ Processed row 237/455 — PK0080880\n",
      "✅ Processed row 238/455 — PK0080986\n",
      "✅ Processed row 239/455 — PK0080957\n",
      "✅ Processed row 240/455 — PK0077320\n",
      "✅ Processed row 241/455 — PK0077321\n",
      "✅ Processed row 242/455 — PK0080812\n",
      "✅ Processed row 243/455 — PK0080826\n",
      "✅ Processed row 244/455 — PK0080837\n",
      "✅ Processed row 245/455 — PK0077361\n",
      "✅ Processed row 246/455 — PK0077359\n",
      "✅ Processed row 247/455 — PK0082601\n",
      "✅ Processed row 248/455 — PK0019859\n",
      "✅ Processed row 249/455 — PK0023292\n",
      "✅ Processed row 250/455 — PK0023293\n",
      "✅ Processed row 251/455 — PK0018679\n",
      "✅ Processed row 252/455 — PK0018665\n",
      "✅ Processed row 253/455 — PK0018666\n",
      "✅ Processed row 254/455 — PK0018674\n",
      "✅ Processed row 255/455 — PK0044121\n",
      "✅ Processed row 256/455 — PK0045826\n",
      "✅ Processed row 257/455 — PK0032233\n",
      "✅ Processed row 258/455 — PK0024857\n",
      "✅ Processed row 259/455 — PK0024055\n",
      "✅ Processed row 260/455 — PK0027533\n",
      "✅ Processed row 261/455 — PK0009886\n",
      "✅ Processed row 262/455 — PK0011814\n",
      "✅ Processed row 263/455 — PK0018020\n",
      "✅ Processed row 264/455 — PK0009563\n",
      "✅ Processed row 265/455 — PK0007200\n",
      "✅ Processed row 266/455 — PK0009288\n",
      "✅ Processed row 267/455 — PK0009553\n",
      "✅ Processed row 268/455 — PK0014692\n",
      "✅ Processed row 269/455 — PK0017026\n",
      "✅ Processed row 270/455 — PK0014466\n",
      "✅ Processed row 271/455 — PK0012920\n",
      "✅ Processed row 272/455 — PK0013049\n",
      "✅ Processed row 273/455 — PK0077094\n",
      "✅ Processed row 274/455 — PK0077169\n",
      "✅ Processed row 275/455 — PL90103\n",
      "✅ Processed row 276/455 — PL90111\n",
      "✅ Processed row 277/455 — PL90112\n",
      "✅ Processed row 278/455 — PL90116\n",
      "✅ Processed row 279/455 — PL90117\n",
      "✅ Processed row 280/455 — PL90122\n",
      "✅ Processed row 281/455 — PL90123\n",
      "✅ Processed row 282/455 — PL90132\n",
      "✅ Processed row 283/455 — PL90134\n",
      "✅ Processed row 284/455 — CA0023073\n",
      "✅ Processed row 285/455 — PL90162\n",
      "✅ Processed row 286/455 — PK0037789\n",
      "✅ Processed row 287/455 — PL90186\n",
      "✅ Processed row 288/455 — PL90190\n",
      "✅ Processed row 289/455 — PL90191\n",
      "✅ Processed row 290/455 — PL90206\n",
      "✅ Processed row 291/455 — PL90231\n",
      "✅ Processed row 292/455 — PL90233\n",
      "✅ Processed row 293/455 — PL90239\n",
      "✅ Processed row 294/455 — PL90244\n",
      "✅ Processed row 295/455 — PL90250\n",
      "✅ Processed row 296/455 — PK0027532\n",
      "✅ Processed row 297/455 — PK0031551\n",
      "✅ Processed row 298/455 — PK0031539\n",
      "✅ Processed row 299/455 — PK0030040\n",
      "✅ Processed row 300/455 — PK0031287\n",
      "✅ Processed row 301/455 — PK0031388\n",
      "✅ Processed row 302/455 — PK0035981\n",
      "✅ Processed row 303/455 — PK0036251\n",
      "✅ Processed row 304/455 — PK0036305\n",
      "✅ Processed row 305/455 — PK0031854\n",
      "✅ Processed row 306/455 — PK0032188\n",
      "✅ Processed row 307/455 — PK0031648\n",
      "✅ Processed row 308/455 — PK0032490\n",
      "✅ Processed row 309/455 — PK0033565\n",
      "✅ Processed row 310/455 — PK0032646\n",
      "✅ Processed row 311/455 — PK0027794\n",
      "✅ Processed row 312/455 — PK0027781\n",
      "✅ Processed row 313/455 — PK0027787\n",
      "✅ Processed row 314/455 — PK0027792\n",
      "✅ Processed row 315/455 — PK0031634\n",
      "✅ Processed row 316/455 — PK0028465\n",
      "✅ Processed row 317/455 — PK0027610\n",
      "✅ Processed row 318/455 — PK0027608\n",
      "✅ Processed row 319/455 — PK0029603\n",
      "✅ Processed row 320/455 — PK0029627\n",
      "✅ Processed row 321/455 — PK0029652\n",
      "✅ Processed row 322/455 — PK0029586\n",
      "✅ Processed row 323/455 — PK0036390\n",
      "✅ Processed row 324/455 — PK0030650\n",
      "✅ Processed row 325/455 — PK9007556\n",
      "✅ Processed row 326/455 — PK9007558\n",
      "✅ Processed row 327/455 — PK9007454\n",
      "✅ Processed row 328/455 — PK9007456\n",
      "✅ Processed row 329/455 — PK9007471\n",
      "✅ Processed row 330/455 — PK0082928\n",
      "✅ Processed row 331/455 — PK0082912\n",
      "✅ Processed row 332/455 — PK9007443\n",
      "✅ Processed row 333/455 — PK9007286\n",
      "✅ Processed row 334/455 — PK9007292\n",
      "✅ Processed row 335/455 — PK9007281\n",
      "✅ Processed row 336/455 — PK9007221\n",
      "✅ Processed row 337/455 — PK9007251\n",
      "✅ Processed row 338/455 — PK9007264\n",
      "✅ Processed row 339/455 — PK9007270\n",
      "✅ Processed row 340/455 — PK9007260\n",
      "✅ Processed row 341/455 — PK9007419\n",
      "✅ Processed row 342/455 — PK9007428\n",
      "✅ Processed row 343/455 — PK9007431\n",
      "✅ Processed row 344/455 — PK9007374\n",
      "✅ Processed row 345/455 — PL90613\n",
      "✅ Processed row 346/455 — PL90625\n",
      "✅ Processed row 347/455 — PL90626\n",
      "✅ Processed row 348/455 — PL90642\n",
      "✅ Processed row 349/455 — PL90646\n",
      "✅ Processed row 350/455 — PL90652\n",
      "✅ Processed row 351/455 — PL90653\n",
      "✅ Processed row 352/455 — PL90668\n",
      "✅ Processed row 353/455 — PL90672\n",
      "✅ Processed row 354/455 — PL90674\n",
      "✅ Processed row 355/455 — PL90703\n",
      "✅ Processed row 356/455 — PL90704\n",
      "✅ Processed row 357/455 — PL90705\n",
      "✅ Processed row 358/455 — PL90710\n",
      "✅ Processed row 359/455 — PK0083686\n",
      "✅ Processed row 360/455 — PK0083688\n",
      "✅ Processed row 361/455 — PL90775\n",
      "✅ Processed row 362/455 — PK0076055\n",
      "✅ Processed row 363/455 — PK0075958\n",
      "✅ Processed row 364/455 — PK0075955\n",
      "✅ Processed row 365/455 — PK0075953\n",
      "✅ Processed row 366/455 — PK0080921\n",
      "✅ Processed row 367/455 — PK0076190\n",
      "✅ Processed row 368/455 — PK0076276\n",
      "✅ Processed row 369/455 — PK0075705\n",
      "✅ Processed row 370/455 — PK0075717\n",
      "✅ Processed row 371/455 — PK0075733\n",
      "✅ Processed row 372/455 — PK0075659\n",
      "✅ Processed row 373/455 — PK0075873\n",
      "✅ Processed row 374/455 — PK0075884\n",
      "✅ Processed row 375/455 — PK0075865\n",
      "✅ Processed row 376/455 — PK0075916\n",
      "✅ Processed row 377/455 — PK0075909\n",
      "✅ Processed row 378/455 — PK0075848\n",
      "✅ Processed row 379/455 — PK0075792\n",
      "✅ Processed row 380/455 — PK0075769\n",
      "✅ Processed row 381/455 — PK0075829\n",
      "✅ Processed row 382/455 — PK0010345\n",
      "✅ Processed row 383/455 — PK0075845\n",
      "✅ Processed row 384/455 — PK0075828\n",
      "✅ Processed row 385/455 — PK0075810\n",
      "✅ Processed row 386/455 — PK0027153\n",
      "✅ Processed row 387/455 — PK0076653\n",
      "✅ Processed row 388/455 — PK0076886\n",
      "✅ Processed row 389/455 — PK0076366\n",
      "✅ Processed row 390/455 — PK0076408\n",
      "✅ Processed row 391/455 — PK0076428\n",
      "✅ Processed row 392/455 — PK0076410\n",
      "✅ Processed row 393/455 — PK0076415\n",
      "✅ Processed row 394/455 — PK0076287\n",
      "✅ Processed row 395/455 — OR0009575\n",
      "✅ Processed row 396/455 — OR0009596\n",
      "✅ Processed row 397/455 — OR0009594\n",
      "✅ Processed row 398/455 — OR0009585\n",
      "✅ Processed row 399/455 — OR0009583\n",
      "✅ Processed row 400/455 — OR0009581\n",
      "✅ Processed row 401/455 — OR0009586\n",
      "✅ Processed row 402/455 — OR0009600\n",
      "✅ Processed row 403/455 — 92636\n",
      "✅ Processed row 404/455 — 92645\n",
      "✅ Processed row 405/455 — OR9009603\n",
      "✅ Processed row 406/455 — OR0099611\n",
      "✅ Processed row 407/455 — OR0036523\n",
      "✅ Processed row 408/455 — OR9009608\n",
      "✅ Processed row 409/455 — 92659\n",
      "✅ Processed row 410/455 — OR0036521\n",
      "✅ Processed row 411/455 — OR0036514\n",
      "✅ Processed row 412/455 — 92669\n",
      "✅ Processed row 413/455 — 92675\n",
      "✅ Processed row 414/455 — PR92676\n",
      "✅ Processed row 415/455 — 92679\n",
      "✅ Processed row 416/455 — OR0009635\n",
      "✅ Processed row 417/455 — OR0009623\n",
      "✅ Processed row 418/455 — OR0009621\n",
      "✅ Processed row 419/455 — OR0009619\n",
      "✅ Processed row 420/455 — OR0009638\n",
      "✅ Processed row 421/455 — OR0009640\n",
      "✅ Processed row 422/455 — pr03981078\n",
      "✅ Processed row 423/455 — Con396116\n",
      "✅ Processed row 424/455 — PHDG090044\n",
      "✅ Processed row 425/455 — Pac11548\n",
      "✅ Processed row 426/455 — Pac11549\n",
      "✅ Processed row 427/455 — inj08911\n",
      "✅ Processed row 428/455 — AND35462\n",
      "✅ Processed row 429/455 — BB53\n",
      "✅ Processed row 430/455 — BB54\n",
      "✅ Processed row 431/455 — BB70\n",
      "✅ Processed row 432/455 — BB71\n",
      "✅ Processed row 433/455 — ER0089831\n",
      "✅ Processed row 434/455 — ER0089845\n",
      "✅ Processed row 435/455 — OT0087213\n",
      "✅ Processed row 436/455 — OT0087217\n",
      "✅ Processed row 437/455 — HC0089858\n",
      "✅ Processed row 438/455 — HC0089859\n",
      "✅ Processed row 439/455 — HC0089860\n",
      "✅ Processed row 440/455 — XY0089973\n",
      "✅ Processed row 441/455 — OB0090240\n",
      "✅ Processed row 442/455 — HC0089874\n",
      "✅ Processed row 443/455 — HC0089882\n",
      "✅ Processed row 444/455 — ER0089856\n",
      "✅ Processed row 445/455 — OB0086512\n",
      "✅ Processed row 446/455 — OB0086835\n",
      "✅ Processed row 447/455 — OB0086526\n",
      "✅ Processed row 448/455 — PK0086113\n",
      "✅ Processed row 449/455 — PK0085691\n",
      "✅ Processed row 450/455 — Pac1154101272\n",
      "✅ Processed row 451/455 — Pac1154101275\n",
      "✅ Processed row 452/455 — OF0099951\n",
      "✅ Processed row 453/455 — Pac1154101283\n",
      "✅ Processed row 454/455 — OF0099984\n",
      "✅ Processed row 455/455 — OF0099994\n",
      "🎉 Done! All rows processed or skipped. Results: failed_services_results.csv, Failures: failed_services_failures.csv\n"
     ]
    }
   ],
   "source": [
    "llm_result = map_service_codes(failed_ahj_services, vectorstore, prompt_template)"
   ]
  },
  {
   "cell_type": "code",
   "execution_count": null,
   "id": "14b9d449",
   "metadata": {},
   "outputs": [],
   "source": []
  },
  {
   "cell_type": "markdown",
   "id": "83ead172",
   "metadata": {},
   "source": [
    "# Merge Services:"
   ]
  },
  {
   "cell_type": "code",
   "execution_count": 16,
   "id": "557bc3ff",
   "metadata": {},
   "outputs": [
    {
     "data": {
      "text/plain": [
       "(10081, 7)"
      ]
     },
     "execution_count": 16,
     "metadata": {},
     "output_type": "execute_result"
    }
   ],
   "source": [
    "sbs_tabular = pd.read_excel('D:/CodingSystem/assets/SBS_Services.xlsx', sheet_name= 'tabular')\n",
    "sbs_tabular['Short Description'] = sbs_tabular['Short Description'].str.strip().str.upper()\n",
    "sbs_tabular['Long Description'] = sbs_tabular['Long Description'].str.strip().str.upper()\n",
    "sbs_tabular.rename(columns={\"Short Description\": \"SHORT_DESCRIPTION\"}, inplace= True)\n",
    "sbs_tabular.shape"
   ]
  },
  {
   "cell_type": "code",
   "execution_count": 17,
   "id": "3a38e3d4",
   "metadata": {},
   "outputs": [
    {
     "data": {
      "text/plain": [
       "(10213, 8)"
      ]
     },
     "execution_count": 17,
     "metadata": {},
     "output_type": "execute_result"
    }
   ],
   "source": [
    "sbs_technial = pd.read_excel('D:/CodingSystem/assets/SBS_Services.xlsx', sheet_name= 'technical')\n",
    "sbs_technial = sbs_technial[['Inactive date', 'Inactive Code Mapping', 'SBS Code', 'SBS Code (Hyphenated)', 'Short Description',\n",
    "                             'Long Description', 'Chapter Name', 'Block Name']]\n",
    "sbs_technial['Short Description'] = sbs_technial['Short Description'].str.strip().str.upper()\n",
    "sbs_technial['Long Description'] = sbs_technial['Long Description'].str.strip().str.upper()\n",
    "sbs_technial.rename(columns={\"Short Description\": \"SHORT_DESCRIPTION\"}, inplace= True)\n",
    "sbs_technial.shape"
   ]
  },
  {
   "cell_type": "code",
   "execution_count": 18,
   "id": "d606c3ef",
   "metadata": {},
   "outputs": [
    {
     "data": {
      "text/plain": [
       "(10081, 9)"
      ]
     },
     "execution_count": 18,
     "metadata": {},
     "output_type": "execute_result"
    }
   ],
   "source": [
    "sbs_tabular = sbs_tabular.merge(sbs_technial, how='left', on=['SBS Code', 'SBS Code (Hyphenated)', 'SHORT_DESCRIPTION',\n",
    "                             'Long Description', 'Chapter Name', 'Block Name'])\n",
    "\n",
    "sbs_tabular.shape"
   ]
  },
  {
   "cell_type": "code",
   "execution_count": 19,
   "id": "a214a221",
   "metadata": {},
   "outputs": [],
   "source": [
    "exact_services.rename(columns={'Short Description': 'SHORT_DESCRIPTION'}, inplace= True)"
   ]
  },
  {
   "cell_type": "code",
   "execution_count": 20,
   "id": "88786dbd",
   "metadata": {},
   "outputs": [
    {
     "data": {
      "text/plain": [
       "(31081, 17)"
      ]
     },
     "execution_count": 20,
     "metadata": {},
     "output_type": "execute_result"
    }
   ],
   "source": [
    "exact_ahj_services_with_revision_details = exact_services.merge(sbs_tabular, how='left', on=['SBS Code', 'SBS Code (Hyphenated)', 'SHORT_DESCRIPTION',\n",
    "                             'Long Description', 'Chapter Name', 'Block Name', 'Definition'])\n",
    "\n",
    "exact_ahj_services_with_revision_details.shape"
   ]
  },
  {
   "cell_type": "code",
   "execution_count": 21,
   "id": "eab17437",
   "metadata": {},
   "outputs": [
    {
     "data": {
      "text/plain": [
       "(9477, 5)"
      ]
     },
     "execution_count": 21,
     "metadata": {},
     "output_type": "execute_result"
    }
   ],
   "source": [
    "mapped_services = pd.read_excel(\"D:/CodingSystem/assets/mapped_services.xlsx\")\n",
    "mapped_services.rename(columns={\"SBS_DESCRIPTION\": \"SHORT_DESCRIPTION\"}, inplace= True)\n",
    "\n",
    "mapped_services.shape"
   ]
  },
  {
   "cell_type": "code",
   "execution_count": 22,
   "id": "4427df10",
   "metadata": {},
   "outputs": [
    {
     "data": {
      "text/plain": [
       "(61158, 11)"
      ]
     },
     "execution_count": 22,
     "metadata": {},
     "output_type": "execute_result"
    }
   ],
   "source": [
    "different_ahj_with_llm_result = different_ahj.merge(mapped_services, how= 'left', on=['SERVICE_CODE', 'SERVICE_DESCRIPTION'])\n",
    "different_ahj_with_llm_result.rename(columns={'SBS_CODE': 'SBS Code (Hyphenated)'}, inplace= True)\n",
    "different_ahj_with_llm_result.shape"
   ]
  },
  {
   "cell_type": "code",
   "execution_count": 23,
   "id": "8fadb92f",
   "metadata": {},
   "outputs": [],
   "source": [
    "different_ahj_with_llm_result.drop(columns=['LLM_EXPLAINATION'], inplace= True)"
   ]
  },
  {
   "cell_type": "code",
   "execution_count": 24,
   "id": "87c565b0",
   "metadata": {},
   "outputs": [
    {
     "data": {
      "text/plain": [
       "(61158, 17)"
      ]
     },
     "execution_count": 24,
     "metadata": {},
     "output_type": "execute_result"
    }
   ],
   "source": [
    "different_ahj_with_sbs_details = different_ahj_with_llm_result.merge(sbs_tabular, how= 'left', on=['SBS Code (Hyphenated)', 'SHORT_DESCRIPTION'])\n",
    "different_ahj_with_sbs_details.shape"
   ]
  },
  {
   "cell_type": "code",
   "execution_count": 25,
   "id": "66194607",
   "metadata": {},
   "outputs": [
    {
     "data": {
      "text/plain": [
       "(92239, 16)"
      ]
     },
     "execution_count": 25,
     "metadata": {},
     "output_type": "execute_result"
    }
   ],
   "source": [
    "full_mapping_df = pd.concat([exact_ahj_services_with_revision_details, different_ahj_with_sbs_details], axis=0)\n",
    "full_mapping_df.drop(columns=['NEW_SERVICE_DESCRIPTION'], inplace= True)\n",
    "full_mapping_df.shape"
   ]
  },
  {
   "cell_type": "code",
   "execution_count": 26,
   "id": "ab0400f0",
   "metadata": {},
   "outputs": [
    {
     "data": {
      "text/html": [
       "<div>\n",
       "<style scoped>\n",
       "    .dataframe tbody tr th:only-of-type {\n",
       "        vertical-align: middle;\n",
       "    }\n",
       "\n",
       "    .dataframe tbody tr th {\n",
       "        vertical-align: top;\n",
       "    }\n",
       "\n",
       "    .dataframe thead th {\n",
       "        text-align: right;\n",
       "    }\n",
       "</style>\n",
       "<table border=\"1\" class=\"dataframe\">\n",
       "  <thead>\n",
       "    <tr style=\"text-align: right;\">\n",
       "      <th></th>\n",
       "      <th>INSURANCE_COMPANY</th>\n",
       "      <th>SERVICE_CODE</th>\n",
       "      <th>SERVICE_DESCRIPTION</th>\n",
       "      <th>PRICE</th>\n",
       "      <th>SERVICE_KEY</th>\n",
       "      <th>SERVICE_CLASSIFICATION</th>\n",
       "      <th>SERVICE_CATEGORY</th>\n",
       "      <th>SBS Code</th>\n",
       "      <th>SBS Code (Hyphenated)</th>\n",
       "      <th>SHORT_DESCRIPTION</th>\n",
       "      <th>Long Description</th>\n",
       "      <th>Definition</th>\n",
       "      <th>Chapter Name</th>\n",
       "      <th>Block Name</th>\n",
       "      <th>Inactive date</th>\n",
       "      <th>Inactive Code Mapping</th>\n",
       "    </tr>\n",
       "  </thead>\n",
       "  <tbody>\n",
       "    <tr>\n",
       "      <th>0</th>\n",
       "      <td>ANDALUSIA CLINICS FOR KIDS WELLNESS-SARI</td>\n",
       "      <td>LA0009004</td>\n",
       "      <td>ORAL GLUCOSE TOLERANCE TEST</td>\n",
       "      <td>16.200</td>\n",
       "      <td>76961</td>\n",
       "      <td>LAB Services</td>\n",
       "      <td>LAB-Biochemistry</td>\n",
       "      <td>665420020</td>\n",
       "      <td>66542-00-20</td>\n",
       "      <td>ORAL GLUCOSE TOLERANCE TEST</td>\n",
       "      <td>ORAL GLUCOSE TOLERANCE TEST</td>\n",
       "      <td>A test that measures the body's response to su...</td>\n",
       "      <td>Non-invasive, cognitive and other intervention...</td>\n",
       "      <td>Physiological assessment</td>\n",
       "      <td>NaT</td>\n",
       "      <td>NaN</td>\n",
       "    </tr>\n",
       "    <tr>\n",
       "      <th>1</th>\n",
       "      <td>Globe Med</td>\n",
       "      <td>LA0009004</td>\n",
       "      <td>ORAL GLUCOSE TOLERANCE TEST</td>\n",
       "      <td>100.000</td>\n",
       "      <td>76961</td>\n",
       "      <td>LAB Services</td>\n",
       "      <td>LAB-Biochemistry</td>\n",
       "      <td>665420020</td>\n",
       "      <td>66542-00-20</td>\n",
       "      <td>ORAL GLUCOSE TOLERANCE TEST</td>\n",
       "      <td>ORAL GLUCOSE TOLERANCE TEST</td>\n",
       "      <td>A test that measures the body's response to su...</td>\n",
       "      <td>Non-invasive, cognitive and other intervention...</td>\n",
       "      <td>Physiological assessment</td>\n",
       "      <td>NaT</td>\n",
       "      <td>NaN</td>\n",
       "    </tr>\n",
       "    <tr>\n",
       "      <th>2</th>\n",
       "      <td>LAB TO LAB (NEW)</td>\n",
       "      <td>LA0009004</td>\n",
       "      <td>ORAL GLUCOSE TOLERANCE TEST</td>\n",
       "      <td>115.000</td>\n",
       "      <td>76961</td>\n",
       "      <td>LAB Services</td>\n",
       "      <td>LAB-Biochemistry</td>\n",
       "      <td>665420020</td>\n",
       "      <td>66542-00-20</td>\n",
       "      <td>ORAL GLUCOSE TOLERANCE TEST</td>\n",
       "      <td>ORAL GLUCOSE TOLERANCE TEST</td>\n",
       "      <td>A test that measures the body's response to su...</td>\n",
       "      <td>Non-invasive, cognitive and other intervention...</td>\n",
       "      <td>Physiological assessment</td>\n",
       "      <td>NaT</td>\n",
       "      <td>NaN</td>\n",
       "    </tr>\n",
       "    <tr>\n",
       "      <th>3</th>\n",
       "      <td>Islamic Bank</td>\n",
       "      <td>LA0009004</td>\n",
       "      <td>ORAL GLUCOSE TOLERANCE TEST</td>\n",
       "      <td>131.000</td>\n",
       "      <td>76961</td>\n",
       "      <td>LAB Services</td>\n",
       "      <td>LAB-Biochemistry</td>\n",
       "      <td>665420020</td>\n",
       "      <td>66542-00-20</td>\n",
       "      <td>ORAL GLUCOSE TOLERANCE TEST</td>\n",
       "      <td>ORAL GLUCOSE TOLERANCE TEST</td>\n",
       "      <td>A test that measures the body's response to su...</td>\n",
       "      <td>Non-invasive, cognitive and other intervention...</td>\n",
       "      <td>Physiological assessment</td>\n",
       "      <td>NaT</td>\n",
       "      <td>NaN</td>\n",
       "    </tr>\n",
       "    <tr>\n",
       "      <th>4</th>\n",
       "      <td>MOH</td>\n",
       "      <td>LA0009004</td>\n",
       "      <td>ORAL GLUCOSE TOLERANCE TEST</td>\n",
       "      <td>143.345</td>\n",
       "      <td>76961</td>\n",
       "      <td>LAB Services</td>\n",
       "      <td>LAB-Biochemistry</td>\n",
       "      <td>665420020</td>\n",
       "      <td>66542-00-20</td>\n",
       "      <td>ORAL GLUCOSE TOLERANCE TEST</td>\n",
       "      <td>ORAL GLUCOSE TOLERANCE TEST</td>\n",
       "      <td>A test that measures the body's response to su...</td>\n",
       "      <td>Non-invasive, cognitive and other intervention...</td>\n",
       "      <td>Physiological assessment</td>\n",
       "      <td>NaT</td>\n",
       "      <td>NaN</td>\n",
       "    </tr>\n",
       "  </tbody>\n",
       "</table>\n",
       "</div>"
      ],
      "text/plain": [
       "                          INSURANCE_COMPANY SERVICE_CODE  \\\n",
       "0  ANDALUSIA CLINICS FOR KIDS WELLNESS-SARI    LA0009004   \n",
       "1                                 Globe Med    LA0009004   \n",
       "2                          LAB TO LAB (NEW)    LA0009004   \n",
       "3                              Islamic Bank    LA0009004   \n",
       "4                                       MOH    LA0009004   \n",
       "\n",
       "           SERVICE_DESCRIPTION    PRICE  SERVICE_KEY SERVICE_CLASSIFICATION  \\\n",
       "0  ORAL GLUCOSE TOLERANCE TEST   16.200        76961           LAB Services   \n",
       "1  ORAL GLUCOSE TOLERANCE TEST  100.000        76961           LAB Services   \n",
       "2  ORAL GLUCOSE TOLERANCE TEST  115.000        76961           LAB Services   \n",
       "3  ORAL GLUCOSE TOLERANCE TEST  131.000        76961           LAB Services   \n",
       "4  ORAL GLUCOSE TOLERANCE TEST  143.345        76961           LAB Services   \n",
       "\n",
       "   SERVICE_CATEGORY   SBS Code SBS Code (Hyphenated)  \\\n",
       "0  LAB-Biochemistry  665420020           66542-00-20   \n",
       "1  LAB-Biochemistry  665420020           66542-00-20   \n",
       "2  LAB-Biochemistry  665420020           66542-00-20   \n",
       "3  LAB-Biochemistry  665420020           66542-00-20   \n",
       "4  LAB-Biochemistry  665420020           66542-00-20   \n",
       "\n",
       "             SHORT_DESCRIPTION             Long Description  \\\n",
       "0  ORAL GLUCOSE TOLERANCE TEST  ORAL GLUCOSE TOLERANCE TEST   \n",
       "1  ORAL GLUCOSE TOLERANCE TEST  ORAL GLUCOSE TOLERANCE TEST   \n",
       "2  ORAL GLUCOSE TOLERANCE TEST  ORAL GLUCOSE TOLERANCE TEST   \n",
       "3  ORAL GLUCOSE TOLERANCE TEST  ORAL GLUCOSE TOLERANCE TEST   \n",
       "4  ORAL GLUCOSE TOLERANCE TEST  ORAL GLUCOSE TOLERANCE TEST   \n",
       "\n",
       "                                          Definition  \\\n",
       "0  A test that measures the body's response to su...   \n",
       "1  A test that measures the body's response to su...   \n",
       "2  A test that measures the body's response to su...   \n",
       "3  A test that measures the body's response to su...   \n",
       "4  A test that measures the body's response to su...   \n",
       "\n",
       "                                        Chapter Name  \\\n",
       "0  Non-invasive, cognitive and other intervention...   \n",
       "1  Non-invasive, cognitive and other intervention...   \n",
       "2  Non-invasive, cognitive and other intervention...   \n",
       "3  Non-invasive, cognitive and other intervention...   \n",
       "4  Non-invasive, cognitive and other intervention...   \n",
       "\n",
       "                 Block Name Inactive date Inactive Code Mapping  \n",
       "0  Physiological assessment           NaT                   NaN  \n",
       "1  Physiological assessment           NaT                   NaN  \n",
       "2  Physiological assessment           NaT                   NaN  \n",
       "3  Physiological assessment           NaT                   NaN  \n",
       "4  Physiological assessment           NaT                   NaN  "
      ]
     },
     "execution_count": 26,
     "metadata": {},
     "output_type": "execute_result"
    }
   ],
   "source": [
    "full_mapping_df.head()"
   ]
  },
  {
   "cell_type": "code",
   "execution_count": 27,
   "id": "5424d0f2",
   "metadata": {},
   "outputs": [],
   "source": [
    "full_mapping_df.to_excel(\"full_mappings.xlsx\")"
   ]
  },
  {
   "cell_type": "code",
   "execution_count": 137,
   "id": "529c6a97",
   "metadata": {},
   "outputs": [],
   "source": [
    "mappig_sample = full_mapping_df.sample(n=500)"
   ]
  },
  {
   "cell_type": "code",
   "execution_count": 138,
   "id": "af3533ea",
   "metadata": {},
   "outputs": [
    {
     "data": {
      "text/plain": [
       "(500, 16)"
      ]
     },
     "execution_count": 138,
     "metadata": {},
     "output_type": "execute_result"
    }
   ],
   "source": [
    "mappig_sample.shape"
   ]
  },
  {
   "cell_type": "code",
   "execution_count": 139,
   "id": "c6dec7c8",
   "metadata": {},
   "outputs": [],
   "source": [
    "mappig_sample.to_excel('second_mapping_sample.xlsx')"
   ]
  },
  {
   "cell_type": "code",
   "execution_count": null,
   "id": "d5c4fff2",
   "metadata": {},
   "outputs": [],
   "source": []
  },
  {
   "cell_type": "code",
   "execution_count": null,
   "id": "5566085b",
   "metadata": {},
   "outputs": [],
   "source": []
  },
  {
   "cell_type": "code",
   "execution_count": null,
   "id": "f788dadd",
   "metadata": {},
   "outputs": [],
   "source": []
  }
 ],
 "metadata": {
  "kernelspec": {
   "display_name": "coding",
   "language": "python",
   "name": "python3"
  },
  "language_info": {
   "codemirror_mode": {
    "name": "ipython",
    "version": 3
   },
   "file_extension": ".py",
   "mimetype": "text/x-python",
   "name": "python",
   "nbconvert_exporter": "python",
   "pygments_lexer": "ipython3",
   "version": "3.12.11"
  }
 },
 "nbformat": 4,
 "nbformat_minor": 5
}
