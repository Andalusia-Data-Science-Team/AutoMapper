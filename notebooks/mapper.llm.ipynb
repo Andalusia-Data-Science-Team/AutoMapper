{
 "cells": [
  {
   "cell_type": "code",
   "execution_count": 2,
   "id": "b597e437",
   "metadata": {},
   "outputs": [],
   "source": [
    "import os\n",
    "from dotenv import load_dotenv\n",
    "import pandas as pd\n",
    "import json\n",
    "import re\n",
    "from openai import OpenAI\n",
    "from langchain.llms.base import LLM\n",
    "from groq import Groq\n",
    "from typing import List, Optional\n",
    "import time\n",
    "from tqdm import tqdm"
   ]
  },
  {
   "cell_type": "code",
   "execution_count": 2,
   "id": "436fbfc7",
   "metadata": {},
   "outputs": [
    {
     "data": {
      "text/plain": [
       "((2484, 3), (2484, 3))"
      ]
     },
     "execution_count": 2,
     "metadata": {},
     "output_type": "execute_result"
    }
   ],
   "source": [
    "# Short description:\n",
    "short_similarity = pd.read_excel(\"D:\\\\CodingSystem\\\\notebooks\\\\bupa_mapped_short_services_bert.xlsx\")\n",
    "\n",
    "# Long Description:\n",
    "long_similarity = pd.read_excel(\"D:\\\\CodingSystem\\\\notebooks\\\\bupa_mapped_long_services_bert.xlsx\")\n",
    "\n",
    "short_similarity.shape, long_similarity.shape"
   ]
  },
  {
   "cell_type": "code",
   "execution_count": 3,
   "id": "297b5c94",
   "metadata": {},
   "outputs": [],
   "source": [
    "class FireworksLLM(LLM):\n",
    "    model: str\n",
    "    api_key: str\n",
    "    base_url: str = \"https://api.fireworks.ai/inference/v1\"\n",
    "    temperature: float = 0\n",
    "    top_p: float = 0\n",
    "\n",
    "    @property\n",
    "    def _llm_type(self) -> str:\n",
    "        return \"fireworks\"\n",
    "\n",
    "    def _call(self, prompt: str, stop: Optional[List[str]] = None) -> str:\n",
    "        client = OpenAI(\n",
    "            api_key=self.api_key,\n",
    "            base_url=self.base_url\n",
    "        )\n",
    "\n",
    "        response = client.chat.completions.create(\n",
    "            model=self.model,\n",
    "            messages=[\n",
    "                {\"role\": \"system\", \"content\": \"You are an expert in medical coding and service mapping.\"},\n",
    "                {\"role\": \"user\", \"content\": prompt}\n",
    "            ],\n",
    "            temperature=self.temperature,\n",
    "            top_p=self.top_p\n",
    "        )\n",
    "        return response.choices[0].message.content\n",
    "\n",
    "load_dotenv()\n",
    "\n",
    "api_key = os.getenv(\"FIREWORKS_API_KEY\")\n",
    "\n",
    "fireworks_llm = FireworksLLM(\n",
    "    model=\"accounts/fireworks/models/qwen3-235b-a22b\",\n",
    "    api_key=api_key,\n",
    ")"
   ]
  },
  {
   "cell_type": "code",
   "execution_count": 4,
   "id": "f0c39ef5",
   "metadata": {},
   "outputs": [],
   "source": [
    "def safe_json_parse(response_text: str):\n",
    "    \"\"\"\n",
    "    Extract and parse ONLY the first valid JSON object or array.\n",
    "    \"\"\"\n",
    "    cleaned = response_text.strip()\n",
    "\n",
    "    # Remove accidental ```json or ``` \n",
    "    cleaned = re.sub(r\"^```json|```$\", \"\", cleaned, flags=re.IGNORECASE).strip()\n",
    "\n",
    "    # Extract first JSON array\n",
    "    match = re.search(r\"(\\[.*?\\])\", cleaned, re.DOTALL)\n",
    "    if not match:\n",
    "        raise ValueError(\"No valid JSON array found in LLM response.\")\n",
    "\n",
    "    json_str = match.group(1)\n",
    "    return json.loads(json_str)\n",
    "\n",
    "def safe_json_parse_row_validation(response_text: str):\n",
    "    \"\"\"\n",
    "    Strip code fences, trim, and parse JSON safely.\n",
    "    \"\"\"\n",
    "    cleaned = response_text.strip()\n",
    "    # Remove code fences if any\n",
    "    if cleaned.startswith(\"```\"):\n",
    "        cleaned = cleaned.strip(\"```\").strip()\n",
    "    # Try to find first { ... }\n",
    "    if not cleaned.startswith(\"{\"):\n",
    "        first_brace = cleaned.find(\"{\")\n",
    "        if first_brace != -1:\n",
    "            cleaned = cleaned[first_brace:]\n",
    "    return json.loads(cleaned)\n",
    "\n",
    "def sanitize_description(text):\n",
    "    \"\"\"\n",
    "    Clean up extra whitespace and brackets if needed.\n",
    "    \"\"\"\n",
    "    if pd.isna(text):\n",
    "        return \"\"\n",
    "    return str(text).strip().replace(\"\\n\", \" \")"
   ]
  },
  {
   "cell_type": "markdown",
   "id": "6109c7ce",
   "metadata": {},
   "source": [
    "# Short Validaion:"
   ]
  },
  {
   "cell_type": "code",
   "execution_count": null,
   "id": "1dced32c",
   "metadata": {},
   "outputs": [],
   "source": [
    "def validate_mappings_batched_resume(\n",
    "    full_df: pd.DataFrame,\n",
    "    llm,\n",
    "    checkpoint_file: str = \"bupa_llm_validation_results.csv\",\n",
    "    batch_size: int = 10\n",
    "):\n",
    "    \"\"\"\n",
    "    Validate pairs in batches, resume from checkpoint,\n",
    "    and save failed batches' rows for later inspection.\n",
    "    \"\"\"\n",
    "\n",
    "    # Load checkpoint if exists\n",
    "    try:\n",
    "        results_df = pd.read_csv(checkpoint_file)\n",
    "        validated_indices = set(results_df[\"row_idx\"])\n",
    "        print(f\"✅ Found checkpoint: {len(validated_indices)} rows already validated.\")\n",
    "    except FileNotFoundError:\n",
    "        results_df = pd.DataFrame(columns=[\n",
    "            \"row_idx\", \"AHJ_DESCRIPTION\", \"SBS_SHORT_DESCRIPTION\",\n",
    "            \"Similarity\", \"LLM_Answer\", \"Reason\"\n",
    "        ])\n",
    "        validated_indices = set()\n",
    "        print(f\"🆕 No checkpoint found. Starting fresh!\")\n",
    "\n",
    "    unvalidated_mask = ~full_df.index.isin(validated_indices)\n",
    "    to_validate_df = full_df[unvalidated_mask]\n",
    "\n",
    "    print(f\"🔍 Total rows: {len(full_df)}\")\n",
    "    print(f\"✅ Already validated: {len(validated_indices)}\")\n",
    "    print(f\"⚡ Still to validate: {len(to_validate_df)}\")\n",
    "\n",
    "    all_results = results_df.to_dict(orient=\"records\")\n",
    "    failed_rows = []\n",
    "\n",
    "    def process_batch(start, end, batch):\n",
    "        nonlocal validated_indices, all_results, failed_rows\n",
    "\n",
    "        prompt = (\n",
    "            \"You are an expert in medical coding and service mapping.\\n\\n\"\n",
    "            \"Below is a list of AHJ_DESCRIPTION and SBS_SHORT_DESCRIPTION pairs.\\n\\n\"\n",
    "            \"For each pair:\\n\"\n",
    "            \"- Decide if the AHJ_DESCRIPTION correctly maps to the SBS_SHORT_DESCRIPTION,\\n\"\n",
    "            \"  OR if the SBS_SHORT_DESCRIPTION is a valid generalization, broader category, or plural of the AHJ_DESCRIPTION,\\n\"\n",
    "            \"  OR if the AHJ_DESCRIPTION is a valid generalization, broader category, or plural of the SBS_SHORT_DESCRIPTION.\\n\\n\"\n",
    "            \"Important:\\n\"\n",
    "            \"• Be careful: 'unilateral' and 'bilateral' are different and should NOT be treated the same.\\n\"\n",
    "            \"• Small punctuation differences such as (hyphens, brackets, commas) do not affect the meaning.\\n\"\n",
    "            \"• If you are unsure, answer NO. Do not guess.\\n\\n\"\n",
    "            \"Examples:\\n\"\n",
    "            \"✔ 'LEFT KNEE ARTHROSCOPY' vs. 'KNEE ARTHROSCOPY' → YES (valid generalization)\\n\"\n",
    "            \"✔ 'PORCELAIN FUSED TO METAL CROWN' vs. 'PORCELAIN FUSED TO BASE METAL CROWN' → YES (valid generalization)\\n\"\n",
    "            \"✔ 'ENDOSCOPIC BANDING OF OESOPHAGEAL VARICE' vs. 'ENDOSCOPIC BANDING OF OESOPHAGEAL VARICES' → YES (plural)\\n\"\n",
    "            \"❌ 'UNILATERAL MASTECTOMY' vs. 'BILATERAL MASTECTOMY' → NO (different laterality)\\n\\n\"\n",
    "            \"✅ You MUST follow these rules:\\n\"\n",
    "            \"1. Return only valid JSON.\\n\"\n",
    "            \"2. Do NOT include ```json, markdown, or any other text.\\n\"\n",
    "            \"3. Return ONLY the JSON array and nothing else.\\n\"\n",
    "            \"4. ✅ Return ONLY a single valid JSON object and nothing else.\\n\"\n",
    "            \"5. ❌ Do not return plain text or an array.\\n\"\n",
    "            \"6. Format: [{\\\"index\\\": 0, \\\"answer\\\": \\\"YES\\\", \\\"reason\\\": \\\"...\\\"}, ...]\\n\\n\"\n",
    "            \"If you break these rules, you will fail.\\n\\n\"\n",
    "            \"Pairs:\\n\"\n",
    "        )\n",
    "\n",
    "        for i, (_, row) in enumerate(batch.iterrows()):\n",
    "            ahj_desc = sanitize_description(row['AHJ_DESCRIPTION'])\n",
    "            sbs_desc = sanitize_description(row['SBS_SHORT_DESCRIPTION'])\n",
    "            prompt += f\"{i})\\n\"\n",
    "            prompt += f\"- AHJ_DESCRIPTION: \\\"{ahj_desc}\\\"\\n\"\n",
    "            prompt += f\"- SBS_SHORT_DESCRIPTION: \\\"{sbs_desc}\\\"\\n\\n\"\n",
    "\n",
    "        answers = None\n",
    "        max_retries = 3\n",
    "\n",
    "        for attempt in range(max_retries):\n",
    "            try:\n",
    "                response_text = llm._call(prompt)\n",
    "                print(f\"🔍 Raw LLM response for batch {start}-{end}:\\n{response_text}\\n\")  # Debug!\n",
    "                answers = safe_json_parse(response_text)\n",
    "                break\n",
    "            except Exception as e:\n",
    "                print(f\"⚠️ Error for batch {start}-{end} attempt {attempt+1}: {e}\")\n",
    "                if attempt < max_retries - 1:\n",
    "                    print(f\"🔁 Retrying batch {start}-{end} (attempt {attempt+2}/{max_retries})...\")\n",
    "                    time.sleep(5)\n",
    "\n",
    "        if answers is None:\n",
    "            print(f\"❌ Batch {start}-{end} failed after {max_retries} attempts. Saving rows to failed_rows.\")\n",
    "            failed_rows.extend(batch.index.values.tolist())\n",
    "            return\n",
    "\n",
    "        for i, ans in enumerate(answers):\n",
    "            idx = batch.index[i]\n",
    "            row = batch.iloc[i]\n",
    "            all_results.append({\n",
    "                \"row_idx\": idx,\n",
    "                \"AHJ_DESCRIPTION\": row[\"AHJ_DESCRIPTION\"],\n",
    "                \"SBS_SHORT_DESCRIPTION\": row[\"SBS_SHORT_DESCRIPTION\"],\n",
    "                \"Similarity\": row.get(\"SHORT_SIMILARITY_SCORE\", \"\"),\n",
    "                \"LLM_Answer\": ans[\"answer\"].strip().upper(),\n",
    "                \"Reason\": ans.get(\"reason\", \"\").strip()\n",
    "            })\n",
    "            validated_indices.add(idx)\n",
    "\n",
    "        pd.DataFrame(all_results).to_csv(checkpoint_file, index=False)\n",
    "        print(f\"✅ Saved checkpoint: {len(validated_indices)} rows validated.\")\n",
    "        time.sleep(1)\n",
    "\n",
    "    for start in tqdm(range(0, len(to_validate_df), batch_size)):\n",
    "        end = min(start + batch_size, len(to_validate_df))\n",
    "        batch = to_validate_df.iloc[start:end].copy()\n",
    "        process_batch(start, end, batch)\n",
    "\n",
    "    if failed_rows:\n",
    "        failed_df = full_df.loc[failed_rows]\n",
    "        failed_df.to_csv(\"bupa_failed_rows.csv\", index_label=\"row_idx\")\n",
    "        print(f\"💾 Saved {len(failed_rows)} failed rows to bupa_failed_rows.csv for later retry or review.\")\n",
    "\n",
    "    final_df = pd.DataFrame(all_results).sort_values(\"row_idx\")\n",
    "    return final_df"
   ]
  },
  {
   "cell_type": "code",
   "execution_count": 10,
   "id": "dfb36ca7",
   "metadata": {},
   "outputs": [
    {
     "name": "stdout",
     "output_type": "stream",
     "text": [
      "✅ Found checkpoint: 1460 rows already validated.\n",
      "🔍 Total rows: 2484\n",
      "✅ Already validated: 1460\n",
      "⚡ Still to validate: 1024\n"
     ]
    },
    {
     "name": "stderr",
     "output_type": "stream",
     "text": [
      "  0%|          | 0/103 [00:00<?, ?it/s]"
     ]
    },
    {
     "name": "stdout",
     "output_type": "stream",
     "text": [
      "⚠️ Error for batch 0-10 attempt 1: No valid JSON found in response\n",
      "🔁 Retrying batch 0-10 (attempt 2/3)...\n",
      "⚠️ Error for batch 0-10 attempt 2: No valid JSON found in response\n",
      "🔁 Retrying batch 0-10 (attempt 3/3)...\n"
     ]
    },
    {
     "name": "stderr",
     "output_type": "stream",
     "text": [
      "  1%|          | 1/103 [01:36<2:44:27, 96.74s/it]"
     ]
    },
    {
     "name": "stdout",
     "output_type": "stream",
     "text": [
      "⚠️ Error for batch 0-10 attempt 3: No valid JSON found in response\n",
      "❌ Batch 0-10 failed after 3 attempts. Saving rows to failed_rows.\n",
      "⚠️ Error for batch 10-20 attempt 1: No valid JSON found in response\n",
      "🔁 Retrying batch 10-20 (attempt 2/3)...\n",
      "⚠️ Error for batch 10-20 attempt 2: No valid JSON found in response\n",
      "🔁 Retrying batch 10-20 (attempt 3/3)...\n"
     ]
    },
    {
     "name": "stderr",
     "output_type": "stream",
     "text": [
      "  2%|▏         | 2/103 [03:31<3:00:36, 107.29s/it]"
     ]
    },
    {
     "name": "stdout",
     "output_type": "stream",
     "text": [
      "⚠️ Error for batch 10-20 attempt 3: No valid JSON found in response\n",
      "❌ Batch 10-20 failed after 3 attempts. Saving rows to failed_rows.\n",
      "⚠️ Error for batch 20-30 attempt 1: Extra data: line 13 column 1 (char 1138)\n",
      "🔁 Retrying batch 20-30 (attempt 2/3)...\n",
      "⚠️ Error for batch 20-30 attempt 2: No valid JSON found in response\n",
      "🔁 Retrying batch 20-30 (attempt 3/3)...\n"
     ]
    },
    {
     "name": "stderr",
     "output_type": "stream",
     "text": [
      "  3%|▎         | 3/103 [06:40<4:01:02, 144.63s/it]"
     ]
    },
    {
     "name": "stdout",
     "output_type": "stream",
     "text": [
      "⚠️ Error for batch 20-30 attempt 3: No valid JSON found in response\n",
      "❌ Batch 20-30 failed after 3 attempts. Saving rows to failed_rows.\n",
      "✅ Saved checkpoint: 1470 rows validated.\n"
     ]
    },
    {
     "name": "stderr",
     "output_type": "stream",
     "text": [
      "  4%|▍         | 4/103 [06:58<2:36:01, 94.56s/it] "
     ]
    },
    {
     "name": "stdout",
     "output_type": "stream",
     "text": [
      "✅ Saved checkpoint: 1480 rows validated.\n"
     ]
    },
    {
     "name": "stderr",
     "output_type": "stream",
     "text": [
      "  5%|▍         | 5/103 [07:10<1:46:11, 65.02s/it]"
     ]
    },
    {
     "name": "stdout",
     "output_type": "stream",
     "text": [
      "✅ Saved checkpoint: 1490 rows validated.\n"
     ]
    },
    {
     "name": "stderr",
     "output_type": "stream",
     "text": [
      "  6%|▌         | 6/103 [07:22<1:15:32, 46.73s/it]"
     ]
    },
    {
     "name": "stdout",
     "output_type": "stream",
     "text": [
      "✅ Saved checkpoint: 1500 rows validated.\n"
     ]
    },
    {
     "name": "stderr",
     "output_type": "stream",
     "text": [
      "  7%|▋         | 7/103 [08:09<1:15:08, 46.96s/it]"
     ]
    },
    {
     "name": "stdout",
     "output_type": "stream",
     "text": [
      "✅ Saved checkpoint: 1510 rows validated.\n"
     ]
    },
    {
     "name": "stderr",
     "output_type": "stream",
     "text": [
      "  8%|▊         | 8/103 [08:23<57:54, 36.58s/it]  "
     ]
    },
    {
     "name": "stdout",
     "output_type": "stream",
     "text": [
      "✅ Saved checkpoint: 1520 rows validated.\n"
     ]
    },
    {
     "name": "stderr",
     "output_type": "stream",
     "text": [
      "  9%|▊         | 9/103 [09:00<57:25, 36.66s/it]"
     ]
    },
    {
     "name": "stdout",
     "output_type": "stream",
     "text": [
      "✅ Saved checkpoint: 1530 rows validated.\n"
     ]
    },
    {
     "name": "stderr",
     "output_type": "stream",
     "text": [
      " 10%|▉         | 10/103 [09:14<45:39, 29.46s/it]"
     ]
    },
    {
     "name": "stdout",
     "output_type": "stream",
     "text": [
      "✅ Saved checkpoint: 1540 rows validated.\n"
     ]
    },
    {
     "name": "stderr",
     "output_type": "stream",
     "text": [
      " 11%|█         | 11/103 [09:29<38:45, 25.27s/it]"
     ]
    },
    {
     "name": "stdout",
     "output_type": "stream",
     "text": [
      "✅ Saved checkpoint: 1550 rows validated.\n"
     ]
    },
    {
     "name": "stderr",
     "output_type": "stream",
     "text": [
      " 12%|█▏        | 12/103 [09:46<34:12, 22.55s/it]"
     ]
    },
    {
     "name": "stdout",
     "output_type": "stream",
     "text": [
      "✅ Saved checkpoint: 1560 rows validated.\n"
     ]
    },
    {
     "name": "stderr",
     "output_type": "stream",
     "text": [
      " 13%|█▎        | 13/103 [10:06<32:36, 21.74s/it]"
     ]
    },
    {
     "name": "stdout",
     "output_type": "stream",
     "text": [
      "✅ Saved checkpoint: 1570 rows validated.\n"
     ]
    },
    {
     "name": "stderr",
     "output_type": "stream",
     "text": [
      " 14%|█▎        | 14/103 [10:28<32:27, 21.89s/it]"
     ]
    },
    {
     "name": "stdout",
     "output_type": "stream",
     "text": [
      "✅ Saved checkpoint: 1580 rows validated.\n"
     ]
    },
    {
     "name": "stderr",
     "output_type": "stream",
     "text": [
      " 15%|█▍        | 15/103 [10:44<29:36, 20.19s/it]"
     ]
    },
    {
     "name": "stdout",
     "output_type": "stream",
     "text": [
      "✅ Saved checkpoint: 1590 rows validated.\n"
     ]
    },
    {
     "name": "stderr",
     "output_type": "stream",
     "text": [
      " 16%|█▌        | 16/103 [11:04<29:22, 20.25s/it]"
     ]
    },
    {
     "name": "stdout",
     "output_type": "stream",
     "text": [
      "✅ Saved checkpoint: 1600 rows validated.\n"
     ]
    },
    {
     "name": "stderr",
     "output_type": "stream",
     "text": [
      " 17%|█▋        | 17/103 [11:22<27:53, 19.45s/it]"
     ]
    },
    {
     "name": "stdout",
     "output_type": "stream",
     "text": [
      "✅ Saved checkpoint: 1610 rows validated.\n"
     ]
    },
    {
     "name": "stderr",
     "output_type": "stream",
     "text": [
      " 17%|█▋        | 18/103 [11:38<26:07, 18.44s/it]"
     ]
    },
    {
     "name": "stdout",
     "output_type": "stream",
     "text": [
      "✅ Saved checkpoint: 1620 rows validated.\n"
     ]
    },
    {
     "name": "stderr",
     "output_type": "stream",
     "text": [
      " 18%|█▊        | 19/103 [12:04<28:48, 20.58s/it]"
     ]
    },
    {
     "name": "stdout",
     "output_type": "stream",
     "text": [
      "✅ Saved checkpoint: 1630 rows validated.\n"
     ]
    },
    {
     "name": "stderr",
     "output_type": "stream",
     "text": [
      " 19%|█▉        | 20/103 [12:19<26:07, 18.89s/it]"
     ]
    },
    {
     "name": "stdout",
     "output_type": "stream",
     "text": [
      "✅ Saved checkpoint: 1640 rows validated.\n"
     ]
    },
    {
     "name": "stderr",
     "output_type": "stream",
     "text": [
      " 20%|██        | 21/103 [12:31<22:55, 16.78s/it]"
     ]
    },
    {
     "name": "stdout",
     "output_type": "stream",
     "text": [
      "✅ Saved checkpoint: 1650 rows validated.\n"
     ]
    },
    {
     "name": "stderr",
     "output_type": "stream",
     "text": [
      " 21%|██▏       | 22/103 [12:51<24:17, 17.99s/it]"
     ]
    },
    {
     "name": "stdout",
     "output_type": "stream",
     "text": [
      "✅ Saved checkpoint: 1660 rows validated.\n"
     ]
    },
    {
     "name": "stderr",
     "output_type": "stream",
     "text": [
      " 22%|██▏       | 23/103 [13:10<24:07, 18.09s/it]"
     ]
    },
    {
     "name": "stdout",
     "output_type": "stream",
     "text": [
      "✅ Saved checkpoint: 1670 rows validated.\n"
     ]
    },
    {
     "name": "stderr",
     "output_type": "stream",
     "text": [
      " 23%|██▎       | 24/103 [13:35<26:47, 20.35s/it]"
     ]
    },
    {
     "name": "stdout",
     "output_type": "stream",
     "text": [
      "⚠️ Error for batch 240-250 attempt 1: Extra data: line 1 column 161 (char 160)\n",
      "🔁 Retrying batch 240-250 (attempt 2/3)...\n",
      "⚠️ Error for batch 240-250 attempt 2: Extra data: line 1 column 189 (char 188)\n",
      "🔁 Retrying batch 240-250 (attempt 3/3)...\n",
      "✅ Saved checkpoint: 1680 rows validated.\n"
     ]
    },
    {
     "name": "stderr",
     "output_type": "stream",
     "text": [
      " 24%|██▍       | 25/103 [14:59<51:21, 39.51s/it]"
     ]
    },
    {
     "name": "stdout",
     "output_type": "stream",
     "text": [
      "✅ Saved checkpoint: 1690 rows validated.\n"
     ]
    },
    {
     "name": "stderr",
     "output_type": "stream",
     "text": [
      " 25%|██▌       | 26/103 [15:18<42:40, 33.25s/it]"
     ]
    },
    {
     "name": "stdout",
     "output_type": "stream",
     "text": [
      "✅ Saved checkpoint: 1700 rows validated.\n"
     ]
    },
    {
     "name": "stderr",
     "output_type": "stream",
     "text": [
      " 26%|██▌       | 27/103 [15:36<36:18, 28.67s/it]"
     ]
    },
    {
     "name": "stdout",
     "output_type": "stream",
     "text": [
      "✅ Saved checkpoint: 1710 rows validated.\n"
     ]
    },
    {
     "name": "stderr",
     "output_type": "stream",
     "text": [
      " 27%|██▋       | 28/103 [15:57<32:44, 26.19s/it]"
     ]
    },
    {
     "name": "stdout",
     "output_type": "stream",
     "text": [
      "⚠️ Error for batch 280-290 attempt 1: No valid JSON found in response\n",
      "🔁 Retrying batch 280-290 (attempt 2/3)...\n",
      "⚠️ Error for batch 280-290 attempt 2: No valid JSON found in response\n",
      "🔁 Retrying batch 280-290 (attempt 3/3)...\n",
      "✅ Saved checkpoint: 1720 rows validated.\n"
     ]
    },
    {
     "name": "stderr",
     "output_type": "stream",
     "text": [
      " 28%|██▊       | 29/103 [17:22<54:12, 43.95s/it]"
     ]
    },
    {
     "name": "stdout",
     "output_type": "stream",
     "text": [
      "✅ Saved checkpoint: 1730 rows validated.\n"
     ]
    },
    {
     "name": "stderr",
     "output_type": "stream",
     "text": [
      " 29%|██▉       | 30/103 [17:50<47:34, 39.10s/it]"
     ]
    },
    {
     "name": "stdout",
     "output_type": "stream",
     "text": [
      "✅ Saved checkpoint: 1740 rows validated.\n"
     ]
    },
    {
     "name": "stderr",
     "output_type": "stream",
     "text": [
      " 30%|███       | 31/103 [18:14<41:43, 34.77s/it]"
     ]
    },
    {
     "name": "stdout",
     "output_type": "stream",
     "text": [
      "✅ Saved checkpoint: 1750 rows validated.\n"
     ]
    },
    {
     "name": "stderr",
     "output_type": "stream",
     "text": [
      " 31%|███       | 32/103 [18:35<36:10, 30.56s/it]"
     ]
    },
    {
     "name": "stdout",
     "output_type": "stream",
     "text": [
      "✅ Saved checkpoint: 1760 rows validated.\n"
     ]
    },
    {
     "name": "stderr",
     "output_type": "stream",
     "text": [
      " 32%|███▏      | 33/103 [18:52<30:42, 26.32s/it]"
     ]
    },
    {
     "name": "stdout",
     "output_type": "stream",
     "text": [
      "⚠️ Error for batch 330-340 attempt 1: No valid JSON found in response\n",
      "🔁 Retrying batch 330-340 (attempt 2/3)...\n",
      "✅ Saved checkpoint: 1770 rows validated.\n"
     ]
    },
    {
     "name": "stderr",
     "output_type": "stream",
     "text": [
      " 33%|███▎      | 34/103 [19:39<37:35, 32.69s/it]"
     ]
    },
    {
     "name": "stdout",
     "output_type": "stream",
     "text": [
      "✅ Saved checkpoint: 1780 rows validated.\n"
     ]
    },
    {
     "name": "stderr",
     "output_type": "stream",
     "text": [
      " 34%|███▍      | 35/103 [19:54<30:57, 27.31s/it]"
     ]
    },
    {
     "name": "stdout",
     "output_type": "stream",
     "text": [
      "✅ Saved checkpoint: 1790 rows validated.\n"
     ]
    },
    {
     "name": "stderr",
     "output_type": "stream",
     "text": [
      " 35%|███▍      | 36/103 [20:13<27:42, 24.82s/it]"
     ]
    },
    {
     "name": "stdout",
     "output_type": "stream",
     "text": [
      "✅ Saved checkpoint: 1800 rows validated.\n"
     ]
    },
    {
     "name": "stderr",
     "output_type": "stream",
     "text": [
      " 36%|███▌      | 37/103 [20:36<26:55, 24.47s/it]"
     ]
    },
    {
     "name": "stdout",
     "output_type": "stream",
     "text": [
      "✅ Saved checkpoint: 1810 rows validated.\n"
     ]
    },
    {
     "name": "stderr",
     "output_type": "stream",
     "text": [
      " 37%|███▋      | 38/103 [20:54<24:17, 22.43s/it]"
     ]
    },
    {
     "name": "stdout",
     "output_type": "stream",
     "text": [
      "✅ Saved checkpoint: 1820 rows validated.\n"
     ]
    },
    {
     "name": "stderr",
     "output_type": "stream",
     "text": [
      " 38%|███▊      | 39/103 [21:07<20:56, 19.64s/it]"
     ]
    },
    {
     "name": "stdout",
     "output_type": "stream",
     "text": [
      "✅ Saved checkpoint: 1830 rows validated.\n"
     ]
    },
    {
     "name": "stderr",
     "output_type": "stream",
     "text": [
      " 39%|███▉      | 40/103 [21:25<20:04, 19.12s/it]"
     ]
    },
    {
     "name": "stdout",
     "output_type": "stream",
     "text": [
      "✅ Saved checkpoint: 1840 rows validated.\n"
     ]
    },
    {
     "name": "stderr",
     "output_type": "stream",
     "text": [
      " 40%|███▉      | 41/103 [21:43<19:13, 18.61s/it]"
     ]
    },
    {
     "name": "stdout",
     "output_type": "stream",
     "text": [
      "✅ Saved checkpoint: 1850 rows validated.\n"
     ]
    },
    {
     "name": "stderr",
     "output_type": "stream",
     "text": [
      " 41%|████      | 42/103 [21:59<18:11, 17.89s/it]"
     ]
    },
    {
     "name": "stdout",
     "output_type": "stream",
     "text": [
      "✅ Saved checkpoint: 1860 rows validated.\n"
     ]
    },
    {
     "name": "stderr",
     "output_type": "stream",
     "text": [
      " 42%|████▏     | 43/103 [22:12<16:33, 16.56s/it]"
     ]
    },
    {
     "name": "stdout",
     "output_type": "stream",
     "text": [
      "⚠️ Error for batch 430-440 attempt 1: No valid JSON found in response\n",
      "🔁 Retrying batch 430-440 (attempt 2/3)...\n",
      "⚠️ Error for batch 430-440 attempt 2: Extra data: line 1 column 141 (char 140)\n",
      "🔁 Retrying batch 430-440 (attempt 3/3)...\n"
     ]
    },
    {
     "name": "stderr",
     "output_type": "stream",
     "text": [
      " 43%|████▎     | 44/103 [23:50<40:11, 40.88s/it]"
     ]
    },
    {
     "name": "stdout",
     "output_type": "stream",
     "text": [
      "⚠️ Error for batch 430-440 attempt 3: No valid JSON found in response\n",
      "❌ Batch 430-440 failed after 3 attempts. Saving rows to failed_rows.\n",
      "✅ Saved checkpoint: 1870 rows validated.\n"
     ]
    },
    {
     "name": "stderr",
     "output_type": "stream",
     "text": [
      " 44%|████▎     | 45/103 [24:05<31:54, 33.01s/it]"
     ]
    },
    {
     "name": "stdout",
     "output_type": "stream",
     "text": [
      "✅ Saved checkpoint: 1880 rows validated.\n"
     ]
    },
    {
     "name": "stderr",
     "output_type": "stream",
     "text": [
      " 45%|████▍     | 46/103 [24:20<26:26, 27.84s/it]"
     ]
    },
    {
     "name": "stdout",
     "output_type": "stream",
     "text": [
      "✅ Saved checkpoint: 1890 rows validated.\n"
     ]
    },
    {
     "name": "stderr",
     "output_type": "stream",
     "text": [
      " 46%|████▌     | 47/103 [24:41<23:52, 25.58s/it]"
     ]
    },
    {
     "name": "stdout",
     "output_type": "stream",
     "text": [
      "✅ Saved checkpoint: 1900 rows validated.\n"
     ]
    },
    {
     "name": "stderr",
     "output_type": "stream",
     "text": [
      " 47%|████▋     | 48/103 [24:59<21:32, 23.50s/it]"
     ]
    },
    {
     "name": "stdout",
     "output_type": "stream",
     "text": [
      "✅ Saved checkpoint: 1910 rows validated.\n"
     ]
    },
    {
     "name": "stderr",
     "output_type": "stream",
     "text": [
      " 48%|████▊     | 49/103 [25:16<19:14, 21.38s/it]"
     ]
    },
    {
     "name": "stdout",
     "output_type": "stream",
     "text": [
      "⚠️ Error for batch 490-500 attempt 1: No valid JSON found in response\n",
      "🔁 Retrying batch 490-500 (attempt 2/3)...\n",
      "⚠️ Error for batch 490-500 attempt 2: No valid JSON found in response\n",
      "🔁 Retrying batch 490-500 (attempt 3/3)...\n"
     ]
    },
    {
     "name": "stderr",
     "output_type": "stream",
     "text": [
      " 49%|████▊     | 50/103 [26:55<39:38, 44.88s/it]"
     ]
    },
    {
     "name": "stdout",
     "output_type": "stream",
     "text": [
      "⚠️ Error for batch 490-500 attempt 3: No valid JSON found in response\n",
      "❌ Batch 490-500 failed after 3 attempts. Saving rows to failed_rows.\n",
      "✅ Saved checkpoint: 1920 rows validated.\n"
     ]
    },
    {
     "name": "stderr",
     "output_type": "stream",
     "text": [
      " 50%|████▉     | 51/103 [27:12<31:30, 36.36s/it]"
     ]
    },
    {
     "name": "stdout",
     "output_type": "stream",
     "text": [
      "✅ Saved checkpoint: 1930 rows validated.\n"
     ]
    },
    {
     "name": "stderr",
     "output_type": "stream",
     "text": [
      " 50%|█████     | 52/103 [27:34<27:10, 31.98s/it]"
     ]
    },
    {
     "name": "stdout",
     "output_type": "stream",
     "text": [
      "✅ Saved checkpoint: 1940 rows validated.\n"
     ]
    },
    {
     "name": "stderr",
     "output_type": "stream",
     "text": [
      " 51%|█████▏    | 53/103 [27:53<23:34, 28.29s/it]"
     ]
    },
    {
     "name": "stdout",
     "output_type": "stream",
     "text": [
      "✅ Saved checkpoint: 1950 rows validated.\n"
     ]
    },
    {
     "name": "stderr",
     "output_type": "stream",
     "text": [
      " 52%|█████▏    | 54/103 [28:13<21:00, 25.72s/it]"
     ]
    },
    {
     "name": "stdout",
     "output_type": "stream",
     "text": [
      "✅ Saved checkpoint: 1960 rows validated.\n"
     ]
    },
    {
     "name": "stderr",
     "output_type": "stream",
     "text": [
      " 53%|█████▎    | 55/103 [28:37<20:07, 25.15s/it]"
     ]
    },
    {
     "name": "stdout",
     "output_type": "stream",
     "text": [
      "✅ Saved checkpoint: 1970 rows validated.\n"
     ]
    },
    {
     "name": "stderr",
     "output_type": "stream",
     "text": [
      " 54%|█████▍    | 56/103 [29:07<20:51, 26.64s/it]"
     ]
    },
    {
     "name": "stdout",
     "output_type": "stream",
     "text": [
      "✅ Saved checkpoint: 1980 rows validated.\n"
     ]
    },
    {
     "name": "stderr",
     "output_type": "stream",
     "text": [
      " 55%|█████▌    | 57/103 [29:31<19:43, 25.73s/it]"
     ]
    },
    {
     "name": "stdout",
     "output_type": "stream",
     "text": [
      "✅ Saved checkpoint: 1990 rows validated.\n"
     ]
    },
    {
     "name": "stderr",
     "output_type": "stream",
     "text": [
      " 56%|█████▋    | 58/103 [29:49<17:40, 23.56s/it]"
     ]
    },
    {
     "name": "stdout",
     "output_type": "stream",
     "text": [
      "✅ Saved checkpoint: 2000 rows validated.\n"
     ]
    },
    {
     "name": "stderr",
     "output_type": "stream",
     "text": [
      " 57%|█████▋    | 59/103 [30:13<17:27, 23.81s/it]"
     ]
    },
    {
     "name": "stdout",
     "output_type": "stream",
     "text": [
      "✅ Saved checkpoint: 2010 rows validated.\n"
     ]
    },
    {
     "name": "stderr",
     "output_type": "stream",
     "text": [
      " 58%|█████▊    | 60/103 [30:42<17:57, 25.07s/it]"
     ]
    },
    {
     "name": "stdout",
     "output_type": "stream",
     "text": [
      "✅ Saved checkpoint: 2020 rows validated.\n"
     ]
    },
    {
     "name": "stderr",
     "output_type": "stream",
     "text": [
      " 59%|█████▉    | 61/103 [30:58<15:50, 22.62s/it]"
     ]
    },
    {
     "name": "stdout",
     "output_type": "stream",
     "text": [
      "✅ Saved checkpoint: 2030 rows validated.\n"
     ]
    },
    {
     "name": "stderr",
     "output_type": "stream",
     "text": [
      " 60%|██████    | 62/103 [31:21<15:27, 22.62s/it]"
     ]
    },
    {
     "name": "stdout",
     "output_type": "stream",
     "text": [
      "✅ Saved checkpoint: 2040 rows validated.\n"
     ]
    },
    {
     "name": "stderr",
     "output_type": "stream",
     "text": [
      " 61%|██████    | 63/103 [31:41<14:34, 21.87s/it]"
     ]
    },
    {
     "name": "stdout",
     "output_type": "stream",
     "text": [
      "✅ Saved checkpoint: 2050 rows validated.\n"
     ]
    },
    {
     "name": "stderr",
     "output_type": "stream",
     "text": [
      " 62%|██████▏   | 64/103 [31:59<13:28, 20.72s/it]"
     ]
    },
    {
     "name": "stdout",
     "output_type": "stream",
     "text": [
      "✅ Saved checkpoint: 2060 rows validated.\n"
     ]
    },
    {
     "name": "stderr",
     "output_type": "stream",
     "text": [
      " 63%|██████▎   | 65/103 [32:17<12:34, 19.85s/it]"
     ]
    },
    {
     "name": "stdout",
     "output_type": "stream",
     "text": [
      "✅ Saved checkpoint: 2070 rows validated.\n"
     ]
    },
    {
     "name": "stderr",
     "output_type": "stream",
     "text": [
      " 64%|██████▍   | 66/103 [32:41<13:01, 21.13s/it]"
     ]
    },
    {
     "name": "stdout",
     "output_type": "stream",
     "text": [
      "⚠️ Error for batch 660-670 attempt 1: No valid JSON found in response\n",
      "🔁 Retrying batch 660-670 (attempt 2/3)...\n",
      "⚠️ Error for batch 660-670 attempt 2: No valid JSON found in response\n",
      "🔁 Retrying batch 660-670 (attempt 3/3)...\n",
      "✅ Saved checkpoint: 2080 rows validated.\n"
     ]
    },
    {
     "name": "stderr",
     "output_type": "stream",
     "text": [
      " 65%|██████▌   | 67/103 [34:20<26:36, 44.34s/it]"
     ]
    },
    {
     "name": "stdout",
     "output_type": "stream",
     "text": [
      "⚠️ Error for batch 670-680 attempt 1: No valid JSON found in response\n",
      "🔁 Retrying batch 670-680 (attempt 2/3)...\n",
      "⚠️ Error for batch 670-680 attempt 2: No valid JSON found in response\n",
      "🔁 Retrying batch 670-680 (attempt 3/3)...\n"
     ]
    },
    {
     "name": "stderr",
     "output_type": "stream",
     "text": [
      " 66%|██████▌   | 68/103 [35:57<35:08, 60.26s/it]"
     ]
    },
    {
     "name": "stdout",
     "output_type": "stream",
     "text": [
      "⚠️ Error for batch 670-680 attempt 3: No valid JSON found in response\n",
      "❌ Batch 670-680 failed after 3 attempts. Saving rows to failed_rows.\n",
      "✅ Saved checkpoint: 2090 rows validated.\n"
     ]
    },
    {
     "name": "stderr",
     "output_type": "stream",
     "text": [
      " 67%|██████▋   | 69/103 [36:13<26:32, 46.83s/it]"
     ]
    },
    {
     "name": "stdout",
     "output_type": "stream",
     "text": [
      "✅ Saved checkpoint: 2100 rows validated.\n"
     ]
    },
    {
     "name": "stderr",
     "output_type": "stream",
     "text": [
      " 68%|██████▊   | 70/103 [36:25<20:03, 36.48s/it]"
     ]
    },
    {
     "name": "stdout",
     "output_type": "stream",
     "text": [
      "⚠️ Error for batch 700-710 attempt 1: No valid JSON found in response\n",
      "🔁 Retrying batch 700-710 (attempt 2/3)...\n",
      "✅ Saved checkpoint: 2110 rows validated.\n"
     ]
    },
    {
     "name": "stderr",
     "output_type": "stream",
     "text": [
      " 69%|██████▉   | 71/103 [37:10<20:54, 39.21s/it]"
     ]
    },
    {
     "name": "stdout",
     "output_type": "stream",
     "text": [
      "✅ Saved checkpoint: 2120 rows validated.\n"
     ]
    },
    {
     "name": "stderr",
     "output_type": "stream",
     "text": [
      " 70%|██████▉   | 72/103 [37:29<17:00, 32.92s/it]"
     ]
    },
    {
     "name": "stdout",
     "output_type": "stream",
     "text": [
      "✅ Saved checkpoint: 2130 rows validated.\n"
     ]
    },
    {
     "name": "stderr",
     "output_type": "stream",
     "text": [
      " 71%|███████   | 73/103 [37:45<13:56, 27.87s/it]"
     ]
    },
    {
     "name": "stdout",
     "output_type": "stream",
     "text": [
      "⚠️ Error for batch 730-740 attempt 1: No valid JSON found in response\n",
      "🔁 Retrying batch 730-740 (attempt 2/3)...\n",
      "✅ Saved checkpoint: 2140 rows validated.\n"
     ]
    },
    {
     "name": "stderr",
     "output_type": "stream",
     "text": [
      " 72%|███████▏  | 74/103 [38:38<17:08, 35.46s/it]"
     ]
    },
    {
     "name": "stdout",
     "output_type": "stream",
     "text": [
      "✅ Saved checkpoint: 2150 rows validated.\n"
     ]
    },
    {
     "name": "stderr",
     "output_type": "stream",
     "text": [
      " 73%|███████▎  | 75/103 [38:50<13:19, 28.54s/it]"
     ]
    },
    {
     "name": "stdout",
     "output_type": "stream",
     "text": [
      "✅ Saved checkpoint: 2160 rows validated.\n"
     ]
    },
    {
     "name": "stderr",
     "output_type": "stream",
     "text": [
      " 74%|███████▍  | 76/103 [39:10<11:34, 25.73s/it]"
     ]
    },
    {
     "name": "stdout",
     "output_type": "stream",
     "text": [
      "✅ Saved checkpoint: 2170 rows validated.\n"
     ]
    },
    {
     "name": "stderr",
     "output_type": "stream",
     "text": [
      " 75%|███████▍  | 77/103 [39:22<09:27, 21.81s/it]"
     ]
    },
    {
     "name": "stdout",
     "output_type": "stream",
     "text": [
      "✅ Saved checkpoint: 2180 rows validated.\n"
     ]
    },
    {
     "name": "stderr",
     "output_type": "stream",
     "text": [
      " 76%|███████▌  | 78/103 [39:46<09:18, 22.34s/it]"
     ]
    },
    {
     "name": "stdout",
     "output_type": "stream",
     "text": [
      "✅ Saved checkpoint: 2190 rows validated.\n"
     ]
    },
    {
     "name": "stderr",
     "output_type": "stream",
     "text": [
      " 77%|███████▋  | 79/103 [40:06<08:38, 21.61s/it]"
     ]
    },
    {
     "name": "stdout",
     "output_type": "stream",
     "text": [
      "✅ Saved checkpoint: 2200 rows validated.\n"
     ]
    },
    {
     "name": "stderr",
     "output_type": "stream",
     "text": [
      " 78%|███████▊  | 80/103 [40:23<07:48, 20.35s/it]"
     ]
    },
    {
     "name": "stdout",
     "output_type": "stream",
     "text": [
      "✅ Saved checkpoint: 2210 rows validated.\n"
     ]
    },
    {
     "name": "stderr",
     "output_type": "stream",
     "text": [
      " 79%|███████▊  | 81/103 [40:41<07:12, 19.64s/it]"
     ]
    },
    {
     "name": "stdout",
     "output_type": "stream",
     "text": [
      "✅ Saved checkpoint: 2220 rows validated.\n"
     ]
    },
    {
     "name": "stderr",
     "output_type": "stream",
     "text": [
      " 80%|███████▉  | 82/103 [40:54<06:07, 17.51s/it]"
     ]
    },
    {
     "name": "stdout",
     "output_type": "stream",
     "text": [
      "✅ Saved checkpoint: 2230 rows validated.\n"
     ]
    },
    {
     "name": "stderr",
     "output_type": "stream",
     "text": [
      " 81%|████████  | 83/103 [41:09<05:34, 16.74s/it]"
     ]
    },
    {
     "name": "stdout",
     "output_type": "stream",
     "text": [
      "✅ Saved checkpoint: 2240 rows validated.\n"
     ]
    },
    {
     "name": "stderr",
     "output_type": "stream",
     "text": [
      " 82%|████████▏ | 84/103 [41:28<05:35, 17.63s/it]"
     ]
    },
    {
     "name": "stdout",
     "output_type": "stream",
     "text": [
      "✅ Saved checkpoint: 2250 rows validated.\n"
     ]
    },
    {
     "name": "stderr",
     "output_type": "stream",
     "text": [
      " 83%|████████▎ | 85/103 [41:46<05:15, 17.53s/it]"
     ]
    },
    {
     "name": "stdout",
     "output_type": "stream",
     "text": [
      "✅ Saved checkpoint: 2260 rows validated.\n"
     ]
    },
    {
     "name": "stderr",
     "output_type": "stream",
     "text": [
      " 83%|████████▎ | 86/103 [42:02<04:51, 17.16s/it]"
     ]
    },
    {
     "name": "stdout",
     "output_type": "stream",
     "text": [
      "✅ Saved checkpoint: 2270 rows validated.\n"
     ]
    },
    {
     "name": "stderr",
     "output_type": "stream",
     "text": [
      " 84%|████████▍ | 87/103 [42:21<04:42, 17.65s/it]"
     ]
    },
    {
     "name": "stdout",
     "output_type": "stream",
     "text": [
      "✅ Saved checkpoint: 2280 rows validated.\n"
     ]
    },
    {
     "name": "stderr",
     "output_type": "stream",
     "text": [
      " 85%|████████▌ | 88/103 [42:40<04:34, 18.27s/it]"
     ]
    },
    {
     "name": "stdout",
     "output_type": "stream",
     "text": [
      "✅ Saved checkpoint: 2290 rows validated.\n"
     ]
    },
    {
     "name": "stderr",
     "output_type": "stream",
     "text": [
      " 86%|████████▋ | 89/103 [42:56<04:06, 17.61s/it]"
     ]
    },
    {
     "name": "stdout",
     "output_type": "stream",
     "text": [
      "✅ Saved checkpoint: 2300 rows validated.\n"
     ]
    },
    {
     "name": "stderr",
     "output_type": "stream",
     "text": [
      " 87%|████████▋ | 90/103 [43:10<03:33, 16.41s/it]"
     ]
    },
    {
     "name": "stdout",
     "output_type": "stream",
     "text": [
      "✅ Saved checkpoint: 2310 rows validated.\n"
     ]
    },
    {
     "name": "stderr",
     "output_type": "stream",
     "text": [
      " 88%|████████▊ | 91/103 [43:23<03:04, 15.39s/it]"
     ]
    },
    {
     "name": "stdout",
     "output_type": "stream",
     "text": [
      "✅ Saved checkpoint: 2320 rows validated.\n"
     ]
    },
    {
     "name": "stderr",
     "output_type": "stream",
     "text": [
      " 89%|████████▉ | 92/103 [43:37<02:44, 14.96s/it]"
     ]
    },
    {
     "name": "stdout",
     "output_type": "stream",
     "text": [
      "⚠️ Error for batch 920-930 attempt 1: Extra data: line 1 column 196 (char 195)\n",
      "🔁 Retrying batch 920-930 (attempt 2/3)...\n",
      "⚠️ Error for batch 920-930 attempt 2: No valid JSON found in response\n",
      "🔁 Retrying batch 920-930 (attempt 3/3)...\n"
     ]
    },
    {
     "name": "stderr",
     "output_type": "stream",
     "text": [
      " 90%|█████████ | 93/103 [45:04<06:06, 36.70s/it]"
     ]
    },
    {
     "name": "stdout",
     "output_type": "stream",
     "text": [
      "⚠️ Error for batch 920-930 attempt 3: No valid JSON found in response\n",
      "❌ Batch 920-930 failed after 3 attempts. Saving rows to failed_rows.\n",
      "✅ Saved checkpoint: 2330 rows validated.\n"
     ]
    },
    {
     "name": "stderr",
     "output_type": "stream",
     "text": [
      " 91%|█████████▏| 94/103 [45:18<04:28, 29.82s/it]"
     ]
    },
    {
     "name": "stdout",
     "output_type": "stream",
     "text": [
      "✅ Saved checkpoint: 2340 rows validated.\n"
     ]
    },
    {
     "name": "stderr",
     "output_type": "stream",
     "text": [
      " 92%|█████████▏| 95/103 [45:34<03:24, 25.61s/it]"
     ]
    },
    {
     "name": "stdout",
     "output_type": "stream",
     "text": [
      "✅ Saved checkpoint: 2350 rows validated.\n"
     ]
    },
    {
     "name": "stderr",
     "output_type": "stream",
     "text": [
      " 93%|█████████▎| 96/103 [45:48<02:35, 22.28s/it]"
     ]
    },
    {
     "name": "stdout",
     "output_type": "stream",
     "text": [
      "✅ Saved checkpoint: 2360 rows validated.\n"
     ]
    },
    {
     "name": "stderr",
     "output_type": "stream",
     "text": [
      " 94%|█████████▍| 97/103 [46:03<02:00, 20.04s/it]"
     ]
    },
    {
     "name": "stdout",
     "output_type": "stream",
     "text": [
      "✅ Saved checkpoint: 2370 rows validated.\n"
     ]
    },
    {
     "name": "stderr",
     "output_type": "stream",
     "text": [
      " 95%|█████████▌| 98/103 [46:15<01:27, 17.51s/it]"
     ]
    },
    {
     "name": "stdout",
     "output_type": "stream",
     "text": [
      "✅ Saved checkpoint: 2380 rows validated.\n"
     ]
    },
    {
     "name": "stderr",
     "output_type": "stream",
     "text": [
      " 96%|█████████▌| 99/103 [46:25<01:01, 15.40s/it]"
     ]
    },
    {
     "name": "stdout",
     "output_type": "stream",
     "text": [
      "✅ Saved checkpoint: 2390 rows validated.\n"
     ]
    },
    {
     "name": "stderr",
     "output_type": "stream",
     "text": [
      " 97%|█████████▋| 100/103 [46:36<00:41, 13.88s/it]"
     ]
    },
    {
     "name": "stdout",
     "output_type": "stream",
     "text": [
      "✅ Saved checkpoint: 2400 rows validated.\n"
     ]
    },
    {
     "name": "stderr",
     "output_type": "stream",
     "text": [
      " 98%|█████████▊| 101/103 [46:48<00:26, 13.39s/it]"
     ]
    },
    {
     "name": "stdout",
     "output_type": "stream",
     "text": [
      "✅ Saved checkpoint: 2410 rows validated.\n"
     ]
    },
    {
     "name": "stderr",
     "output_type": "stream",
     "text": [
      " 99%|█████████▉| 102/103 [47:06<00:14, 14.86s/it]"
     ]
    },
    {
     "name": "stdout",
     "output_type": "stream",
     "text": [
      "✅ Saved checkpoint: 2414 rows validated.\n"
     ]
    },
    {
     "name": "stderr",
     "output_type": "stream",
     "text": [
      "100%|██████████| 103/103 [47:16<00:00, 27.54s/it]"
     ]
    },
    {
     "name": "stdout",
     "output_type": "stream",
     "text": [
      "💾 Saved 70 failed rows to bupa_failed_rows.csv for later retry or review.\n"
     ]
    },
    {
     "name": "stderr",
     "output_type": "stream",
     "text": [
      "\n"
     ]
    }
   ],
   "source": [
    "short_results_df = validate_mappings_batched_resume(\n",
    "    short_similarity,   # your input dataframe\n",
    "    fireworks_llm,           # your LLM instance\n",
    "    checkpoint_file=\"bupa_llm_validation_results.csv\",\n",
    "    batch_size=10       # Smaller batch is safer!\n",
    ")"
   ]
  },
  {
   "cell_type": "code",
   "execution_count": 25,
   "id": "fb52c5e1",
   "metadata": {},
   "outputs": [],
   "source": [
    "def retry_failed_rows(\n",
    "    llm,\n",
    "    failed_file: str = \"bupa_failed_rows.csv\",\n",
    "    checkpoint_file: str = \"bupa_llm_validation_results.csv\"\n",
    "):\n",
    "    \"\"\"\n",
    "    Retry failed rows one by one, sanitize text, and update the checkpoint.\n",
    "    \"\"\"\n",
    "    failed_df = pd.read_csv(failed_file, index_col=\"row_idx\")\n",
    "    results_df = pd.read_csv(checkpoint_file)\n",
    "    validated_indices = set(results_df[\"row_idx\"])\n",
    "    all_results = results_df.to_dict(orient=\"records\")\n",
    "\n",
    "    print(f\"🔁 Retrying {len(failed_df)} failed rows...\")\n",
    "\n",
    "    for idx, row in failed_df.iterrows():\n",
    "        if idx in validated_indices:\n",
    "            continue\n",
    "\n",
    "        ahj_desc = sanitize_description(row[\"AHJ_DESCRIPTION\"])\n",
    "        sbs_desc = sanitize_description(row[\"SBS_SHORT_DESCRIPTION\"])\n",
    "\n",
    "        # single_prompt = (\n",
    "        #     \"You are an expert in medical coding and service mapping.\\n\\n\"\n",
    "        #     \"Below is one pair:\\n\"\n",
    "        #     \"- Decide if the AHJ_DESCRIPTION correctly maps to the SBS_SHORT_DESCRIPTION,\\n\"\n",
    "        #     \"  or if the SBS_SHORT_DESCRIPTION is a valid generalization or plural of the AHJ_DESCRIPTION (falls under its category) and vice versa.\\n\"\n",
    "        #     \"- Be careful \\\"unilateral\\\" and \\\"bilateral\\\" are different.\\n\"\n",
    "        #     \"- Answer YES or NO and explain briefly.\\n\"\n",
    "        #     \"- Return ONLY the word 'YES' or 'NO' at the start of your answer.\\n\\n\"\n",
    "        #     \"Return your answer in JSON format like this:\\n\"\n",
    "        #     \"{\\\"answer\\\": \\\"YES\\\", \\\"reason\\\": \\\"Fully matches.\\\"}\\n\\n\"\n",
    "        #     \"✅ Return ONLY valid JSON and nothing else. Do not add any explanation before or after the JSON.\\n\\n\"\n",
    "        #     f\"- AHJ_DESCRIPTION: \\\"{ahj_desc}\\\"\\n\"\n",
    "        #     f\"- SBS_SHORT_DESCRIPTION: \\\"{sbs_desc}\\\"\\n\"\n",
    "        # )\n",
    "\n",
    "        single_prompt = (\n",
    "            \"You are an expert in medical coding and service mapping.\\n\\n\"\n",
    "            \"Below is a list of AHJ_DESCRIPTION and SBS_SHORT_DESCRIPTION pairs.\\n\\n\"\n",
    "            \"For each pair:\\n\"\n",
    "            \"- Decide if the AHJ_DESCRIPTION correctly maps to the SBS_SHORT_DESCRIPTION,\\n\"\n",
    "            \"  OR if the SBS_SHORT_DESCRIPTION is a valid generalization, broader category, or plural of the AHJ_DESCRIPTION,\\n\"\n",
    "            \"  OR if the AHJ_DESCRIPTION is a valid generalization, broader category, or plural of the SBS_SHORT_DESCRIPTION.\\n\\n\"\n",
    "            \"Important:\\n\"\n",
    "            \"• Be careful: 'unilateral' and 'bilateral' are different and should NOT be treated the same.\\n\"\n",
    "            \"• Small punctuation differences such as (hyphens, brackets, commas) do not affect the meaning.\\n\"\n",
    "            \"• If you are unsure, answer NO. Do not guess.\\n\\n\"\n",
    "            \"Examples:\\n\"\n",
    "            \"✔ 'LEFT KNEE ARTHROSCOPY' vs. 'KNEE ARTHROSCOPY' → YES (valid generalization)\\n\"\n",
    "            \"✔ 'PORCELAIN FUSED TO METAL CROWN' vs. 'PORCELAIN FUSED TO BASE METAL CROWN' → YES (valid generalization)\\n\"\n",
    "            \"✔ 'ENDOSCOPIC BANDING OF OESOPHAGEAL VARICE' vs. 'ENDOSCOPIC BANDING OF OESOPHAGEAL VARICES' → YES (plural)\\n\"\n",
    "            \"❌ 'UNILATERAL MASTECTOMY' vs. 'BILATERAL MASTECTOMY' → NO (different laterality)\\n\\n\"\n",
    "            \"✅ You MUST follow these rules:\\n\"\n",
    "            \"1. Return only valid JSON.\\n\"\n",
    "            \"2. Do NOT include ```json, markdown, or any other text.\\n\"\n",
    "            \"3. Return ONLY the JSON array and nothing else.\\n\"\n",
    "            \"4. ✅ Return ONLY a single valid JSON object and nothing else.\\n\"\n",
    "            \"5. ❌ Do not return plain text or an array.\\n\"\n",
    "            \"6. Format: [{\\\"index\\\": 0, \\\"answer\\\": \\\"YES\\\", \\\"reason\\\": \\\"...\\\"}, ...]\\n\\n\"\n",
    "            \"If you break these rules, you will fail.\\n\\n\"\n",
    "            f\"- AHJ_DESCRIPTION: \\\"{ahj_desc}\\\"\\n\"\n",
    "            f\"- SBS_SHORT_DESCRIPTION: \\\"{sbs_desc}\\\"\\n\"\n",
    "        )\n",
    "\n",
    "        answers = None\n",
    "        max_retries = 3\n",
    "        for attempt in range(max_retries):\n",
    "            try:\n",
    "                response_text = llm._call(single_prompt)\n",
    "                answers = safe_json_parse(response_text)\n",
    "                break\n",
    "            except Exception as e:\n",
    "                print(f\"⚠️ Error for row {idx} attempt {attempt+1}: {e}\")\n",
    "                time.sleep(3)\n",
    "\n",
    "        if answers is None:\n",
    "            print(f\"❌ Row {idx} failed again after {max_retries} attempts.\")\n",
    "            continue\n",
    "\n",
    "        # Defensive: handle accidental array\n",
    "        if isinstance(answers, list):\n",
    "            answers = answers[0]\n",
    "\n",
    "        all_results.append({\n",
    "            \"row_idx\": idx,\n",
    "            \"AHJ_DESCRIPTION\": row[\"AHJ_DESCRIPTION\"],\n",
    "            \"SBS_SHORT_DESCRIPTION\": row[\"SBS_SHORT_DESCRIPTION\"],\n",
    "            \"Similarity\": row.get(\"SHORT_SIMILARITY_SCORE\", \"\"),\n",
    "            \"LLM_Answer\": answers.get(\"answer\", \"\").strip().upper(),\n",
    "            \"Reason\": answers.get(\"reason\", \"\").strip()\n",
    "        })\n",
    "        validated_indices.add(idx)\n",
    "\n",
    "        pd.DataFrame(all_results).to_csv(checkpoint_file, index=False)\n",
    "        print(f\"✅ Saved single-row checkpoint: {len(validated_indices)} rows validated.\")\n",
    "\n",
    "    print(f\"🎉 Retry complete! Check {checkpoint_file} for updated results.\")"
   ]
  },
  {
   "cell_type": "code",
   "execution_count": 26,
   "id": "652d3fb5",
   "metadata": {},
   "outputs": [
    {
     "name": "stdout",
     "output_type": "stream",
     "text": [
      "🔁 Retrying 70 failed rows...\n",
      "✅ Saved single-row checkpoint: 2483 rows validated.\n",
      "✅ Saved single-row checkpoint: 2484 rows validated.\n",
      "🎉 Retry complete! Check bupa_llm_validation_results.csv for updated results.\n"
     ]
    }
   ],
   "source": [
    "# Example call for Fireworks or Groq LLM\n",
    "resent_short_results_df = retry_failed_rows(\n",
    "    llm=fireworks_llm,  # or groq_llm or any other LLM instance you built\n",
    "    failed_file=\"bupa_failed_rows.csv\",\n",
    "    checkpoint_file=\"bupa_llm_validation_results.csv\"\n",
    ")"
   ]
  },
  {
   "cell_type": "code",
   "execution_count": 28,
   "id": "5597e219",
   "metadata": {},
   "outputs": [
    {
     "name": "stdout",
     "output_type": "stream",
     "text": [
      "(2484, 6)\n"
     ]
    },
    {
     "data": {
      "text/html": [
       "<div>\n",
       "<style scoped>\n",
       "    .dataframe tbody tr th:only-of-type {\n",
       "        vertical-align: middle;\n",
       "    }\n",
       "\n",
       "    .dataframe tbody tr th {\n",
       "        vertical-align: top;\n",
       "    }\n",
       "\n",
       "    .dataframe thead th {\n",
       "        text-align: right;\n",
       "    }\n",
       "</style>\n",
       "<table border=\"1\" class=\"dataframe\">\n",
       "  <thead>\n",
       "    <tr style=\"text-align: right;\">\n",
       "      <th></th>\n",
       "      <th>row_idx</th>\n",
       "      <th>AHJ_DESCRIPTION</th>\n",
       "      <th>SBS_SHORT_DESCRIPTION</th>\n",
       "      <th>Similarity</th>\n",
       "      <th>LLM_Answer</th>\n",
       "      <th>Reason</th>\n",
       "    </tr>\n",
       "  </thead>\n",
       "  <tbody>\n",
       "    <tr>\n",
       "      <th>0</th>\n",
       "      <td>0</td>\n",
       "      <td>Duplex u/s extracranial/carotid &amp; vert</td>\n",
       "      <td>DUPLEX U/S EXTRACRANIAL/CAROTID &amp; VERT</td>\n",
       "      <td>1.000000</td>\n",
       "      <td>YES</td>\n",
       "      <td>Fully matches except for case and spacing.</td>\n",
       "    </tr>\n",
       "    <tr>\n",
       "      <th>1</th>\n",
       "      <td>1</td>\n",
       "      <td>total arthroplasty of knee unilateral</td>\n",
       "      <td>TOTAL ARTHROPLASTY OF KNEE  UNILATERAL</td>\n",
       "      <td>1.000000</td>\n",
       "      <td>YES</td>\n",
       "      <td>Fully matches except for spacing.</td>\n",
       "    </tr>\n",
       "    <tr>\n",
       "      <th>2</th>\n",
       "      <td>2</td>\n",
       "      <td>ENDOSCOPIC BANDING OF OESOPHAGEAL VARICE</td>\n",
       "      <td>ENDOSCOPIC BANDING OF OESOPHAGEAL VARICES</td>\n",
       "      <td>0.997117</td>\n",
       "      <td>YES</td>\n",
       "      <td>Pluralization of 'VARICE' to 'VARICES' is valid.</td>\n",
       "    </tr>\n",
       "    <tr>\n",
       "      <th>3</th>\n",
       "      <td>3</td>\n",
       "      <td>DUPLEX U/S ART/BYPS GRAFTS UPP LMB, UNI</td>\n",
       "      <td>DUPLEX U/S ART/BYPS GRAFTS UPP LMB  UNI</td>\n",
       "      <td>0.996361</td>\n",
       "      <td>YES</td>\n",
       "      <td>Matches except for punctuation spacing.</td>\n",
       "    </tr>\n",
       "    <tr>\n",
       "      <th>4</th>\n",
       "      <td>4</td>\n",
       "      <td>CONDUCTN STUD, EMG SGL FIBRES NRV &amp; MUSC</td>\n",
       "      <td>CONDUCTN STUD  EMG SGL FIBRES NRV &amp; MUSC</td>\n",
       "      <td>0.996189</td>\n",
       "      <td>YES</td>\n",
       "      <td>Comma vs space difference does not affect mean...</td>\n",
       "    </tr>\n",
       "  </tbody>\n",
       "</table>\n",
       "</div>"
      ],
      "text/plain": [
       "   row_idx                           AHJ_DESCRIPTION  \\\n",
       "0        0    Duplex u/s extracranial/carotid & vert   \n",
       "1        1     total arthroplasty of knee unilateral   \n",
       "2        2  ENDOSCOPIC BANDING OF OESOPHAGEAL VARICE   \n",
       "3        3   DUPLEX U/S ART/BYPS GRAFTS UPP LMB, UNI   \n",
       "4        4  CONDUCTN STUD, EMG SGL FIBRES NRV & MUSC   \n",
       "\n",
       "                       SBS_SHORT_DESCRIPTION  Similarity LLM_Answer  \\\n",
       "0     DUPLEX U/S EXTRACRANIAL/CAROTID & VERT    1.000000        YES   \n",
       "1     TOTAL ARTHROPLASTY OF KNEE  UNILATERAL    1.000000        YES   \n",
       "2  ENDOSCOPIC BANDING OF OESOPHAGEAL VARICES    0.997117        YES   \n",
       "3    DUPLEX U/S ART/BYPS GRAFTS UPP LMB  UNI    0.996361        YES   \n",
       "4   CONDUCTN STUD  EMG SGL FIBRES NRV & MUSC    0.996189        YES   \n",
       "\n",
       "                                              Reason  \n",
       "0         Fully matches except for case and spacing.  \n",
       "1                  Fully matches except for spacing.  \n",
       "2   Pluralization of 'VARICE' to 'VARICES' is valid.  \n",
       "3            Matches except for punctuation spacing.  \n",
       "4  Comma vs space difference does not affect mean...  "
      ]
     },
     "execution_count": 28,
     "metadata": {},
     "output_type": "execute_result"
    }
   ],
   "source": [
    "short_validation = pd.read_csv(\"bupa_short_llm_validation_results.csv\")\n",
    "print(short_validation.shape)\n",
    "short_validation.head()"
   ]
  },
  {
   "cell_type": "code",
   "execution_count": 34,
   "id": "62092cbe",
   "metadata": {},
   "outputs": [
    {
     "data": {
      "text/plain": [
       "2024"
      ]
     },
     "execution_count": 34,
     "metadata": {},
     "output_type": "execute_result"
    }
   ],
   "source": [
    "short_wrong_mapped_services = list(short_validation[short_validation['LLM_Answer'] == 'NO']['AHJ_DESCRIPTION'].unique())\n",
    "len(short_wrong_mapped_services)"
   ]
  },
  {
   "cell_type": "code",
   "execution_count": 32,
   "id": "92703940",
   "metadata": {},
   "outputs": [
    {
     "data": {
      "text/plain": [
       "(460, 2024)"
      ]
     },
     "execution_count": 32,
     "metadata": {},
     "output_type": "execute_result"
    }
   ],
   "source": [
    "yes_short_index = short_validation[short_validation['LLM_Answer'] == 'YES']['row_idx'].values\n",
    "no_short_index = short_validation[short_validation['LLM_Answer'] == 'NO']['row_idx'].values\n",
    "\n",
    "len(yes_short_index), len(no_short_index)"
   ]
  },
  {
   "cell_type": "code",
   "execution_count": 33,
   "id": "33a7ef90",
   "metadata": {},
   "outputs": [
    {
     "data": {
      "text/plain": [
       "(460, 3)"
      ]
     },
     "execution_count": 33,
     "metadata": {},
     "output_type": "execute_result"
    }
   ],
   "source": [
    "bupa_valid_short_mappings = short_similarity.loc[yes_short_index]\n",
    "bupa_valid_short_mappings.shape"
   ]
  },
  {
   "cell_type": "code",
   "execution_count": 35,
   "id": "b090e4d4",
   "metadata": {},
   "outputs": [],
   "source": [
    "bupa_valid_short_mappings.to_excel('bupa_valid_short_mappings.xlsx')"
   ]
  },
  {
   "cell_type": "markdown",
   "id": "fa31a03d",
   "metadata": {},
   "source": [
    "# Long Validation:"
   ]
  },
  {
   "cell_type": "code",
   "execution_count": 5,
   "id": "0625e5d8",
   "metadata": {},
   "outputs": [],
   "source": [
    "def validate_long_mappings_batched_resume(\n",
    "    full_df: pd.DataFrame,\n",
    "    llm,\n",
    "    checkpoint_file: str = \"bupa_long_llm_validation_results.csv\",\n",
    "    batch_size: int = 10\n",
    "):\n",
    "    \"\"\"\n",
    "    Validate pairs in batches, resume from checkpoint,\n",
    "    and save failed batches' rows for later inspection.\n",
    "    \"\"\"\n",
    "\n",
    "    # Load checkpoint if exists\n",
    "    try:\n",
    "        results_df = pd.read_csv(checkpoint_file)\n",
    "        validated_indices = set(results_df[\"row_idx\"])\n",
    "        print(f\"✅ Found checkpoint: {len(validated_indices)} rows already validated.\")\n",
    "    except FileNotFoundError:\n",
    "        results_df = pd.DataFrame(columns=[\n",
    "            \"row_idx\", \"AHJ_DESCRIPTION\", \"SBS_LONG_DESCRIPTION\",\n",
    "            \"Similarity\", \"LLM_Answer\", \"Reason\"\n",
    "        ])\n",
    "        validated_indices = set()\n",
    "        print(f\"🆕 No checkpoint found. Starting fresh!\")\n",
    "\n",
    "    unvalidated_mask = ~full_df.index.isin(validated_indices)\n",
    "    to_validate_df = full_df[unvalidated_mask]\n",
    "\n",
    "    print(f\"🔍 Total rows: {len(full_df)}\")\n",
    "    print(f\"✅ Already validated: {len(validated_indices)}\")\n",
    "    print(f\"⚡ Still to validate: {len(to_validate_df)}\")\n",
    "\n",
    "    all_results = results_df.to_dict(orient=\"records\")\n",
    "    failed_rows = []\n",
    "\n",
    "    def process_batch(start, end, batch):\n",
    "        nonlocal validated_indices, all_results, failed_rows\n",
    "\n",
    "        prompt = (\n",
    "            \"You are an expert in medical coding and service mapping.\\n\\n\"\n",
    "            \"Below is a list of AHJ_DESCRIPTION and SBS_LONG_DESCRIPTION pairs.\\n\\n\"\n",
    "            \"For each pair:\\n\"\n",
    "            \"- Decide if the AHJ_DESCRIPTION correctly maps to the SBS_LONG_DESCRIPTION,\\n\"\n",
    "            \"  OR if the SBS_LONG_DESCRIPTION is a valid generalization, broader category, or plural of the AHJ_DESCRIPTION,\\n\"\n",
    "            \"  OR if the AHJ_DESCRIPTION is a valid generalization, broader category, or plural of the SBS_LONG_DESCRIPTION.\\n\\n\"\n",
    "            \"Important:\\n\"\n",
    "            \"• Be careful: 'unilateral' and 'bilateral' are different and should NOT be treated the same.\\n\"\n",
    "            \"• Singularity and Plurality don't affect the meaning.\\n\"\n",
    "            \"• Small punctuation differences (hyphens, brackets, commas) do not affect the meaning.\\n\"\n",
    "            \"• If you are unsure, answer NO. Do not guess.\\n\\n\"\n",
    "            \"Examples:\\n\"\n",
    "            \"✔ 'LEFT KNEE ARTHROSCOPY' vs. 'KNEE ARTHROSCOPY' → YES (valid generalization)\\n\"\n",
    "            \"✔ 'PORCELAIN FUSED TO METAL CROWN' vs. 'PORCELAIN FUSED TO BASE METAL CROWN' → YES (valid generalization)\\n\"\n",
    "            \"✔ 'BILATERAL MASTECTOMY' vs. 'MASTECTOMY' → YES (valid generalization)\\n\"\n",
    "            \"✔ 'TOOTH EXTRACTION' vs. 'TEETH EXTRACTIONS' → YES (plural)\\n\"\n",
    "            \"❌ 'UNILATERAL MASTECTOMY' vs. 'BILATERAL MASTECTOMY' → NO (different laterality)\\n\\n\"\n",
    "            \"✅ You MUST follow these rules:\\n\"\n",
    "            \"Answer YES or NO and explain briefly for each pair.\\n\\n\"\n",
    "            \"Return your answers in strict JSON array format like this:\\n\"\n",
    "            \"[{\\\"index\\\": 0, \\\"answer\\\": \\\"YES\\\", \\\"reason\\\": \\\"Fully matches.\\\"}, ...]\\n\\n\"\n",
    "            \"✅ Return ONLY a valid JSON array and nothing else. \\n\\n\"\n",
    "            \"❌ Do NOT add any text, comment, or markdown before or after it. \\n\\n\"\n",
    "            \"Pairs:\\n\"\n",
    "        )\n",
    "\n",
    "        for i, (_, row) in enumerate(batch.iterrows()):\n",
    "            ahj_desc = sanitize_description(row['AHJ_DESCRIPTION'])\n",
    "            sbs_desc = sanitize_description(row['SBS_LONG_DESCRIPTION'])\n",
    "            prompt += f\"{i})\\n\"\n",
    "            prompt += f\"- AHJ_DESCRIPTION: \\\"{ahj_desc}\\\"\\n\"\n",
    "            prompt += f\"- SBS_LONG_DESCRIPTION: \\\"{sbs_desc}\\\"\\n\\n\"\n",
    "\n",
    "        answers = None\n",
    "        max_retries = 3\n",
    "\n",
    "        for attempt in range(max_retries):\n",
    "            try:\n",
    "                response_text = llm._call(prompt)\n",
    "                answers = safe_json_parse(response_text)\n",
    "                break\n",
    "            except Exception as e:\n",
    "                print(f\"⚠️ Error for batch {start}-{end} attempt {attempt+1}: {e}\")\n",
    "                if attempt < max_retries - 1:\n",
    "                    print(f\"🔁 Retrying batch {start}-{end} (attempt {attempt+2}/{max_retries})...\")\n",
    "                    time.sleep(5)\n",
    "\n",
    "        if answers is None:\n",
    "            print(f\"❌ Batch {start}-{end} failed after {max_retries} attempts. Saving rows to failed_rows.\")\n",
    "            failed_rows.extend(batch.index.values.tolist())\n",
    "            return\n",
    "\n",
    "        for i, ans in enumerate(answers):\n",
    "            idx = batch.index[i]\n",
    "            row = batch.iloc[i]\n",
    "            all_results.append({\n",
    "                \"row_idx\": idx,\n",
    "                \"AHJ_DESCRIPTION\": row[\"AHJ_DESCRIPTION\"],\n",
    "                \"SBS_LONG_DESCRIPTION\": row[\"SBS_LONG_DESCRIPTION\"],\n",
    "                \"Similarity\": row.get(\"LONG_SIMILARITY_SCORE\", \"\"),\n",
    "                \"LLM_Answer\": ans[\"answer\"].strip().upper(),\n",
    "                \"Reason\": ans.get(\"reason\", \"\").strip()\n",
    "            })\n",
    "            validated_indices.add(idx)\n",
    "\n",
    "        pd.DataFrame(all_results).to_csv(checkpoint_file, index=False)\n",
    "        print(f\"✅ Saved checkpoint: {len(validated_indices)} rows validated.\")\n",
    "        time.sleep(1)\n",
    "\n",
    "    # Main loop: no retries here\n",
    "    for start in tqdm(range(0, len(to_validate_df), batch_size)):\n",
    "        end = min(start + batch_size, len(to_validate_df))\n",
    "        batch = to_validate_df.iloc[start:end].copy()\n",
    "        process_batch(start, end, batch)\n",
    "\n",
    "    # Save failed rows to separate file\n",
    "    if failed_rows:\n",
    "        failed_df = full_df.loc[failed_rows]\n",
    "        failed_df.to_csv(\"bupa_failed_rows.csv\", index_label=\"row_idx\")\n",
    "        print(f\"💾 Saved {len(failed_rows)} failed rows to bupa_failed_rows.csv for later retry or review.\")\n",
    "\n",
    "    final_df = pd.DataFrame(all_results).sort_values(\"row_idx\")\n",
    "    return final_df"
   ]
  },
  {
   "cell_type": "code",
   "execution_count": 6,
   "id": "dee97b0e",
   "metadata": {},
   "outputs": [
    {
     "name": "stdout",
     "output_type": "stream",
     "text": [
      "✅ Found checkpoint: 1040 rows already validated.\n",
      "🔍 Total rows: 2484\n",
      "✅ Already validated: 1040\n",
      "⚡ Still to validate: 1444\n"
     ]
    },
    {
     "name": "stderr",
     "output_type": "stream",
     "text": [
      "  0%|          | 0/145 [00:00<?, ?it/s]"
     ]
    },
    {
     "name": "stdout",
     "output_type": "stream",
     "text": [
      "⚠️ Error for batch 0-10 attempt 1: No valid JSON array found in LLM response.\n",
      "🔁 Retrying batch 0-10 (attempt 2/3)...\n",
      "✅ Saved checkpoint: 1050 rows validated.\n"
     ]
    },
    {
     "name": "stderr",
     "output_type": "stream",
     "text": [
      "  1%|          | 1/145 [01:11<2:51:48, 71.58s/it]"
     ]
    },
    {
     "name": "stdout",
     "output_type": "stream",
     "text": [
      "⚠️ Error for batch 10-20 attempt 1: No valid JSON array found in LLM response.\n",
      "🔁 Retrying batch 10-20 (attempt 2/3)...\n",
      "⚠️ Error for batch 10-20 attempt 2: No valid JSON array found in LLM response.\n",
      "🔁 Retrying batch 10-20 (attempt 3/3)...\n"
     ]
    },
    {
     "name": "stderr",
     "output_type": "stream",
     "text": [
      "  1%|▏         | 2/145 [02:58<3:40:21, 92.46s/it]"
     ]
    },
    {
     "name": "stdout",
     "output_type": "stream",
     "text": [
      "⚠️ Error for batch 10-20 attempt 3: No valid JSON array found in LLM response.\n",
      "❌ Batch 10-20 failed after 3 attempts. Saving rows to failed_rows.\n",
      "⚠️ Error for batch 20-30 attempt 1: Expecting value: line 1 column 2 (char 1)\n",
      "🔁 Retrying batch 20-30 (attempt 2/3)...\n",
      "⚠️ Error for batch 20-30 attempt 2: Expecting value: line 1 column 2 (char 1)\n",
      "🔁 Retrying batch 20-30 (attempt 3/3)...\n"
     ]
    },
    {
     "name": "stderr",
     "output_type": "stream",
     "text": [
      "  2%|▏         | 3/145 [03:53<2:58:41, 75.50s/it]"
     ]
    },
    {
     "name": "stdout",
     "output_type": "stream",
     "text": [
      "⚠️ Error for batch 20-30 attempt 3: Expecting value: line 1 column 2 (char 1)\n",
      "❌ Batch 20-30 failed after 3 attempts. Saving rows to failed_rows.\n",
      "⚠️ Error for batch 30-40 attempt 1: No valid JSON array found in LLM response.\n",
      "🔁 Retrying batch 30-40 (attempt 2/3)...\n",
      "⚠️ Error for batch 30-40 attempt 2: No valid JSON array found in LLM response.\n",
      "🔁 Retrying batch 30-40 (attempt 3/3)...\n"
     ]
    },
    {
     "name": "stderr",
     "output_type": "stream",
     "text": [
      "  3%|▎         | 4/145 [05:43<3:29:04, 88.97s/it]"
     ]
    },
    {
     "name": "stdout",
     "output_type": "stream",
     "text": [
      "⚠️ Error for batch 30-40 attempt 3: No valid JSON array found in LLM response.\n",
      "❌ Batch 30-40 failed after 3 attempts. Saving rows to failed_rows.\n",
      "⚠️ Error for batch 40-50 attempt 1: Expecting value: line 1 column 2 (char 1)\n",
      "🔁 Retrying batch 40-50 (attempt 2/3)...\n",
      "⚠️ Error for batch 40-50 attempt 2: Expecting value: line 1 column 2 (char 1)\n",
      "🔁 Retrying batch 40-50 (attempt 3/3)...\n"
     ]
    },
    {
     "name": "stderr",
     "output_type": "stream",
     "text": [
      "  3%|▎         | 5/145 [06:39<2:59:40, 77.00s/it]"
     ]
    },
    {
     "name": "stdout",
     "output_type": "stream",
     "text": [
      "⚠️ Error for batch 40-50 attempt 3: Expecting value: line 1 column 2 (char 1)\n",
      "❌ Batch 40-50 failed after 3 attempts. Saving rows to failed_rows.\n",
      "✅ Saved checkpoint: 1060 rows validated.\n"
     ]
    },
    {
     "name": "stderr",
     "output_type": "stream",
     "text": [
      "  4%|▍         | 6/145 [06:55<2:10:30, 56.34s/it]"
     ]
    },
    {
     "name": "stdout",
     "output_type": "stream",
     "text": [
      "⚠️ Error for batch 60-70 attempt 1: Expecting value: line 1 column 2 (char 1)\n",
      "🔁 Retrying batch 60-70 (attempt 2/3)...\n",
      "⚠️ Error for batch 60-70 attempt 2: Expecting value: line 1 column 2 (char 1)\n",
      "🔁 Retrying batch 60-70 (attempt 3/3)...\n"
     ]
    },
    {
     "name": "stderr",
     "output_type": "stream",
     "text": [
      "  5%|▍         | 7/145 [08:08<2:22:01, 61.75s/it]"
     ]
    },
    {
     "name": "stdout",
     "output_type": "stream",
     "text": [
      "⚠️ Error for batch 60-70 attempt 3: Expecting value: line 1 column 2 (char 1)\n",
      "❌ Batch 60-70 failed after 3 attempts. Saving rows to failed_rows.\n",
      "⚠️ Error for batch 70-80 attempt 1: No valid JSON array found in LLM response.\n",
      "🔁 Retrying batch 70-80 (attempt 2/3)...\n",
      "⚠️ Error for batch 70-80 attempt 2: No valid JSON array found in LLM response.\n",
      "🔁 Retrying batch 70-80 (attempt 3/3)...\n"
     ]
    },
    {
     "name": "stderr",
     "output_type": "stream",
     "text": [
      "  6%|▌         | 8/145 [09:44<2:45:59, 72.70s/it]"
     ]
    },
    {
     "name": "stdout",
     "output_type": "stream",
     "text": [
      "⚠️ Error for batch 70-80 attempt 3: No valid JSON array found in LLM response.\n",
      "❌ Batch 70-80 failed after 3 attempts. Saving rows to failed_rows.\n",
      "⚠️ Error for batch 80-90 attempt 1: Expecting value: line 1 column 2 (char 1)\n",
      "🔁 Retrying batch 80-90 (attempt 2/3)...\n",
      "⚠️ Error for batch 80-90 attempt 2: Expecting value: line 1 column 2 (char 1)\n",
      "🔁 Retrying batch 80-90 (attempt 3/3)...\n"
     ]
    },
    {
     "name": "stderr",
     "output_type": "stream",
     "text": [
      "  6%|▌         | 9/145 [11:15<2:58:00, 78.53s/it]"
     ]
    },
    {
     "name": "stdout",
     "output_type": "stream",
     "text": [
      "⚠️ Error for batch 80-90 attempt 3: Expecting value: line 1 column 2 (char 1)\n",
      "❌ Batch 80-90 failed after 3 attempts. Saving rows to failed_rows.\n",
      "✅ Saved checkpoint: 1070 rows validated.\n"
     ]
    },
    {
     "name": "stderr",
     "output_type": "stream",
     "text": [
      "  7%|▋         | 10/145 [11:31<2:13:09, 59.18s/it]"
     ]
    },
    {
     "name": "stdout",
     "output_type": "stream",
     "text": [
      "✅ Saved checkpoint: 1080 rows validated.\n"
     ]
    },
    {
     "name": "stderr",
     "output_type": "stream",
     "text": [
      "  8%|▊         | 11/145 [11:54<1:47:01, 47.92s/it]"
     ]
    },
    {
     "name": "stdout",
     "output_type": "stream",
     "text": [
      "⚠️ Error for batch 110-120 attempt 1: Expecting value: line 1 column 2 (char 1)\n",
      "🔁 Retrying batch 110-120 (attempt 2/3)...\n",
      "✅ Saved checkpoint: 1090 rows validated.\n"
     ]
    },
    {
     "name": "stderr",
     "output_type": "stream",
     "text": [
      "  8%|▊         | 12/145 [12:27<1:36:26, 43.50s/it]"
     ]
    },
    {
     "name": "stdout",
     "output_type": "stream",
     "text": [
      "✅ Saved checkpoint: 1100 rows validated.\n"
     ]
    },
    {
     "name": "stderr",
     "output_type": "stream",
     "text": [
      "  9%|▉         | 13/145 [12:39<1:14:55, 34.06s/it]"
     ]
    },
    {
     "name": "stdout",
     "output_type": "stream",
     "text": [
      "⚠️ Error for batch 130-140 attempt 1: Expecting value: line 1 column 2 (char 1)\n",
      "🔁 Retrying batch 130-140 (attempt 2/3)...\n",
      "⚠️ Error for batch 130-140 attempt 2: Expecting value: line 1 column 2 (char 1)\n",
      "🔁 Retrying batch 130-140 (attempt 3/3)...\n"
     ]
    },
    {
     "name": "stderr",
     "output_type": "stream",
     "text": [
      " 10%|▉         | 14/145 [13:50<1:38:25, 45.08s/it]"
     ]
    },
    {
     "name": "stdout",
     "output_type": "stream",
     "text": [
      "⚠️ Error for batch 130-140 attempt 3: Expecting value: line 1 column 2 (char 1)\n",
      "❌ Batch 130-140 failed after 3 attempts. Saving rows to failed_rows.\n",
      "⚠️ Error for batch 140-150 attempt 1: Expecting value: line 1 column 2 (char 1)\n",
      "🔁 Retrying batch 140-150 (attempt 2/3)...\n",
      "⚠️ Error for batch 140-150 attempt 2: Expecting value: line 1 column 2 (char 1)\n",
      "🔁 Retrying batch 140-150 (attempt 3/3)...\n"
     ]
    },
    {
     "name": "stderr",
     "output_type": "stream",
     "text": [
      " 10%|█         | 15/145 [15:02<1:55:15, 53.19s/it]"
     ]
    },
    {
     "name": "stdout",
     "output_type": "stream",
     "text": [
      "⚠️ Error for batch 140-150 attempt 3: Expecting value: line 1 column 2 (char 1)\n",
      "❌ Batch 140-150 failed after 3 attempts. Saving rows to failed_rows.\n",
      "⚠️ Error for batch 150-160 attempt 1: Expecting value: line 1 column 2 (char 1)\n",
      "🔁 Retrying batch 150-160 (attempt 2/3)...\n",
      "⚠️ Error for batch 150-160 attempt 2: Expecting value: line 1 column 2 (char 1)\n",
      "🔁 Retrying batch 150-160 (attempt 3/3)...\n"
     ]
    },
    {
     "name": "stderr",
     "output_type": "stream",
     "text": [
      " 11%|█         | 16/145 [16:29<2:16:24, 63.45s/it]"
     ]
    },
    {
     "name": "stdout",
     "output_type": "stream",
     "text": [
      "⚠️ Error for batch 150-160 attempt 3: Expecting value: line 1 column 2 (char 1)\n",
      "❌ Batch 150-160 failed after 3 attempts. Saving rows to failed_rows.\n",
      "⚠️ Error for batch 160-170 attempt 1: Expecting value: line 1 column 2 (char 1)\n",
      "🔁 Retrying batch 160-170 (attempt 2/3)...\n",
      "⚠️ Error for batch 160-170 attempt 2: Expecting value: line 1 column 2 (char 1)\n",
      "🔁 Retrying batch 160-170 (attempt 3/3)...\n"
     ]
    },
    {
     "name": "stderr",
     "output_type": "stream",
     "text": [
      " 12%|█▏        | 17/145 [18:18<2:44:41, 77.20s/it]"
     ]
    },
    {
     "name": "stdout",
     "output_type": "stream",
     "text": [
      "⚠️ Error for batch 160-170 attempt 3: Expecting value: line 1 column 2 (char 1)\n",
      "❌ Batch 160-170 failed after 3 attempts. Saving rows to failed_rows.\n",
      "⚠️ Error for batch 170-180 attempt 1: Expecting value: line 1 column 2 (char 1)\n",
      "🔁 Retrying batch 170-180 (attempt 2/3)...\n",
      "⚠️ Error for batch 170-180 attempt 2: Expecting value: line 1 column 2 (char 1)\n",
      "🔁 Retrying batch 170-180 (attempt 3/3)...\n"
     ]
    },
    {
     "name": "stderr",
     "output_type": "stream",
     "text": [
      " 12%|█▏        | 18/145 [19:15<2:30:15, 70.99s/it]"
     ]
    },
    {
     "name": "stdout",
     "output_type": "stream",
     "text": [
      "⚠️ Error for batch 170-180 attempt 3: Expecting value: line 1 column 2 (char 1)\n",
      "❌ Batch 170-180 failed after 3 attempts. Saving rows to failed_rows.\n",
      "✅ Saved checkpoint: 1110 rows validated.\n"
     ]
    },
    {
     "name": "stderr",
     "output_type": "stream",
     "text": [
      " 13%|█▎        | 19/145 [19:29<1:53:20, 53.97s/it]"
     ]
    },
    {
     "name": "stdout",
     "output_type": "stream",
     "text": [
      "✅ Saved checkpoint: 1120 rows validated.\n"
     ]
    },
    {
     "name": "stderr",
     "output_type": "stream",
     "text": [
      " 14%|█▍        | 20/145 [19:45<1:28:23, 42.43s/it]"
     ]
    },
    {
     "name": "stdout",
     "output_type": "stream",
     "text": [
      "⚠️ Error for batch 200-210 attempt 1: Expecting value: line 1 column 2 (char 1)\n",
      "🔁 Retrying batch 200-210 (attempt 2/3)...\n",
      "⚠️ Error for batch 200-210 attempt 2: Expecting value: line 1 column 2 (char 1)\n",
      "🔁 Retrying batch 200-210 (attempt 3/3)...\n"
     ]
    },
    {
     "name": "stderr",
     "output_type": "stream",
     "text": [
      " 14%|█▍        | 21/145 [20:49<1:40:59, 48.87s/it]"
     ]
    },
    {
     "name": "stdout",
     "output_type": "stream",
     "text": [
      "⚠️ Error for batch 200-210 attempt 3: Expecting value: line 1 column 2 (char 1)\n",
      "❌ Batch 200-210 failed after 3 attempts. Saving rows to failed_rows.\n",
      "⚠️ Error for batch 210-220 attempt 1: Expecting value: line 1 column 2 (char 1)\n",
      "🔁 Retrying batch 210-220 (attempt 2/3)...\n",
      "⚠️ Error for batch 210-220 attempt 2: Expecting value: line 1 column 2 (char 1)\n",
      "🔁 Retrying batch 210-220 (attempt 3/3)...\n"
     ]
    },
    {
     "name": "stderr",
     "output_type": "stream",
     "text": [
      " 15%|█▌        | 22/145 [22:29<2:12:06, 64.44s/it]"
     ]
    },
    {
     "name": "stdout",
     "output_type": "stream",
     "text": [
      "⚠️ Error for batch 210-220 attempt 3: Expecting value: line 1 column 2 (char 1)\n",
      "❌ Batch 210-220 failed after 3 attempts. Saving rows to failed_rows.\n",
      "⚠️ Error for batch 220-230 attempt 1: Expecting value: line 1 column 2 (char 1)\n",
      "🔁 Retrying batch 220-230 (attempt 2/3)...\n",
      "⚠️ Error for batch 220-230 attempt 2: Expecting value: line 1 column 2 (char 1)\n",
      "🔁 Retrying batch 220-230 (attempt 3/3)...\n"
     ]
    },
    {
     "name": "stderr",
     "output_type": "stream",
     "text": [
      " 16%|█▌        | 23/145 [24:11<2:33:36, 75.54s/it]"
     ]
    },
    {
     "name": "stdout",
     "output_type": "stream",
     "text": [
      "⚠️ Error for batch 220-230 attempt 3: Expecting value: line 1 column 2 (char 1)\n",
      "❌ Batch 220-230 failed after 3 attempts. Saving rows to failed_rows.\n",
      "⚠️ Error for batch 230-240 attempt 1: Expecting value: line 1 column 2 (char 1)\n",
      "🔁 Retrying batch 230-240 (attempt 2/3)...\n",
      "⚠️ Error for batch 230-240 attempt 2: Expecting value: line 1 column 2 (char 1)\n",
      "🔁 Retrying batch 230-240 (attempt 3/3)...\n"
     ]
    },
    {
     "name": "stderr",
     "output_type": "stream",
     "text": [
      " 17%|█▋        | 24/145 [25:50<2:46:33, 82.59s/it]"
     ]
    },
    {
     "name": "stdout",
     "output_type": "stream",
     "text": [
      "⚠️ Error for batch 230-240 attempt 3: Expecting value: line 1 column 2 (char 1)\n",
      "❌ Batch 230-240 failed after 3 attempts. Saving rows to failed_rows.\n",
      "⚠️ Error for batch 240-250 attempt 1: Expecting value: line 1 column 2 (char 1)\n",
      "🔁 Retrying batch 240-250 (attempt 2/3)...\n",
      "⚠️ Error for batch 240-250 attempt 2: Expecting value: line 1 column 2 (char 1)\n",
      "🔁 Retrying batch 240-250 (attempt 3/3)...\n"
     ]
    },
    {
     "name": "stderr",
     "output_type": "stream",
     "text": [
      " 17%|█▋        | 25/145 [27:40<3:01:58, 90.98s/it]"
     ]
    },
    {
     "name": "stdout",
     "output_type": "stream",
     "text": [
      "⚠️ Error for batch 240-250 attempt 3: Expecting value: line 1 column 2 (char 1)\n",
      "❌ Batch 240-250 failed after 3 attempts. Saving rows to failed_rows.\n",
      "⚠️ Error for batch 250-260 attempt 1: No valid JSON array found in LLM response.\n",
      "🔁 Retrying batch 250-260 (attempt 2/3)...\n",
      "⚠️ Error for batch 250-260 attempt 2: No valid JSON array found in LLM response.\n",
      "🔁 Retrying batch 250-260 (attempt 3/3)...\n"
     ]
    },
    {
     "name": "stderr",
     "output_type": "stream",
     "text": [
      " 18%|█▊        | 26/145 [29:29<3:10:41, 96.15s/it]"
     ]
    },
    {
     "name": "stdout",
     "output_type": "stream",
     "text": [
      "⚠️ Error for batch 250-260 attempt 3: Expecting value: line 1 column 2 (char 1)\n",
      "❌ Batch 250-260 failed after 3 attempts. Saving rows to failed_rows.\n",
      "⚠️ Error for batch 260-270 attempt 1: Expecting value: line 1 column 2 (char 1)\n",
      "🔁 Retrying batch 260-270 (attempt 2/3)...\n",
      "⚠️ Error for batch 260-270 attempt 2: Expecting value: line 1 column 2 (char 1)\n",
      "🔁 Retrying batch 260-270 (attempt 3/3)...\n"
     ]
    },
    {
     "name": "stderr",
     "output_type": "stream",
     "text": [
      " 19%|█▊        | 27/145 [30:55<3:03:05, 93.10s/it]"
     ]
    },
    {
     "name": "stdout",
     "output_type": "stream",
     "text": [
      "⚠️ Error for batch 260-270 attempt 3: Expecting value: line 1 column 2 (char 1)\n",
      "❌ Batch 260-270 failed after 3 attempts. Saving rows to failed_rows.\n",
      "⚠️ Error for batch 270-280 attempt 1: No valid JSON array found in LLM response.\n",
      "🔁 Retrying batch 270-280 (attempt 2/3)...\n",
      "⚠️ Error for batch 270-280 attempt 2: No valid JSON array found in LLM response.\n",
      "🔁 Retrying batch 270-280 (attempt 3/3)...\n"
     ]
    },
    {
     "name": "stderr",
     "output_type": "stream",
     "text": [
      " 19%|█▉        | 28/145 [33:00<3:20:31, 102.83s/it]"
     ]
    },
    {
     "name": "stdout",
     "output_type": "stream",
     "text": [
      "⚠️ Error for batch 270-280 attempt 3: No valid JSON array found in LLM response.\n",
      "❌ Batch 270-280 failed after 3 attempts. Saving rows to failed_rows.\n",
      "⚠️ Error for batch 280-290 attempt 1: No valid JSON array found in LLM response.\n",
      "🔁 Retrying batch 280-290 (attempt 2/3)...\n",
      "⚠️ Error for batch 280-290 attempt 2: No valid JSON array found in LLM response.\n",
      "🔁 Retrying batch 280-290 (attempt 3/3)...\n"
     ]
    },
    {
     "name": "stderr",
     "output_type": "stream",
     "text": [
      " 20%|██        | 29/145 [37:56<5:10:50, 160.78s/it]"
     ]
    },
    {
     "name": "stdout",
     "output_type": "stream",
     "text": [
      "⚠️ Error for batch 280-290 attempt 3: No valid JSON array found in LLM response.\n",
      "❌ Batch 280-290 failed after 3 attempts. Saving rows to failed_rows.\n",
      "✅ Saved checkpoint: 1130 rows validated.\n"
     ]
    },
    {
     "name": "stderr",
     "output_type": "stream",
     "text": [
      " 21%|██        | 30/145 [38:19<3:48:59, 119.47s/it]"
     ]
    },
    {
     "name": "stdout",
     "output_type": "stream",
     "text": [
      "✅ Saved checkpoint: 1140 rows validated.\n"
     ]
    },
    {
     "name": "stderr",
     "output_type": "stream",
     "text": [
      " 21%|██▏       | 31/145 [38:36<2:48:17, 88.57s/it] "
     ]
    },
    {
     "name": "stdout",
     "output_type": "stream",
     "text": [
      "✅ Saved checkpoint: 1150 rows validated.\n"
     ]
    },
    {
     "name": "stderr",
     "output_type": "stream",
     "text": [
      " 22%|██▏       | 32/145 [38:50<2:04:43, 66.23s/it]"
     ]
    },
    {
     "name": "stdout",
     "output_type": "stream",
     "text": [
      "⚠️ Error for batch 320-330 attempt 1: Expecting value: line 1 column 2 (char 1)\n",
      "🔁 Retrying batch 320-330 (attempt 2/3)...\n",
      "⚠️ Error for batch 320-330 attempt 2: Expecting value: line 1 column 2 (char 1)\n",
      "🔁 Retrying batch 320-330 (attempt 3/3)...\n"
     ]
    },
    {
     "name": "stderr",
     "output_type": "stream",
     "text": [
      " 23%|██▎       | 33/145 [39:49<1:59:28, 64.00s/it]"
     ]
    },
    {
     "name": "stdout",
     "output_type": "stream",
     "text": [
      "⚠️ Error for batch 320-330 attempt 3: Expecting value: line 1 column 2 (char 1)\n",
      "❌ Batch 320-330 failed after 3 attempts. Saving rows to failed_rows.\n",
      "✅ Saved checkpoint: 1160 rows validated.\n"
     ]
    },
    {
     "name": "stderr",
     "output_type": "stream",
     "text": [
      " 23%|██▎       | 34/145 [40:13<1:36:13, 52.01s/it]"
     ]
    },
    {
     "name": "stdout",
     "output_type": "stream",
     "text": [
      "✅ Saved checkpoint: 1170 rows validated.\n"
     ]
    },
    {
     "name": "stderr",
     "output_type": "stream",
     "text": [
      " 24%|██▍       | 35/145 [40:30<1:16:01, 41.47s/it]"
     ]
    },
    {
     "name": "stdout",
     "output_type": "stream",
     "text": [
      "✅ Saved checkpoint: 1180 rows validated.\n"
     ]
    },
    {
     "name": "stderr",
     "output_type": "stream",
     "text": [
      " 25%|██▍       | 36/145 [40:47<1:02:05, 34.18s/it]"
     ]
    },
    {
     "name": "stdout",
     "output_type": "stream",
     "text": [
      "⚠️ Error for batch 360-370 attempt 1: Expecting value: line 1 column 2 (char 1)\n",
      "🔁 Retrying batch 360-370 (attempt 2/3)...\n",
      "⚠️ Error for batch 360-370 attempt 2: Expecting value: line 1 column 2 (char 1)\n",
      "🔁 Retrying batch 360-370 (attempt 3/3)...\n"
     ]
    },
    {
     "name": "stderr",
     "output_type": "stream",
     "text": [
      " 26%|██▌       | 37/145 [41:54<1:19:27, 44.15s/it]"
     ]
    },
    {
     "name": "stdout",
     "output_type": "stream",
     "text": [
      "⚠️ Error for batch 360-370 attempt 3: Expecting value: line 1 column 2 (char 1)\n",
      "❌ Batch 360-370 failed after 3 attempts. Saving rows to failed_rows.\n",
      "✅ Saved checkpoint: 1190 rows validated.\n"
     ]
    },
    {
     "name": "stderr",
     "output_type": "stream",
     "text": [
      " 26%|██▌       | 38/145 [42:11<1:04:02, 35.91s/it]"
     ]
    },
    {
     "name": "stdout",
     "output_type": "stream",
     "text": [
      "⚠️ Error for batch 380-390 attempt 1: No valid JSON array found in LLM response.\n",
      "🔁 Retrying batch 380-390 (attempt 2/3)...\n",
      "✅ Saved checkpoint: 1200 rows validated.\n"
     ]
    },
    {
     "name": "stderr",
     "output_type": "stream",
     "text": [
      " 27%|██▋       | 39/145 [43:33<1:28:01, 49.83s/it]"
     ]
    },
    {
     "name": "stdout",
     "output_type": "stream",
     "text": [
      "✅ Saved checkpoint: 1210 rows validated.\n"
     ]
    },
    {
     "name": "stderr",
     "output_type": "stream",
     "text": [
      " 28%|██▊       | 40/145 [43:49<1:09:28, 39.70s/it]"
     ]
    },
    {
     "name": "stdout",
     "output_type": "stream",
     "text": [
      "✅ Saved checkpoint: 1220 rows validated.\n"
     ]
    },
    {
     "name": "stderr",
     "output_type": "stream",
     "text": [
      " 28%|██▊       | 41/145 [44:03<55:18, 31.91s/it]  "
     ]
    },
    {
     "name": "stdout",
     "output_type": "stream",
     "text": [
      "✅ Saved checkpoint: 1230 rows validated.\n"
     ]
    },
    {
     "name": "stderr",
     "output_type": "stream",
     "text": [
      " 29%|██▉       | 42/145 [44:15<44:45, 26.08s/it]"
     ]
    },
    {
     "name": "stdout",
     "output_type": "stream",
     "text": [
      "⚠️ Error for batch 420-430 attempt 1: Expecting value: line 1 column 2 (char 1)\n",
      "🔁 Retrying batch 420-430 (attempt 2/3)...\n",
      "⚠️ Error for batch 420-430 attempt 2: Expecting value: line 1 column 2 (char 1)\n",
      "🔁 Retrying batch 420-430 (attempt 3/3)...\n"
     ]
    },
    {
     "name": "stderr",
     "output_type": "stream",
     "text": [
      " 30%|██▉       | 43/145 [45:09<58:15, 34.27s/it]"
     ]
    },
    {
     "name": "stdout",
     "output_type": "stream",
     "text": [
      "⚠️ Error for batch 420-430 attempt 3: Expecting value: line 1 column 2 (char 1)\n",
      "❌ Batch 420-430 failed after 3 attempts. Saving rows to failed_rows.\n",
      "⚠️ Error for batch 430-440 attempt 1: Expecting value: line 1 column 2 (char 1)\n",
      "🔁 Retrying batch 430-440 (attempt 2/3)...\n",
      "✅ Saved checkpoint: 1240 rows validated.\n"
     ]
    },
    {
     "name": "stderr",
     "output_type": "stream",
     "text": [
      " 30%|███       | 44/145 [45:42<57:15, 34.01s/it]"
     ]
    },
    {
     "name": "stdout",
     "output_type": "stream",
     "text": [
      "⚠️ Error for batch 440-450 attempt 1: No valid JSON array found in LLM response.\n",
      "🔁 Retrying batch 440-450 (attempt 2/3)...\n",
      "✅ Saved checkpoint: 1250 rows validated.\n"
     ]
    },
    {
     "name": "stderr",
     "output_type": "stream",
     "text": [
      " 31%|███       | 45/145 [46:34<1:05:19, 39.20s/it]"
     ]
    },
    {
     "name": "stdout",
     "output_type": "stream",
     "text": [
      "✅ Saved checkpoint: 1260 rows validated.\n"
     ]
    },
    {
     "name": "stderr",
     "output_type": "stream",
     "text": [
      " 32%|███▏      | 46/145 [46:53<55:00, 33.34s/it]  "
     ]
    },
    {
     "name": "stdout",
     "output_type": "stream",
     "text": [
      "⚠️ Error for batch 460-470 attempt 1: Expecting value: line 1 column 2 (char 1)\n",
      "🔁 Retrying batch 460-470 (attempt 2/3)...\n",
      "✅ Saved checkpoint: 1270 rows validated.\n"
     ]
    },
    {
     "name": "stderr",
     "output_type": "stream",
     "text": [
      " 32%|███▏      | 47/145 [47:30<55:56, 34.25s/it]"
     ]
    },
    {
     "name": "stdout",
     "output_type": "stream",
     "text": [
      "⚠️ Error for batch 470-480 attempt 1: Expecting value: line 1 column 2 (char 1)\n",
      "🔁 Retrying batch 470-480 (attempt 2/3)...\n",
      "⚠️ Error for batch 470-480 attempt 2: Expecting value: line 1 column 2 (char 1)\n",
      "🔁 Retrying batch 470-480 (attempt 3/3)...\n"
     ]
    },
    {
     "name": "stderr",
     "output_type": "stream",
     "text": [
      " 33%|███▎      | 48/145 [48:47<1:16:31, 47.33s/it]"
     ]
    },
    {
     "name": "stdout",
     "output_type": "stream",
     "text": [
      "⚠️ Error for batch 470-480 attempt 3: Expecting value: line 1 column 2 (char 1)\n",
      "❌ Batch 470-480 failed after 3 attempts. Saving rows to failed_rows.\n",
      "✅ Saved checkpoint: 1280 rows validated.\n"
     ]
    },
    {
     "name": "stderr",
     "output_type": "stream",
     "text": [
      " 34%|███▍      | 49/145 [49:01<59:43, 37.33s/it]  "
     ]
    },
    {
     "name": "stdout",
     "output_type": "stream",
     "text": [
      "⚠️ Error for batch 490-500 attempt 1: No valid JSON array found in LLM response.\n",
      "🔁 Retrying batch 490-500 (attempt 2/3)...\n",
      "⚠️ Error for batch 490-500 attempt 2: No valid JSON array found in LLM response.\n",
      "🔁 Retrying batch 490-500 (attempt 3/3)...\n",
      "✅ Saved checkpoint: 1290 rows validated.\n"
     ]
    },
    {
     "name": "stderr",
     "output_type": "stream",
     "text": [
      " 34%|███▍      | 50/145 [50:16<1:16:42, 48.45s/it]"
     ]
    },
    {
     "name": "stdout",
     "output_type": "stream",
     "text": [
      "✅ Saved checkpoint: 1300 rows validated.\n"
     ]
    },
    {
     "name": "stderr",
     "output_type": "stream",
     "text": [
      " 35%|███▌      | 51/145 [50:35<1:02:00, 39.58s/it]"
     ]
    },
    {
     "name": "stdout",
     "output_type": "stream",
     "text": [
      "⚠️ Error for batch 510-520 attempt 1: Expecting value: line 1 column 2 (char 1)\n",
      "🔁 Retrying batch 510-520 (attempt 2/3)...\n",
      "⚠️ Error for batch 510-520 attempt 2: Expecting value: line 1 column 2 (char 1)\n",
      "🔁 Retrying batch 510-520 (attempt 3/3)...\n"
     ]
    },
    {
     "name": "stderr",
     "output_type": "stream",
     "text": [
      " 36%|███▌      | 52/145 [51:57<1:21:01, 52.27s/it]"
     ]
    },
    {
     "name": "stdout",
     "output_type": "stream",
     "text": [
      "⚠️ Error for batch 510-520 attempt 3: Expecting value: line 1 column 2 (char 1)\n",
      "❌ Batch 510-520 failed after 3 attempts. Saving rows to failed_rows.\n",
      "✅ Saved checkpoint: 1310 rows validated.\n"
     ]
    },
    {
     "name": "stderr",
     "output_type": "stream",
     "text": [
      " 37%|███▋      | 53/145 [52:12<1:03:01, 41.10s/it]"
     ]
    },
    {
     "name": "stdout",
     "output_type": "stream",
     "text": [
      "✅ Saved checkpoint: 1320 rows validated.\n"
     ]
    },
    {
     "name": "stderr",
     "output_type": "stream",
     "text": [
      " 37%|███▋      | 54/145 [52:24<49:21, 32.54s/it]  "
     ]
    },
    {
     "name": "stdout",
     "output_type": "stream",
     "text": [
      "⚠️ Error for batch 540-550 attempt 1: No valid JSON array found in LLM response.\n",
      "🔁 Retrying batch 540-550 (attempt 2/3)...\n",
      "⚠️ Error for batch 540-550 attempt 2: Expecting value: line 1 column 2 (char 1)\n",
      "🔁 Retrying batch 540-550 (attempt 3/3)...\n",
      "✅ Saved checkpoint: 1330 rows validated.\n"
     ]
    },
    {
     "name": "stderr",
     "output_type": "stream",
     "text": [
      " 38%|███▊      | 55/145 [53:50<1:12:51, 48.57s/it]"
     ]
    },
    {
     "name": "stdout",
     "output_type": "stream",
     "text": [
      "⚠️ Error for batch 550-560 attempt 1: Expecting value: line 1 column 2 (char 1)\n",
      "🔁 Retrying batch 550-560 (attempt 2/3)...\n",
      "⚠️ Error for batch 550-560 attempt 2: Expecting value: line 1 column 2 (char 1)\n",
      "🔁 Retrying batch 550-560 (attempt 3/3)...\n"
     ]
    },
    {
     "name": "stderr",
     "output_type": "stream",
     "text": [
      " 39%|███▊      | 56/145 [55:15<1:27:59, 59.32s/it]"
     ]
    },
    {
     "name": "stdout",
     "output_type": "stream",
     "text": [
      "⚠️ Error for batch 550-560 attempt 3: Expecting value: line 1 column 2 (char 1)\n",
      "❌ Batch 550-560 failed after 3 attempts. Saving rows to failed_rows.\n",
      "⚠️ Error for batch 560-570 attempt 1: Expecting value: line 1 column 2 (char 1)\n",
      "🔁 Retrying batch 560-570 (attempt 2/3)...\n",
      "⚠️ Error for batch 560-570 attempt 2: Expecting value: line 1 column 2 (char 1)\n",
      "🔁 Retrying batch 560-570 (attempt 3/3)...\n"
     ]
    },
    {
     "name": "stderr",
     "output_type": "stream",
     "text": [
      " 39%|███▉      | 57/145 [56:07<1:23:50, 57.16s/it]"
     ]
    },
    {
     "name": "stdout",
     "output_type": "stream",
     "text": [
      "⚠️ Error for batch 560-570 attempt 3: Expecting value: line 1 column 2 (char 1)\n",
      "❌ Batch 560-570 failed after 3 attempts. Saving rows to failed_rows.\n",
      "⚠️ Error for batch 570-580 attempt 1: Expecting value: line 1 column 2 (char 1)\n",
      "🔁 Retrying batch 570-580 (attempt 2/3)...\n",
      "⚠️ Error for batch 570-580 attempt 2: Expecting value: line 1 column 2 (char 1)\n",
      "🔁 Retrying batch 570-580 (attempt 3/3)...\n"
     ]
    },
    {
     "name": "stderr",
     "output_type": "stream",
     "text": [
      " 40%|████      | 58/145 [57:10<1:25:36, 59.04s/it]"
     ]
    },
    {
     "name": "stdout",
     "output_type": "stream",
     "text": [
      "⚠️ Error for batch 570-580 attempt 3: Expecting value: line 1 column 2 (char 1)\n",
      "❌ Batch 570-580 failed after 3 attempts. Saving rows to failed_rows.\n",
      "✅ Saved checkpoint: 1340 rows validated.\n"
     ]
    },
    {
     "name": "stderr",
     "output_type": "stream",
     "text": [
      " 41%|████      | 59/145 [57:32<1:08:28, 47.78s/it]"
     ]
    },
    {
     "name": "stdout",
     "output_type": "stream",
     "text": [
      "⚠️ Error for batch 590-600 attempt 1: Expecting value: line 1 column 2 (char 1)\n",
      "🔁 Retrying batch 590-600 (attempt 2/3)...\n",
      "⚠️ Error for batch 590-600 attempt 2: Expecting value: line 1 column 2 (char 1)\n",
      "🔁 Retrying batch 590-600 (attempt 3/3)...\n",
      "✅ Saved checkpoint: 1350 rows validated.\n"
     ]
    },
    {
     "name": "stderr",
     "output_type": "stream",
     "text": [
      " 41%|████▏     | 60/145 [58:25<1:10:02, 49.45s/it]"
     ]
    },
    {
     "name": "stdout",
     "output_type": "stream",
     "text": [
      "⚠️ Error for batch 600-610 attempt 1: Expecting value: line 1 column 2 (char 1)\n",
      "🔁 Retrying batch 600-610 (attempt 2/3)...\n",
      "⚠️ Error for batch 600-610 attempt 2: Expecting value: line 1 column 2 (char 1)\n",
      "🔁 Retrying batch 600-610 (attempt 3/3)...\n"
     ]
    },
    {
     "name": "stderr",
     "output_type": "stream",
     "text": [
      " 42%|████▏     | 61/145 [59:40<1:20:03, 57.18s/it]"
     ]
    },
    {
     "name": "stdout",
     "output_type": "stream",
     "text": [
      "⚠️ Error for batch 600-610 attempt 3: Expecting value: line 1 column 2 (char 1)\n",
      "❌ Batch 600-610 failed after 3 attempts. Saving rows to failed_rows.\n",
      "✅ Saved checkpoint: 1360 rows validated.\n"
     ]
    },
    {
     "name": "stderr",
     "output_type": "stream",
     "text": [
      " 43%|████▎     | 62/145 [59:55<1:01:30, 44.47s/it]"
     ]
    },
    {
     "name": "stdout",
     "output_type": "stream",
     "text": [
      "✅ Saved checkpoint: 1370 rows validated.\n"
     ]
    },
    {
     "name": "stderr",
     "output_type": "stream",
     "text": [
      " 43%|████▎     | 63/145 [1:00:11<49:02, 35.89s/it]"
     ]
    },
    {
     "name": "stdout",
     "output_type": "stream",
     "text": [
      "✅ Saved checkpoint: 1380 rows validated.\n"
     ]
    },
    {
     "name": "stderr",
     "output_type": "stream",
     "text": [
      " 44%|████▍     | 64/145 [1:00:31<42:07, 31.20s/it]"
     ]
    },
    {
     "name": "stdout",
     "output_type": "stream",
     "text": [
      "⚠️ Error for batch 640-650 attempt 1: No valid JSON array found in LLM response.\n",
      "🔁 Retrying batch 640-650 (attempt 2/3)...\n",
      "✅ Saved checkpoint: 1390 rows validated.\n"
     ]
    },
    {
     "name": "stderr",
     "output_type": "stream",
     "text": [
      " 45%|████▍     | 65/145 [1:01:22<49:19, 36.99s/it]"
     ]
    },
    {
     "name": "stdout",
     "output_type": "stream",
     "text": [
      "⚠️ Error for batch 650-660 attempt 1: No valid JSON array found in LLM response.\n",
      "🔁 Retrying batch 650-660 (attempt 2/3)...\n",
      "✅ Saved checkpoint: 1400 rows validated.\n"
     ]
    },
    {
     "name": "stderr",
     "output_type": "stream",
     "text": [
      " 46%|████▌     | 66/145 [1:02:09<52:48, 40.10s/it]"
     ]
    },
    {
     "name": "stdout",
     "output_type": "stream",
     "text": [
      "✅ Saved checkpoint: 1410 rows validated.\n"
     ]
    },
    {
     "name": "stderr",
     "output_type": "stream",
     "text": [
      " 46%|████▌     | 67/145 [1:02:29<44:06, 33.93s/it]"
     ]
    },
    {
     "name": "stdout",
     "output_type": "stream",
     "text": [
      "✅ Saved checkpoint: 1420 rows validated.\n"
     ]
    },
    {
     "name": "stderr",
     "output_type": "stream",
     "text": [
      " 47%|████▋     | 68/145 [1:02:42<35:36, 27.75s/it]"
     ]
    },
    {
     "name": "stdout",
     "output_type": "stream",
     "text": [
      "⚠️ Error for batch 680-690 attempt 1: No valid JSON array found in LLM response.\n",
      "🔁 Retrying batch 680-690 (attempt 2/3)...\n",
      "⚠️ Error for batch 680-690 attempt 2: No valid JSON array found in LLM response.\n",
      "🔁 Retrying batch 680-690 (attempt 3/3)...\n"
     ]
    },
    {
     "name": "stderr",
     "output_type": "stream",
     "text": [
      " 48%|████▊     | 69/145 [1:04:06<56:39, 44.73s/it]"
     ]
    },
    {
     "name": "stdout",
     "output_type": "stream",
     "text": [
      "⚠️ Error for batch 680-690 attempt 3: No valid JSON array found in LLM response.\n",
      "❌ Batch 680-690 failed after 3 attempts. Saving rows to failed_rows.\n",
      "⚠️ Error for batch 690-700 attempt 1: No valid JSON array found in LLM response.\n",
      "🔁 Retrying batch 690-700 (attempt 2/3)...\n",
      "⚠️ Error for batch 690-700 attempt 2: No valid JSON array found in LLM response.\n",
      "🔁 Retrying batch 690-700 (attempt 3/3)...\n",
      "✅ Saved checkpoint: 1430 rows validated.\n"
     ]
    },
    {
     "name": "stderr",
     "output_type": "stream",
     "text": [
      " 48%|████▊     | 70/145 [1:05:29<1:10:19, 56.26s/it]"
     ]
    },
    {
     "name": "stdout",
     "output_type": "stream",
     "text": [
      "⚠️ Error for batch 700-710 attempt 1: No valid JSON array found in LLM response.\n",
      "🔁 Retrying batch 700-710 (attempt 2/3)...\n",
      "⚠️ Error for batch 700-710 attempt 2: No valid JSON array found in LLM response.\n",
      "🔁 Retrying batch 700-710 (attempt 3/3)...\n",
      "✅ Saved checkpoint: 1440 rows validated.\n"
     ]
    },
    {
     "name": "stderr",
     "output_type": "stream",
     "text": [
      " 49%|████▉     | 71/145 [1:06:58<1:21:21, 65.97s/it]"
     ]
    },
    {
     "name": "stdout",
     "output_type": "stream",
     "text": [
      "✅ Saved checkpoint: 1450 rows validated.\n"
     ]
    },
    {
     "name": "stderr",
     "output_type": "stream",
     "text": [
      " 50%|████▉     | 72/145 [1:07:09<1:00:07, 49.42s/it]"
     ]
    },
    {
     "name": "stdout",
     "output_type": "stream",
     "text": [
      "✅ Saved checkpoint: 1460 rows validated.\n"
     ]
    },
    {
     "name": "stderr",
     "output_type": "stream",
     "text": [
      " 50%|█████     | 73/145 [1:07:23<46:32, 38.79s/it]  "
     ]
    },
    {
     "name": "stdout",
     "output_type": "stream",
     "text": [
      "✅ Saved checkpoint: 1470 rows validated.\n"
     ]
    },
    {
     "name": "stderr",
     "output_type": "stream",
     "text": [
      " 51%|█████     | 74/145 [1:07:42<38:58, 32.94s/it]"
     ]
    },
    {
     "name": "stdout",
     "output_type": "stream",
     "text": [
      "✅ Saved checkpoint: 1480 rows validated.\n"
     ]
    },
    {
     "name": "stderr",
     "output_type": "stream",
     "text": [
      " 52%|█████▏    | 75/145 [1:07:56<31:38, 27.12s/it]"
     ]
    },
    {
     "name": "stdout",
     "output_type": "stream",
     "text": [
      "⚠️ Error for batch 750-760 attempt 1: Expecting value: line 1 column 2 (char 1)\n",
      "🔁 Retrying batch 750-760 (attempt 2/3)...\n",
      "⚠️ Error for batch 750-760 attempt 2: Expecting value: line 1 column 2 (char 1)\n",
      "🔁 Retrying batch 750-760 (attempt 3/3)...\n"
     ]
    },
    {
     "name": "stderr",
     "output_type": "stream",
     "text": [
      " 52%|█████▏    | 76/145 [1:09:04<45:31, 39.59s/it]"
     ]
    },
    {
     "name": "stdout",
     "output_type": "stream",
     "text": [
      "⚠️ Error for batch 750-760 attempt 3: Expecting value: line 1 column 2 (char 1)\n",
      "❌ Batch 750-760 failed after 3 attempts. Saving rows to failed_rows.\n",
      "✅ Saved checkpoint: 1490 rows validated.\n"
     ]
    },
    {
     "name": "stderr",
     "output_type": "stream",
     "text": [
      " 53%|█████▎    | 77/145 [1:09:32<40:57, 36.14s/it]"
     ]
    },
    {
     "name": "stdout",
     "output_type": "stream",
     "text": [
      "⚠️ Error for batch 770-780 attempt 1: No valid JSON array found in LLM response.\n",
      "🔁 Retrying batch 770-780 (attempt 2/3)...\n",
      "⚠️ Error for batch 770-780 attempt 2: No valid JSON array found in LLM response.\n",
      "🔁 Retrying batch 770-780 (attempt 3/3)...\n"
     ]
    },
    {
     "name": "stderr",
     "output_type": "stream",
     "text": [
      " 54%|█████▍    | 78/145 [1:11:11<1:01:14, 54.84s/it]"
     ]
    },
    {
     "name": "stdout",
     "output_type": "stream",
     "text": [
      "⚠️ Error for batch 770-780 attempt 3: No valid JSON array found in LLM response.\n",
      "❌ Batch 770-780 failed after 3 attempts. Saving rows to failed_rows.\n",
      "✅ Saved checkpoint: 1500 rows validated.\n"
     ]
    },
    {
     "name": "stderr",
     "output_type": "stream",
     "text": [
      " 54%|█████▍    | 79/145 [1:11:25<46:46, 42.53s/it]  "
     ]
    },
    {
     "name": "stdout",
     "output_type": "stream",
     "text": [
      "✅ Saved checkpoint: 1510 rows validated.\n"
     ]
    },
    {
     "name": "stderr",
     "output_type": "stream",
     "text": [
      " 55%|█████▌    | 80/145 [1:11:46<39:16, 36.25s/it]"
     ]
    },
    {
     "name": "stdout",
     "output_type": "stream",
     "text": [
      "⚠️ Error for batch 800-810 attempt 1: No valid JSON array found in LLM response.\n",
      "🔁 Retrying batch 800-810 (attempt 2/3)...\n",
      "⚠️ Error for batch 800-810 attempt 2: No valid JSON array found in LLM response.\n",
      "🔁 Retrying batch 800-810 (attempt 3/3)...\n",
      "✅ Saved checkpoint: 1520 rows validated.\n"
     ]
    },
    {
     "name": "stderr",
     "output_type": "stream",
     "text": [
      " 56%|█████▌    | 81/145 [1:13:16<55:46, 52.29s/it]"
     ]
    },
    {
     "name": "stdout",
     "output_type": "stream",
     "text": [
      "⚠️ Error for batch 810-820 attempt 1: Expecting value: line 1 column 2 (char 1)\n",
      "🔁 Retrying batch 810-820 (attempt 2/3)...\n",
      "⚠️ Error for batch 810-820 attempt 2: Expecting value: line 1 column 2 (char 1)\n",
      "🔁 Retrying batch 810-820 (attempt 3/3)...\n",
      "✅ Saved checkpoint: 1530 rows validated.\n"
     ]
    },
    {
     "name": "stderr",
     "output_type": "stream",
     "text": [
      " 57%|█████▋    | 82/145 [1:14:10<55:30, 52.87s/it]"
     ]
    },
    {
     "name": "stdout",
     "output_type": "stream",
     "text": [
      "✅ Saved checkpoint: 1540 rows validated.\n"
     ]
    },
    {
     "name": "stderr",
     "output_type": "stream",
     "text": [
      " 57%|█████▋    | 83/145 [1:14:25<42:47, 41.41s/it]"
     ]
    },
    {
     "name": "stdout",
     "output_type": "stream",
     "text": [
      "✅ Saved checkpoint: 1550 rows validated.\n"
     ]
    },
    {
     "name": "stderr",
     "output_type": "stream",
     "text": [
      " 58%|█████▊    | 84/145 [1:14:47<36:13, 35.63s/it]"
     ]
    },
    {
     "name": "stdout",
     "output_type": "stream",
     "text": [
      "✅ Saved checkpoint: 1560 rows validated.\n"
     ]
    },
    {
     "name": "stderr",
     "output_type": "stream",
     "text": [
      " 59%|█████▊    | 85/145 [1:15:13<32:37, 32.62s/it]"
     ]
    },
    {
     "name": "stdout",
     "output_type": "stream",
     "text": [
      "⚠️ Error for batch 850-860 attempt 1: Expecting value: line 1 column 2 (char 1)\n",
      "🔁 Retrying batch 850-860 (attempt 2/3)...\n",
      "⚠️ Error for batch 850-860 attempt 2: Expecting value: line 1 column 2 (char 1)\n",
      "🔁 Retrying batch 850-860 (attempt 3/3)...\n"
     ]
    },
    {
     "name": "stderr",
     "output_type": "stream",
     "text": [
      " 59%|█████▉    | 86/145 [1:16:09<39:06, 39.77s/it]"
     ]
    },
    {
     "name": "stdout",
     "output_type": "stream",
     "text": [
      "⚠️ Error for batch 850-860 attempt 3: Expecting value: line 1 column 2 (char 1)\n",
      "❌ Batch 850-860 failed after 3 attempts. Saving rows to failed_rows.\n",
      "✅ Saved checkpoint: 1570 rows validated.\n"
     ]
    },
    {
     "name": "stderr",
     "output_type": "stream",
     "text": [
      " 60%|██████    | 87/145 [1:16:23<30:54, 31.97s/it]"
     ]
    },
    {
     "name": "stdout",
     "output_type": "stream",
     "text": [
      "✅ Saved checkpoint: 1580 rows validated.\n"
     ]
    },
    {
     "name": "stderr",
     "output_type": "stream",
     "text": [
      " 61%|██████    | 88/145 [1:16:48<28:21, 29.85s/it]"
     ]
    },
    {
     "name": "stdout",
     "output_type": "stream",
     "text": [
      "✅ Saved checkpoint: 1590 rows validated.\n"
     ]
    },
    {
     "name": "stderr",
     "output_type": "stream",
     "text": [
      " 61%|██████▏   | 89/145 [1:17:08<25:09, 26.96s/it]"
     ]
    },
    {
     "name": "stdout",
     "output_type": "stream",
     "text": [
      "✅ Saved checkpoint: 1600 rows validated.\n"
     ]
    },
    {
     "name": "stderr",
     "output_type": "stream",
     "text": [
      " 62%|██████▏   | 90/145 [1:17:22<21:02, 22.96s/it]"
     ]
    },
    {
     "name": "stdout",
     "output_type": "stream",
     "text": [
      "✅ Saved checkpoint: 1610 rows validated.\n"
     ]
    },
    {
     "name": "stderr",
     "output_type": "stream",
     "text": [
      " 63%|██████▎   | 91/145 [1:17:41<19:46, 21.98s/it]"
     ]
    },
    {
     "name": "stdout",
     "output_type": "stream",
     "text": [
      "✅ Saved checkpoint: 1620 rows validated.\n"
     ]
    },
    {
     "name": "stderr",
     "output_type": "stream",
     "text": [
      " 63%|██████▎   | 92/145 [1:17:59<18:12, 20.62s/it]"
     ]
    },
    {
     "name": "stdout",
     "output_type": "stream",
     "text": [
      "✅ Saved checkpoint: 1630 rows validated.\n"
     ]
    },
    {
     "name": "stderr",
     "output_type": "stream",
     "text": [
      " 64%|██████▍   | 93/145 [1:18:15<16:42, 19.29s/it]"
     ]
    },
    {
     "name": "stdout",
     "output_type": "stream",
     "text": [
      "✅ Saved checkpoint: 1640 rows validated.\n"
     ]
    },
    {
     "name": "stderr",
     "output_type": "stream",
     "text": [
      " 65%|██████▍   | 94/145 [1:18:31<15:38, 18.39s/it]"
     ]
    },
    {
     "name": "stdout",
     "output_type": "stream",
     "text": [
      "✅ Saved checkpoint: 1650 rows validated.\n"
     ]
    },
    {
     "name": "stderr",
     "output_type": "stream",
     "text": [
      " 66%|██████▌   | 95/145 [1:18:49<15:18, 18.37s/it]"
     ]
    },
    {
     "name": "stdout",
     "output_type": "stream",
     "text": [
      "✅ Saved checkpoint: 1660 rows validated.\n"
     ]
    },
    {
     "name": "stderr",
     "output_type": "stream",
     "text": [
      " 66%|██████▌   | 96/145 [1:19:09<15:12, 18.62s/it]"
     ]
    },
    {
     "name": "stdout",
     "output_type": "stream",
     "text": [
      "✅ Saved checkpoint: 1670 rows validated.\n"
     ]
    },
    {
     "name": "stderr",
     "output_type": "stream",
     "text": [
      " 67%|██████▋   | 97/145 [1:19:23<13:53, 17.37s/it]"
     ]
    },
    {
     "name": "stdout",
     "output_type": "stream",
     "text": [
      "✅ Saved checkpoint: 1680 rows validated.\n"
     ]
    },
    {
     "name": "stderr",
     "output_type": "stream",
     "text": [
      " 68%|██████▊   | 98/145 [1:19:38<12:54, 16.48s/it]"
     ]
    },
    {
     "name": "stdout",
     "output_type": "stream",
     "text": [
      "✅ Saved checkpoint: 1690 rows validated.\n"
     ]
    },
    {
     "name": "stderr",
     "output_type": "stream",
     "text": [
      " 68%|██████▊   | 99/145 [1:19:51<11:57, 15.60s/it]"
     ]
    },
    {
     "name": "stdout",
     "output_type": "stream",
     "text": [
      "⚠️ Error for batch 990-1000 attempt 1: No valid JSON array found in LLM response.\n",
      "🔁 Retrying batch 990-1000 (attempt 2/3)...\n",
      "⚠️ Error for batch 990-1000 attempt 2: No valid JSON array found in LLM response.\n",
      "🔁 Retrying batch 990-1000 (attempt 3/3)...\n",
      "✅ Saved checkpoint: 1700 rows validated.\n"
     ]
    },
    {
     "name": "stderr",
     "output_type": "stream",
     "text": [
      " 69%|██████▉   | 100/145 [1:21:18<27:50, 37.11s/it]"
     ]
    },
    {
     "name": "stdout",
     "output_type": "stream",
     "text": [
      "⚠️ Error for batch 1000-1010 attempt 1: Expecting value: line 1 column 2 (char 1)\n",
      "🔁 Retrying batch 1000-1010 (attempt 2/3)...\n",
      "⚠️ Error for batch 1000-1010 attempt 2: Expecting value: line 1 column 2 (char 1)\n",
      "🔁 Retrying batch 1000-1010 (attempt 3/3)...\n"
     ]
    },
    {
     "name": "stderr",
     "output_type": "stream",
     "text": [
      " 70%|██████▉   | 101/145 [1:22:24<33:25, 45.59s/it]"
     ]
    },
    {
     "name": "stdout",
     "output_type": "stream",
     "text": [
      "⚠️ Error for batch 1000-1010 attempt 3: Expecting value: line 1 column 2 (char 1)\n",
      "❌ Batch 1000-1010 failed after 3 attempts. Saving rows to failed_rows.\n",
      "⚠️ Error for batch 1010-1020 attempt 1: Expecting value: line 1 column 2 (char 1)\n",
      "🔁 Retrying batch 1010-1020 (attempt 2/3)...\n",
      "⚠️ Error for batch 1010-1020 attempt 2: Expecting value: line 1 column 2 (char 1)\n",
      "🔁 Retrying batch 1010-1020 (attempt 3/3)...\n"
     ]
    },
    {
     "name": "stderr",
     "output_type": "stream",
     "text": [
      " 70%|███████   | 102/145 [1:23:12<33:08, 46.24s/it]"
     ]
    },
    {
     "name": "stdout",
     "output_type": "stream",
     "text": [
      "⚠️ Error for batch 1010-1020 attempt 3: Expecting value: line 1 column 2 (char 1)\n",
      "❌ Batch 1010-1020 failed after 3 attempts. Saving rows to failed_rows.\n",
      "✅ Saved checkpoint: 1710 rows validated.\n"
     ]
    },
    {
     "name": "stderr",
     "output_type": "stream",
     "text": [
      " 71%|███████   | 103/145 [1:23:34<27:27, 39.23s/it]"
     ]
    },
    {
     "name": "stdout",
     "output_type": "stream",
     "text": [
      "✅ Saved checkpoint: 1720 rows validated.\n"
     ]
    },
    {
     "name": "stderr",
     "output_type": "stream",
     "text": [
      " 72%|███████▏  | 104/145 [1:23:58<23:38, 34.59s/it]"
     ]
    },
    {
     "name": "stdout",
     "output_type": "stream",
     "text": [
      "✅ Saved checkpoint: 1730 rows validated.\n"
     ]
    },
    {
     "name": "stderr",
     "output_type": "stream",
     "text": [
      " 72%|███████▏  | 105/145 [1:24:11<18:46, 28.16s/it]"
     ]
    },
    {
     "name": "stdout",
     "output_type": "stream",
     "text": [
      "✅ Saved checkpoint: 1740 rows validated.\n"
     ]
    },
    {
     "name": "stderr",
     "output_type": "stream",
     "text": [
      " 73%|███████▎  | 106/145 [1:24:29<16:21, 25.16s/it]"
     ]
    },
    {
     "name": "stdout",
     "output_type": "stream",
     "text": [
      "✅ Saved checkpoint: 1750 rows validated.\n"
     ]
    },
    {
     "name": "stderr",
     "output_type": "stream",
     "text": [
      " 74%|███████▍  | 107/145 [1:24:43<13:41, 21.61s/it]"
     ]
    },
    {
     "name": "stdout",
     "output_type": "stream",
     "text": [
      "✅ Saved checkpoint: 1760 rows validated.\n"
     ]
    },
    {
     "name": "stderr",
     "output_type": "stream",
     "text": [
      " 74%|███████▍  | 108/145 [1:25:04<13:18, 21.57s/it]"
     ]
    },
    {
     "name": "stdout",
     "output_type": "stream",
     "text": [
      "✅ Saved checkpoint: 1770 rows validated.\n"
     ]
    },
    {
     "name": "stderr",
     "output_type": "stream",
     "text": [
      " 75%|███████▌  | 109/145 [1:25:24<12:37, 21.04s/it]"
     ]
    },
    {
     "name": "stdout",
     "output_type": "stream",
     "text": [
      "✅ Saved checkpoint: 1780 rows validated.\n"
     ]
    },
    {
     "name": "stderr",
     "output_type": "stream",
     "text": [
      " 76%|███████▌  | 110/145 [1:25:40<11:19, 19.42s/it]"
     ]
    },
    {
     "name": "stdout",
     "output_type": "stream",
     "text": [
      "✅ Saved checkpoint: 1790 rows validated.\n"
     ]
    },
    {
     "name": "stderr",
     "output_type": "stream",
     "text": [
      " 77%|███████▋  | 111/145 [1:25:57<10:33, 18.63s/it]"
     ]
    },
    {
     "name": "stdout",
     "output_type": "stream",
     "text": [
      "⚠️ Error for batch 1110-1120 attempt 1: Expecting value: line 1 column 2 (char 1)\n",
      "🔁 Retrying batch 1110-1120 (attempt 2/3)...\n",
      "⚠️ Error for batch 1110-1120 attempt 2: Expecting value: line 1 column 2 (char 1)\n",
      "🔁 Retrying batch 1110-1120 (attempt 3/3)...\n"
     ]
    },
    {
     "name": "stderr",
     "output_type": "stream",
     "text": [
      " 77%|███████▋  | 112/145 [1:27:07<18:52, 34.31s/it]"
     ]
    },
    {
     "name": "stdout",
     "output_type": "stream",
     "text": [
      "⚠️ Error for batch 1110-1120 attempt 3: Expecting value: line 1 column 2 (char 1)\n",
      "❌ Batch 1110-1120 failed after 3 attempts. Saving rows to failed_rows.\n",
      "⚠️ Error for batch 1120-1130 attempt 1: Expecting ',' delimiter: line 1 column 572 (char 571)\n",
      "🔁 Retrying batch 1120-1130 (attempt 2/3)...\n",
      "✅ Saved checkpoint: 1800 rows validated.\n"
     ]
    },
    {
     "name": "stderr",
     "output_type": "stream",
     "text": [
      " 78%|███████▊  | 113/145 [1:27:43<18:25, 34.56s/it]"
     ]
    },
    {
     "name": "stdout",
     "output_type": "stream",
     "text": [
      "✅ Saved checkpoint: 1810 rows validated.\n"
     ]
    },
    {
     "name": "stderr",
     "output_type": "stream",
     "text": [
      " 79%|███████▊  | 114/145 [1:28:03<15:39, 30.29s/it]"
     ]
    },
    {
     "name": "stdout",
     "output_type": "stream",
     "text": [
      "✅ Saved checkpoint: 1820 rows validated.\n"
     ]
    },
    {
     "name": "stderr",
     "output_type": "stream",
     "text": [
      " 79%|███████▉  | 115/145 [1:28:18<12:53, 25.80s/it]"
     ]
    },
    {
     "name": "stdout",
     "output_type": "stream",
     "text": [
      "⚠️ Error for batch 1150-1160 attempt 1: No valid JSON array found in LLM response.\n",
      "🔁 Retrying batch 1150-1160 (attempt 2/3)...\n",
      "⚠️ Error for batch 1150-1160 attempt 2: No valid JSON array found in LLM response.\n",
      "🔁 Retrying batch 1150-1160 (attempt 3/3)...\n",
      "✅ Saved checkpoint: 1830 rows validated.\n"
     ]
    },
    {
     "name": "stderr",
     "output_type": "stream",
     "text": [
      " 80%|████████  | 116/145 [1:29:51<22:11, 45.93s/it]"
     ]
    },
    {
     "name": "stdout",
     "output_type": "stream",
     "text": [
      "✅ Saved checkpoint: 1840 rows validated.\n"
     ]
    },
    {
     "name": "stderr",
     "output_type": "stream",
     "text": [
      " 81%|████████  | 117/145 [1:30:17<18:37, 39.91s/it]"
     ]
    },
    {
     "name": "stdout",
     "output_type": "stream",
     "text": [
      "✅ Saved checkpoint: 1850 rows validated.\n"
     ]
    },
    {
     "name": "stderr",
     "output_type": "stream",
     "text": [
      " 81%|████████▏ | 118/145 [1:30:30<14:18, 31.78s/it]"
     ]
    },
    {
     "name": "stdout",
     "output_type": "stream",
     "text": [
      "⚠️ Error for batch 1180-1190 attempt 1: Expecting value: line 1 column 2 (char 1)\n",
      "🔁 Retrying batch 1180-1190 (attempt 2/3)...\n",
      "⚠️ Error for batch 1180-1190 attempt 2: Expecting value: line 1 column 2 (char 1)\n",
      "🔁 Retrying batch 1180-1190 (attempt 3/3)...\n"
     ]
    },
    {
     "name": "stderr",
     "output_type": "stream",
     "text": [
      " 82%|████████▏ | 119/145 [1:31:22<16:25, 37.92s/it]"
     ]
    },
    {
     "name": "stdout",
     "output_type": "stream",
     "text": [
      "⚠️ Error for batch 1180-1190 attempt 3: Expecting value: line 1 column 2 (char 1)\n",
      "❌ Batch 1180-1190 failed after 3 attempts. Saving rows to failed_rows.\n",
      "✅ Saved checkpoint: 1860 rows validated.\n"
     ]
    },
    {
     "name": "stderr",
     "output_type": "stream",
     "text": [
      " 83%|████████▎ | 120/145 [1:31:50<14:36, 35.05s/it]"
     ]
    },
    {
     "name": "stdout",
     "output_type": "stream",
     "text": [
      "⚠️ Error for batch 1200-1210 attempt 1: Expecting value: line 1 column 2 (char 1)\n",
      "🔁 Retrying batch 1200-1210 (attempt 2/3)...\n",
      "⚠️ Error for batch 1200-1210 attempt 2: Expecting value: line 1 column 2 (char 1)\n",
      "🔁 Retrying batch 1200-1210 (attempt 3/3)...\n"
     ]
    },
    {
     "name": "stderr",
     "output_type": "stream",
     "text": [
      " 83%|████████▎ | 121/145 [1:32:56<17:41, 44.23s/it]"
     ]
    },
    {
     "name": "stdout",
     "output_type": "stream",
     "text": [
      "⚠️ Error for batch 1200-1210 attempt 3: Expecting value: line 1 column 2 (char 1)\n",
      "❌ Batch 1200-1210 failed after 3 attempts. Saving rows to failed_rows.\n",
      "✅ Saved checkpoint: 1870 rows validated.\n"
     ]
    },
    {
     "name": "stderr",
     "output_type": "stream",
     "text": [
      " 84%|████████▍ | 122/145 [1:33:09<13:23, 34.92s/it]"
     ]
    },
    {
     "name": "stdout",
     "output_type": "stream",
     "text": [
      "✅ Saved checkpoint: 1880 rows validated.\n"
     ]
    },
    {
     "name": "stderr",
     "output_type": "stream",
     "text": [
      " 85%|████████▍ | 123/145 [1:33:26<10:47, 29.43s/it]"
     ]
    },
    {
     "name": "stdout",
     "output_type": "stream",
     "text": [
      "⚠️ Error for batch 1230-1240 attempt 1: Expecting value: line 1 column 2 (char 1)\n",
      "🔁 Retrying batch 1230-1240 (attempt 2/3)...\n",
      "⚠️ Error for batch 1230-1240 attempt 2: Expecting value: line 1 column 2 (char 1)\n",
      "🔁 Retrying batch 1230-1240 (attempt 3/3)...\n"
     ]
    },
    {
     "name": "stderr",
     "output_type": "stream",
     "text": [
      " 86%|████████▌ | 124/145 [1:34:30<13:55, 39.81s/it]"
     ]
    },
    {
     "name": "stdout",
     "output_type": "stream",
     "text": [
      "⚠️ Error for batch 1230-1240 attempt 3: Expecting value: line 1 column 2 (char 1)\n",
      "❌ Batch 1230-1240 failed after 3 attempts. Saving rows to failed_rows.\n",
      "✅ Saved checkpoint: 1890 rows validated.\n"
     ]
    },
    {
     "name": "stderr",
     "output_type": "stream",
     "text": [
      " 86%|████████▌ | 125/145 [1:34:43<10:38, 31.94s/it]"
     ]
    },
    {
     "name": "stdout",
     "output_type": "stream",
     "text": [
      "⚠️ Error for batch 1250-1260 attempt 1: Expecting value: line 1 column 2 (char 1)\n",
      "🔁 Retrying batch 1250-1260 (attempt 2/3)...\n",
      "⚠️ Error for batch 1250-1260 attempt 2: Expecting value: line 1 column 2 (char 1)\n",
      "🔁 Retrying batch 1250-1260 (attempt 3/3)...\n"
     ]
    },
    {
     "name": "stderr",
     "output_type": "stream",
     "text": [
      " 87%|████████▋ | 126/145 [1:35:37<12:12, 38.53s/it]"
     ]
    },
    {
     "name": "stdout",
     "output_type": "stream",
     "text": [
      "⚠️ Error for batch 1250-1260 attempt 3: Expecting value: line 1 column 2 (char 1)\n",
      "❌ Batch 1250-1260 failed after 3 attempts. Saving rows to failed_rows.\n",
      "✅ Saved checkpoint: 1900 rows validated.\n"
     ]
    },
    {
     "name": "stderr",
     "output_type": "stream",
     "text": [
      " 88%|████████▊ | 127/145 [1:35:53<09:29, 31.63s/it]"
     ]
    },
    {
     "name": "stdout",
     "output_type": "stream",
     "text": [
      "✅ Saved checkpoint: 1910 rows validated.\n"
     ]
    },
    {
     "name": "stderr",
     "output_type": "stream",
     "text": [
      " 88%|████████▊ | 128/145 [1:36:08<07:34, 26.75s/it]"
     ]
    },
    {
     "name": "stdout",
     "output_type": "stream",
     "text": [
      "✅ Saved checkpoint: 1920 rows validated.\n"
     ]
    },
    {
     "name": "stderr",
     "output_type": "stream",
     "text": [
      " 89%|████████▉ | 129/145 [1:36:26<06:25, 24.08s/it]"
     ]
    },
    {
     "name": "stdout",
     "output_type": "stream",
     "text": [
      "✅ Saved checkpoint: 1930 rows validated.\n"
     ]
    },
    {
     "name": "stderr",
     "output_type": "stream",
     "text": [
      " 90%|████████▉ | 130/145 [1:36:46<05:42, 22.83s/it]"
     ]
    },
    {
     "name": "stdout",
     "output_type": "stream",
     "text": [
      "✅ Saved checkpoint: 1940 rows validated.\n"
     ]
    },
    {
     "name": "stderr",
     "output_type": "stream",
     "text": [
      " 90%|█████████ | 131/145 [1:37:00<04:41, 20.13s/it]"
     ]
    },
    {
     "name": "stdout",
     "output_type": "stream",
     "text": [
      "✅ Saved checkpoint: 1950 rows validated.\n"
     ]
    },
    {
     "name": "stderr",
     "output_type": "stream",
     "text": [
      " 91%|█████████ | 132/145 [1:37:12<03:48, 17.59s/it]"
     ]
    },
    {
     "name": "stdout",
     "output_type": "stream",
     "text": [
      "✅ Saved checkpoint: 1960 rows validated.\n"
     ]
    },
    {
     "name": "stderr",
     "output_type": "stream",
     "text": [
      " 92%|█████████▏| 133/145 [1:37:27<03:21, 16.80s/it]"
     ]
    },
    {
     "name": "stdout",
     "output_type": "stream",
     "text": [
      "✅ Saved checkpoint: 1970 rows validated.\n"
     ]
    },
    {
     "name": "stderr",
     "output_type": "stream",
     "text": [
      " 92%|█████████▏| 134/145 [1:37:49<03:24, 18.59s/it]"
     ]
    },
    {
     "name": "stdout",
     "output_type": "stream",
     "text": [
      "⚠️ Error for batch 1340-1350 attempt 1: Expecting value: line 1 column 2 (char 1)\n",
      "🔁 Retrying batch 1340-1350 (attempt 2/3)...\n",
      "⚠️ Error for batch 1340-1350 attempt 2: Expecting value: line 1 column 2 (char 1)\n",
      "🔁 Retrying batch 1340-1350 (attempt 3/3)...\n"
     ]
    },
    {
     "name": "stderr",
     "output_type": "stream",
     "text": [
      " 93%|█████████▎| 135/145 [1:38:49<05:10, 31.01s/it]"
     ]
    },
    {
     "name": "stdout",
     "output_type": "stream",
     "text": [
      "⚠️ Error for batch 1340-1350 attempt 3: Expecting value: line 1 column 2 (char 1)\n",
      "❌ Batch 1340-1350 failed after 3 attempts. Saving rows to failed_rows.\n",
      "✅ Saved checkpoint: 1980 rows validated.\n"
     ]
    },
    {
     "name": "stderr",
     "output_type": "stream",
     "text": [
      " 94%|█████████▍| 136/145 [1:39:05<03:57, 26.40s/it]"
     ]
    },
    {
     "name": "stdout",
     "output_type": "stream",
     "text": [
      "⚠️ Error for batch 1360-1370 attempt 1: No valid JSON array found in LLM response.\n",
      "🔁 Retrying batch 1360-1370 (attempt 2/3)...\n",
      "✅ Saved checkpoint: 1990 rows validated.\n"
     ]
    },
    {
     "name": "stderr",
     "output_type": "stream",
     "text": [
      " 94%|█████████▍| 137/145 [1:39:55<04:27, 33.39s/it]"
     ]
    },
    {
     "name": "stdout",
     "output_type": "stream",
     "text": [
      "✅ Saved checkpoint: 2000 rows validated.\n"
     ]
    },
    {
     "name": "stderr",
     "output_type": "stream",
     "text": [
      " 95%|█████████▌| 138/145 [1:40:12<03:20, 28.63s/it]"
     ]
    },
    {
     "name": "stdout",
     "output_type": "stream",
     "text": [
      "✅ Saved checkpoint: 2010 rows validated.\n"
     ]
    },
    {
     "name": "stderr",
     "output_type": "stream",
     "text": [
      " 96%|█████████▌| 139/145 [1:40:26<02:24, 24.17s/it]"
     ]
    },
    {
     "name": "stdout",
     "output_type": "stream",
     "text": [
      "⚠️ Error for batch 1390-1400 attempt 1: Expecting value: line 1 column 2 (char 1)\n",
      "🔁 Retrying batch 1390-1400 (attempt 2/3)...\n",
      "⚠️ Error for batch 1390-1400 attempt 2: Expecting value: line 1 column 2 (char 1)\n",
      "🔁 Retrying batch 1390-1400 (attempt 3/3)...\n"
     ]
    },
    {
     "name": "stderr",
     "output_type": "stream",
     "text": [
      " 97%|█████████▋| 140/145 [1:41:26<02:54, 34.92s/it]"
     ]
    },
    {
     "name": "stdout",
     "output_type": "stream",
     "text": [
      "⚠️ Error for batch 1390-1400 attempt 3: Expecting value: line 1 column 2 (char 1)\n",
      "❌ Batch 1390-1400 failed after 3 attempts. Saving rows to failed_rows.\n",
      "⚠️ Error for batch 1400-1410 attempt 1: Expecting value: line 1 column 2 (char 1)\n",
      "🔁 Retrying batch 1400-1410 (attempt 2/3)...\n",
      "⚠️ Error for batch 1400-1410 attempt 2: Expecting value: line 1 column 2 (char 1)\n",
      "🔁 Retrying batch 1400-1410 (attempt 3/3)...\n"
     ]
    },
    {
     "name": "stderr",
     "output_type": "stream",
     "text": [
      " 97%|█████████▋| 141/145 [1:42:20<02:42, 40.67s/it]"
     ]
    },
    {
     "name": "stdout",
     "output_type": "stream",
     "text": [
      "⚠️ Error for batch 1400-1410 attempt 3: Expecting value: line 1 column 2 (char 1)\n",
      "❌ Batch 1400-1410 failed after 3 attempts. Saving rows to failed_rows.\n",
      "✅ Saved checkpoint: 2020 rows validated.\n"
     ]
    },
    {
     "name": "stderr",
     "output_type": "stream",
     "text": [
      " 98%|█████████▊| 142/145 [1:42:35<01:38, 32.99s/it]"
     ]
    },
    {
     "name": "stdout",
     "output_type": "stream",
     "text": [
      "✅ Saved checkpoint: 2030 rows validated.\n"
     ]
    },
    {
     "name": "stderr",
     "output_type": "stream",
     "text": [
      " 99%|█████████▊| 143/145 [1:42:56<00:58, 29.26s/it]"
     ]
    },
    {
     "name": "stdout",
     "output_type": "stream",
     "text": [
      "✅ Saved checkpoint: 2040 rows validated.\n"
     ]
    },
    {
     "name": "stderr",
     "output_type": "stream",
     "text": [
      " 99%|█████████▉| 144/145 [1:43:15<00:26, 26.29s/it]"
     ]
    },
    {
     "name": "stdout",
     "output_type": "stream",
     "text": [
      "⚠️ Error for batch 1440-1444 attempt 1: Expecting value: line 1 column 2 (char 1)\n",
      "🔁 Retrying batch 1440-1444 (attempt 2/3)...\n",
      "⚠️ Error for batch 1440-1444 attempt 2: Expecting value: line 1 column 2 (char 1)\n",
      "🔁 Retrying batch 1440-1444 (attempt 3/3)...\n"
     ]
    },
    {
     "name": "stderr",
     "output_type": "stream",
     "text": [
      "100%|██████████| 145/145 [1:43:48<00:00, 42.96s/it]"
     ]
    },
    {
     "name": "stdout",
     "output_type": "stream",
     "text": [
      "⚠️ Error for batch 1440-1444 attempt 3: Expecting value: line 1 column 2 (char 1)\n",
      "❌ Batch 1440-1444 failed after 3 attempts. Saving rows to failed_rows.\n",
      "💾 Saved 444 failed rows to bupa_failed_rows.csv for later retry or review.\n"
     ]
    },
    {
     "name": "stderr",
     "output_type": "stream",
     "text": [
      "\n"
     ]
    }
   ],
   "source": [
    "long_results_df = validate_long_mappings_batched_resume(\n",
    "    long_similarity,   # your input dataframe\n",
    "    fireworks_llm,           # your LLM instance\n",
    "    checkpoint_file=\"bupa_long_llm_validation_results.csv\",\n",
    "    batch_size=10       # Smaller batch is safer!\n",
    ")"
   ]
  },
  {
   "cell_type": "code",
   "execution_count": 7,
   "id": "3f331864",
   "metadata": {},
   "outputs": [],
   "source": [
    "def retry_failed_rows(\n",
    "    llm,\n",
    "    failed_file: str = \"bupa_failed_rows.csv\",\n",
    "    checkpoint_file: str = \"bupa_long_llm_validation_results.csv\"\n",
    "):\n",
    "    \"\"\"\n",
    "    Retry failed rows one by one, sanitize text, and update the checkpoint.\n",
    "    \"\"\"\n",
    "    failed_df = pd.read_csv(failed_file, index_col=\"row_idx\")\n",
    "    results_df = pd.read_csv(checkpoint_file)\n",
    "    validated_indices = set(results_df[\"row_idx\"])\n",
    "    all_results = results_df.to_dict(orient=\"records\")\n",
    "\n",
    "    print(f\"🔁 Retrying {len(failed_df)} failed rows...\")\n",
    "\n",
    "    for idx, row in failed_df.iterrows():\n",
    "        if idx in validated_indices:\n",
    "            continue\n",
    "\n",
    "        ahj_desc = sanitize_description(row[\"AHJ_DESCRIPTION\"])\n",
    "        sbs_desc = sanitize_description(row[\"SBS_LONG_DESCRIPTION\"])\n",
    "\n",
    "        single_prompt = (\n",
    "            \"You are an expert in medical coding and service mapping.\\n\\n\"\n",
    "            \"Below is a list of AHJ_DESCRIPTION and SBS_LONG_DESCRIPTION pairs.\\n\\n\"\n",
    "            \"For each pair:\\n\"\n",
    "            \"- Decide if the AHJ_DESCRIPTION correctly maps to the SBS_LONG_DESCRIPTION,\\n\"\n",
    "            \"  OR if the SBS_LONG_DESCRIPTION is a valid generalization, broader category, or plural of the AHJ_DESCRIPTION,\\n\"\n",
    "            \"  OR if the AHJ_DESCRIPTION is a valid generalization, broader category, or plural of the SBS_LONG_DESCRIPTION.\\n\\n\"\n",
    "            \"Important:\\n\"\n",
    "            \"• Be careful: 'unilateral' and 'bilateral' are different and should NOT be treated the same.\\n\"\n",
    "            \"• Small punctuation differences such as (hyphens, brackets, commas) do not affect the meaning.\\n\"\n",
    "            \"• If you are unsure, answer NO. Do not guess.\\n\\n\"\n",
    "            \"Examples:\\n\"\n",
    "            \"✔ 'LEFT KNEE ARTHROSCOPY' vs. 'KNEE ARTHROSCOPY' → YES (valid generalization)\\n\"\n",
    "            \"✔ 'PORCELAIN FUSED TO METAL CROWN' vs. 'PORCELAIN FUSED TO BASE METAL CROWN' → YES (valid generalization)\\n\"\n",
    "            \"✔ 'BILATERAL MASTECTOMY' vs. 'MASTECTOMY' → YES (valid generalization)\\n\"\n",
    "            \"✔ 'TOOTH EXTRACTION' vs. 'TEETH EXTRACTIONS' → YES (plural)\\n\"\n",
    "            \"❌ 'UNILATERAL MASTECTOMY' vs. 'BILATERAL MASTECTOMY' → NO (different laterality)\\n\\n\"\n",
    "            \"✅ You MUST follow these rules:\\n\"\n",
    "            \"1. Return only valid JSON.\\n\"\n",
    "            \"2. Do NOT include ```json, markdown, or any other text.\\n\"\n",
    "            \"3. Return ONLY the JSON array and nothing else.\\n\"\n",
    "            \"4. ✅ Return ONLY a single valid JSON object and nothing else.\\n\"\n",
    "            \"5. ❌ Do not return plain text or an array.\\n\"\n",
    "            \"6. Format: [{\\\"index\\\": 0, \\\"answer\\\": \\\"YES\\\", \\\"reason\\\": \\\"...\\\"}, ...]\\n\\n\"\n",
    "            \"If you break these rules, you will fail.\\n\\n\"\n",
    "            f\"- AHJ_DESCRIPTION: \\\"{ahj_desc}\\\"\\n\"\n",
    "            f\"- SBS_LONG_DESCRIPTION: \\\"{sbs_desc}\\\"\\n\"\n",
    "        )\n",
    "\n",
    "        answers = None\n",
    "        max_retries = 3\n",
    "        for attempt in range(max_retries):\n",
    "            try:\n",
    "                response_text = llm._call(single_prompt)\n",
    "                answers = safe_json_parse_row_validation(response_text)\n",
    "                break\n",
    "            except Exception as e:\n",
    "                print(f\"⚠️ Error for row {idx} attempt {attempt+1}: {e}\")\n",
    "                time.sleep(3)\n",
    "\n",
    "        if answers is None:\n",
    "            print(f\"❌ Row {idx} failed again after {max_retries} attempts.\")\n",
    "            continue\n",
    "\n",
    "        # Defensive: handle accidental array\n",
    "        if isinstance(answers, list):\n",
    "            answers = answers[0]\n",
    "\n",
    "        all_results.append({\n",
    "            \"row_idx\": idx,\n",
    "            \"AHJ_DESCRIPTION\": row[\"AHJ_DESCRIPTION\"],\n",
    "            \"SBS_LONG_DESCRIPTION\": row[\"SBS_LONG_DESCRIPTION\"],\n",
    "            \"Similarity\": row.get(\"SHORT_LONG_SCORE\", \"\"),\n",
    "            \"LLM_Answer\": answers.get(\"answer\", \"\").strip().upper(),\n",
    "            \"Reason\": answers.get(\"reason\", \"\").strip()\n",
    "        })\n",
    "        validated_indices.add(idx)\n",
    "\n",
    "        pd.DataFrame(all_results).to_csv(checkpoint_file, index=False)\n",
    "        print(f\"✅ Saved single-row checkpoint: {len(validated_indices)} rows validated.\")\n",
    "\n",
    "    print(f\"🎉 Retry complete! Check {checkpoint_file} for updated results.\")"
   ]
  },
  {
   "cell_type": "code",
   "execution_count": 8,
   "id": "43c486f6",
   "metadata": {},
   "outputs": [
    {
     "name": "stdout",
     "output_type": "stream",
     "text": [
      "🔁 Retrying 444 failed rows...\n",
      "⚠️ Error for row 190 attempt 1: Expecting value: line 1 column 1 (char 0)\n",
      "✅ Saved single-row checkpoint: 2041 rows validated.\n",
      "⚠️ Error for row 191 attempt 1: Expecting value: line 1 column 1 (char 0)\n",
      "✅ Saved single-row checkpoint: 2042 rows validated.\n",
      "✅ Saved single-row checkpoint: 2043 rows validated.\n",
      "✅ Saved single-row checkpoint: 2044 rows validated.\n",
      "✅ Saved single-row checkpoint: 2045 rows validated.\n",
      "✅ Saved single-row checkpoint: 2046 rows validated.\n",
      "✅ Saved single-row checkpoint: 2047 rows validated.\n",
      "⚠️ Error for row 197 attempt 1: Expecting value: line 1 column 1 (char 0)\n",
      "✅ Saved single-row checkpoint: 2048 rows validated.\n",
      "✅ Saved single-row checkpoint: 2049 rows validated.\n",
      "✅ Saved single-row checkpoint: 2050 rows validated.\n",
      "✅ Saved single-row checkpoint: 2051 rows validated.\n",
      "⚠️ Error for row 211 attempt 1: Expecting value: line 1 column 1 (char 0)\n",
      "✅ Saved single-row checkpoint: 2052 rows validated.\n",
      "✅ Saved single-row checkpoint: 2053 rows validated.\n",
      "✅ Saved single-row checkpoint: 2054 rows validated.\n",
      "✅ Saved single-row checkpoint: 2055 rows validated.\n",
      "✅ Saved single-row checkpoint: 2056 rows validated.\n",
      "⚠️ Error for row 216 attempt 1: Expecting value: line 1 column 1 (char 0)\n",
      "⚠️ Error for row 216 attempt 2: Expecting value: line 1 column 1 (char 0)\n",
      "✅ Saved single-row checkpoint: 2057 rows validated.\n",
      "✅ Saved single-row checkpoint: 2058 rows validated.\n",
      "✅ Saved single-row checkpoint: 2059 rows validated.\n",
      "✅ Saved single-row checkpoint: 2060 rows validated.\n",
      "✅ Saved single-row checkpoint: 2061 rows validated.\n",
      "✅ Saved single-row checkpoint: 2062 rows validated.\n",
      "✅ Saved single-row checkpoint: 2063 rows validated.\n",
      "✅ Saved single-row checkpoint: 2064 rows validated.\n",
      "✅ Saved single-row checkpoint: 2065 rows validated.\n",
      "✅ Saved single-row checkpoint: 2066 rows validated.\n",
      "✅ Saved single-row checkpoint: 2067 rows validated.\n",
      "✅ Saved single-row checkpoint: 2068 rows validated.\n",
      "✅ Saved single-row checkpoint: 2069 rows validated.\n",
      "✅ Saved single-row checkpoint: 2070 rows validated.\n",
      "✅ Saved single-row checkpoint: 2071 rows validated.\n",
      "✅ Saved single-row checkpoint: 2072 rows validated.\n",
      "✅ Saved single-row checkpoint: 2073 rows validated.\n",
      "⚠️ Error for row 403 attempt 1: Expecting value: line 1 column 1 (char 0)\n",
      "⚠️ Error for row 403 attempt 2: Expecting value: line 1 column 1 (char 0)\n",
      "✅ Saved single-row checkpoint: 2074 rows validated.\n",
      "⚠️ Error for row 404 attempt 1: Expecting value: line 1 column 1 (char 0)\n",
      "✅ Saved single-row checkpoint: 2075 rows validated.\n",
      "✅ Saved single-row checkpoint: 2076 rows validated.\n",
      "✅ Saved single-row checkpoint: 2077 rows validated.\n",
      "✅ Saved single-row checkpoint: 2078 rows validated.\n",
      "✅ Saved single-row checkpoint: 2079 rows validated.\n",
      "✅ Saved single-row checkpoint: 2080 rows validated.\n",
      "✅ Saved single-row checkpoint: 2081 rows validated.\n",
      "✅ Saved single-row checkpoint: 2082 rows validated.\n",
      "⚠️ Error for row 572 attempt 1: Expecting value: line 1 column 1 (char 0)\n",
      "⚠️ Error for row 572 attempt 2: Expecting value: line 1 column 1 (char 0)\n",
      "✅ Saved single-row checkpoint: 2083 rows validated.\n",
      "✅ Saved single-row checkpoint: 2084 rows validated.\n",
      "⚠️ Error for row 574 attempt 1: Expecting value: line 1 column 1 (char 0)\n",
      "✅ Saved single-row checkpoint: 2085 rows validated.\n",
      "✅ Saved single-row checkpoint: 2086 rows validated.\n",
      "✅ Saved single-row checkpoint: 2087 rows validated.\n",
      "✅ Saved single-row checkpoint: 2088 rows validated.\n",
      "✅ Saved single-row checkpoint: 2089 rows validated.\n",
      "✅ Saved single-row checkpoint: 2090 rows validated.\n",
      "✅ Saved single-row checkpoint: 2091 rows validated.\n",
      "✅ Saved single-row checkpoint: 2092 rows validated.\n",
      "✅ Saved single-row checkpoint: 2093 rows validated.\n",
      "✅ Saved single-row checkpoint: 2094 rows validated.\n",
      "✅ Saved single-row checkpoint: 2095 rows validated.\n",
      "✅ Saved single-row checkpoint: 2096 rows validated.\n",
      "✅ Saved single-row checkpoint: 2097 rows validated.\n",
      "✅ Saved single-row checkpoint: 2098 rows validated.\n",
      "✅ Saved single-row checkpoint: 2099 rows validated.\n",
      "✅ Saved single-row checkpoint: 2100 rows validated.\n",
      "✅ Saved single-row checkpoint: 2101 rows validated.\n",
      "✅ Saved single-row checkpoint: 2102 rows validated.\n",
      "✅ Saved single-row checkpoint: 2103 rows validated.\n",
      "✅ Saved single-row checkpoint: 2104 rows validated.\n",
      "✅ Saved single-row checkpoint: 2105 rows validated.\n",
      "✅ Saved single-row checkpoint: 2106 rows validated.\n",
      "⚠️ Error for row 636 attempt 1: Expecting value: line 1 column 1 (char 0)\n",
      "✅ Saved single-row checkpoint: 2107 rows validated.\n",
      "✅ Saved single-row checkpoint: 2108 rows validated.\n",
      "✅ Saved single-row checkpoint: 2109 rows validated.\n",
      "✅ Saved single-row checkpoint: 2110 rows validated.\n",
      "⚠️ Error for row 800 attempt 1: Expecting value: line 1 column 1 (char 0)\n",
      "✅ Saved single-row checkpoint: 2111 rows validated.\n",
      "⚠️ Error for row 801 attempt 1: Expecting value: line 1 column 1 (char 0)\n",
      "✅ Saved single-row checkpoint: 2112 rows validated.\n",
      "✅ Saved single-row checkpoint: 2113 rows validated.\n",
      "✅ Saved single-row checkpoint: 2114 rows validated.\n",
      "✅ Saved single-row checkpoint: 2115 rows validated.\n",
      "✅ Saved single-row checkpoint: 2116 rows validated.\n",
      "✅ Saved single-row checkpoint: 2117 rows validated.\n",
      "✅ Saved single-row checkpoint: 2118 rows validated.\n",
      "✅ Saved single-row checkpoint: 2119 rows validated.\n",
      "✅ Saved single-row checkpoint: 2120 rows validated.\n",
      "✅ Saved single-row checkpoint: 2121 rows validated.\n",
      "✅ Saved single-row checkpoint: 2122 rows validated.\n",
      "✅ Saved single-row checkpoint: 2123 rows validated.\n",
      "✅ Saved single-row checkpoint: 2124 rows validated.\n",
      "✅ Saved single-row checkpoint: 2125 rows validated.\n",
      "✅ Saved single-row checkpoint: 2126 rows validated.\n",
      "✅ Saved single-row checkpoint: 2127 rows validated.\n",
      "✅ Saved single-row checkpoint: 2128 rows validated.\n",
      "✅ Saved single-row checkpoint: 2129 rows validated.\n",
      "✅ Saved single-row checkpoint: 2130 rows validated.\n",
      "✅ Saved single-row checkpoint: 2131 rows validated.\n",
      "✅ Saved single-row checkpoint: 2132 rows validated.\n",
      "✅ Saved single-row checkpoint: 2133 rows validated.\n",
      "✅ Saved single-row checkpoint: 2134 rows validated.\n",
      "✅ Saved single-row checkpoint: 2135 rows validated.\n",
      "✅ Saved single-row checkpoint: 2136 rows validated.\n",
      "✅ Saved single-row checkpoint: 2137 rows validated.\n",
      "✅ Saved single-row checkpoint: 2138 rows validated.\n",
      "✅ Saved single-row checkpoint: 2139 rows validated.\n",
      "✅ Saved single-row checkpoint: 2140 rows validated.\n",
      "⚠️ Error for row 870 attempt 1: Expecting value: line 1 column 1 (char 0)\n",
      "⚠️ Error for row 870 attempt 2: Expecting value: line 1 column 1 (char 0)\n",
      "⚠️ Error for row 870 attempt 3: Expecting value: line 1 column 1 (char 0)\n",
      "❌ Row 870 failed again after 3 attempts.\n",
      "✅ Saved single-row checkpoint: 2141 rows validated.\n",
      "✅ Saved single-row checkpoint: 2142 rows validated.\n",
      "✅ Saved single-row checkpoint: 2143 rows validated.\n",
      "✅ Saved single-row checkpoint: 2144 rows validated.\n",
      "✅ Saved single-row checkpoint: 2145 rows validated.\n",
      "✅ Saved single-row checkpoint: 2146 rows validated.\n",
      "✅ Saved single-row checkpoint: 2147 rows validated.\n",
      "✅ Saved single-row checkpoint: 2148 rows validated.\n",
      "✅ Saved single-row checkpoint: 2149 rows validated.\n",
      "✅ Saved single-row checkpoint: 2150 rows validated.\n",
      "✅ Saved single-row checkpoint: 2151 rows validated.\n",
      "✅ Saved single-row checkpoint: 2152 rows validated.\n",
      "✅ Saved single-row checkpoint: 2153 rows validated.\n",
      "✅ Saved single-row checkpoint: 2154 rows validated.\n",
      "✅ Saved single-row checkpoint: 2155 rows validated.\n",
      "✅ Saved single-row checkpoint: 2156 rows validated.\n",
      "✅ Saved single-row checkpoint: 2157 rows validated.\n",
      "✅ Saved single-row checkpoint: 2158 rows validated.\n",
      "✅ Saved single-row checkpoint: 2159 rows validated.\n",
      "✅ Saved single-row checkpoint: 2160 rows validated.\n",
      "⚠️ Error for row 1071 attempt 1: Expecting value: line 1 column 1 (char 0)\n",
      "✅ Saved single-row checkpoint: 2161 rows validated.\n",
      "✅ Saved single-row checkpoint: 2162 rows validated.\n",
      "✅ Saved single-row checkpoint: 2163 rows validated.\n",
      "✅ Saved single-row checkpoint: 2164 rows validated.\n",
      "✅ Saved single-row checkpoint: 2165 rows validated.\n",
      "✅ Saved single-row checkpoint: 2166 rows validated.\n",
      "✅ Saved single-row checkpoint: 2167 rows validated.\n",
      "✅ Saved single-row checkpoint: 2168 rows validated.\n",
      "✅ Saved single-row checkpoint: 2169 rows validated.\n",
      "⚠️ Error for row 1080 attempt 1: Expecting value: line 1 column 1 (char 0)\n",
      "✅ Saved single-row checkpoint: 2170 rows validated.\n",
      "✅ Saved single-row checkpoint: 2171 rows validated.\n",
      "✅ Saved single-row checkpoint: 2172 rows validated.\n",
      "✅ Saved single-row checkpoint: 2173 rows validated.\n",
      "✅ Saved single-row checkpoint: 2174 rows validated.\n",
      "✅ Saved single-row checkpoint: 2175 rows validated.\n",
      "✅ Saved single-row checkpoint: 2176 rows validated.\n",
      "✅ Saved single-row checkpoint: 2177 rows validated.\n",
      "✅ Saved single-row checkpoint: 2178 rows validated.\n",
      "✅ Saved single-row checkpoint: 2179 rows validated.\n",
      "✅ Saved single-row checkpoint: 2180 rows validated.\n",
      "✅ Saved single-row checkpoint: 2181 rows validated.\n",
      "✅ Saved single-row checkpoint: 2182 rows validated.\n",
      "✅ Saved single-row checkpoint: 2183 rows validated.\n",
      "✅ Saved single-row checkpoint: 2184 rows validated.\n",
      "✅ Saved single-row checkpoint: 2185 rows validated.\n",
      "✅ Saved single-row checkpoint: 2186 rows validated.\n",
      "✅ Saved single-row checkpoint: 2187 rows validated.\n",
      "✅ Saved single-row checkpoint: 2188 rows validated.\n",
      "✅ Saved single-row checkpoint: 2189 rows validated.\n",
      "✅ Saved single-row checkpoint: 2190 rows validated.\n",
      "✅ Saved single-row checkpoint: 2191 rows validated.\n",
      "✅ Saved single-row checkpoint: 2192 rows validated.\n",
      "✅ Saved single-row checkpoint: 2193 rows validated.\n",
      "✅ Saved single-row checkpoint: 2194 rows validated.\n",
      "✅ Saved single-row checkpoint: 2195 rows validated.\n",
      "✅ Saved single-row checkpoint: 2196 rows validated.\n",
      "✅ Saved single-row checkpoint: 2197 rows validated.\n",
      "✅ Saved single-row checkpoint: 2198 rows validated.\n",
      "✅ Saved single-row checkpoint: 2199 rows validated.\n",
      "✅ Saved single-row checkpoint: 2200 rows validated.\n",
      "✅ Saved single-row checkpoint: 2201 rows validated.\n",
      "✅ Saved single-row checkpoint: 2202 rows validated.\n",
      "✅ Saved single-row checkpoint: 2203 rows validated.\n",
      "✅ Saved single-row checkpoint: 2204 rows validated.\n",
      "✅ Saved single-row checkpoint: 2205 rows validated.\n",
      "✅ Saved single-row checkpoint: 2206 rows validated.\n",
      "⚠️ Error for row 1177 attempt 1: Expecting value: line 1 column 1 (char 0)\n",
      "⚠️ Error for row 1177 attempt 2: Expecting value: line 1 column 1 (char 0)\n",
      "⚠️ Error for row 1177 attempt 3: Expecting value: line 1 column 1 (char 0)\n",
      "❌ Row 1177 failed again after 3 attempts.\n",
      "✅ Saved single-row checkpoint: 2207 rows validated.\n",
      "⚠️ Error for row 1179 attempt 1: Expecting value: line 1 column 1 (char 0)\n",
      "✅ Saved single-row checkpoint: 2208 rows validated.\n",
      "✅ Saved single-row checkpoint: 2209 rows validated.\n",
      "✅ Saved single-row checkpoint: 2210 rows validated.\n",
      "✅ Saved single-row checkpoint: 2211 rows validated.\n",
      "✅ Saved single-row checkpoint: 2212 rows validated.\n",
      "✅ Saved single-row checkpoint: 2213 rows validated.\n",
      "✅ Saved single-row checkpoint: 2214 rows validated.\n",
      "✅ Saved single-row checkpoint: 2215 rows validated.\n",
      "✅ Saved single-row checkpoint: 2216 rows validated.\n",
      "✅ Saved single-row checkpoint: 2217 rows validated.\n",
      "✅ Saved single-row checkpoint: 2218 rows validated.\n",
      "✅ Saved single-row checkpoint: 2219 rows validated.\n",
      "✅ Saved single-row checkpoint: 2220 rows validated.\n",
      "✅ Saved single-row checkpoint: 2221 rows validated.\n",
      "⚠️ Error for row 1243 attempt 1: Expecting value: line 1 column 1 (char 0)\n",
      "⚠️ Error for row 1243 attempt 2: Expecting value: line 1 column 1 (char 0)\n",
      "✅ Saved single-row checkpoint: 2222 rows validated.\n",
      "✅ Saved single-row checkpoint: 2223 rows validated.\n",
      "✅ Saved single-row checkpoint: 2224 rows validated.\n",
      "⚠️ Error for row 1246 attempt 1: Expecting value: line 1 column 1 (char 0)\n",
      "⚠️ Error for row 1246 attempt 2: Expecting value: line 1 column 1 (char 0)\n",
      "⚠️ Error for row 1246 attempt 3: Expecting value: line 1 column 1 (char 0)\n",
      "❌ Row 1246 failed again after 3 attempts.\n",
      "✅ Saved single-row checkpoint: 2225 rows validated.\n",
      "✅ Saved single-row checkpoint: 2226 rows validated.\n",
      "✅ Saved single-row checkpoint: 2227 rows validated.\n",
      "⚠️ Error for row 1270 attempt 1: Expecting value: line 1 column 1 (char 0)\n",
      "⚠️ Error for row 1270 attempt 2: Expecting value: line 1 column 1 (char 0)\n",
      "✅ Saved single-row checkpoint: 2228 rows validated.\n",
      "✅ Saved single-row checkpoint: 2229 rows validated.\n",
      "✅ Saved single-row checkpoint: 2230 rows validated.\n",
      "✅ Saved single-row checkpoint: 2231 rows validated.\n",
      "✅ Saved single-row checkpoint: 2232 rows validated.\n",
      "✅ Saved single-row checkpoint: 2233 rows validated.\n",
      "✅ Saved single-row checkpoint: 2234 rows validated.\n",
      "✅ Saved single-row checkpoint: 2235 rows validated.\n",
      "⚠️ Error for row 1278 attempt 1: Expecting value: line 1 column 1 (char 0)\n",
      "⚠️ Error for row 1278 attempt 2: Expecting value: line 1 column 1 (char 0)\n",
      "✅ Saved single-row checkpoint: 2236 rows validated.\n",
      "✅ Saved single-row checkpoint: 2237 rows validated.\n",
      "✅ Saved single-row checkpoint: 2238 rows validated.\n",
      "✅ Saved single-row checkpoint: 2239 rows validated.\n",
      "✅ Saved single-row checkpoint: 2240 rows validated.\n",
      "✅ Saved single-row checkpoint: 2241 rows validated.\n",
      "✅ Saved single-row checkpoint: 2242 rows validated.\n",
      "✅ Saved single-row checkpoint: 2243 rows validated.\n",
      "✅ Saved single-row checkpoint: 2244 rows validated.\n",
      "✅ Saved single-row checkpoint: 2245 rows validated.\n",
      "✅ Saved single-row checkpoint: 2246 rows validated.\n",
      "✅ Saved single-row checkpoint: 2247 rows validated.\n",
      "✅ Saved single-row checkpoint: 2248 rows validated.\n",
      "⚠️ Error for row 1361 attempt 1: Expecting value: line 1 column 1 (char 0)\n",
      "✅ Saved single-row checkpoint: 2249 rows validated.\n",
      "✅ Saved single-row checkpoint: 2250 rows validated.\n",
      "✅ Saved single-row checkpoint: 2251 rows validated.\n",
      "✅ Saved single-row checkpoint: 2252 rows validated.\n",
      "✅ Saved single-row checkpoint: 2253 rows validated.\n",
      "✅ Saved single-row checkpoint: 2254 rows validated.\n",
      "✅ Saved single-row checkpoint: 2255 rows validated.\n",
      "✅ Saved single-row checkpoint: 2256 rows validated.\n",
      "✅ Saved single-row checkpoint: 2257 rows validated.\n",
      "✅ Saved single-row checkpoint: 2258 rows validated.\n",
      "✅ Saved single-row checkpoint: 2259 rows validated.\n",
      "✅ Saved single-row checkpoint: 2260 rows validated.\n",
      "⚠️ Error for row 1403 attempt 1: Expecting value: line 1 column 1 (char 0)\n",
      "✅ Saved single-row checkpoint: 2261 rows validated.\n",
      "✅ Saved single-row checkpoint: 2262 rows validated.\n",
      "✅ Saved single-row checkpoint: 2263 rows validated.\n",
      "✅ Saved single-row checkpoint: 2264 rows validated.\n",
      "✅ Saved single-row checkpoint: 2265 rows validated.\n",
      "✅ Saved single-row checkpoint: 2266 rows validated.\n",
      "✅ Saved single-row checkpoint: 2267 rows validated.\n",
      "✅ Saved single-row checkpoint: 2268 rows validated.\n",
      "✅ Saved single-row checkpoint: 2269 rows validated.\n",
      "✅ Saved single-row checkpoint: 2270 rows validated.\n",
      "✅ Saved single-row checkpoint: 2271 rows validated.\n",
      "✅ Saved single-row checkpoint: 2272 rows validated.\n",
      "✅ Saved single-row checkpoint: 2273 rows validated.\n",
      "✅ Saved single-row checkpoint: 2274 rows validated.\n",
      "✅ Saved single-row checkpoint: 2275 rows validated.\n",
      "✅ Saved single-row checkpoint: 2276 rows validated.\n",
      "✅ Saved single-row checkpoint: 2277 rows validated.\n",
      "✅ Saved single-row checkpoint: 2278 rows validated.\n",
      "✅ Saved single-row checkpoint: 2279 rows validated.\n",
      "✅ Saved single-row checkpoint: 2280 rows validated.\n",
      "✅ Saved single-row checkpoint: 2281 rows validated.\n",
      "✅ Saved single-row checkpoint: 2282 rows validated.\n",
      "✅ Saved single-row checkpoint: 2283 rows validated.\n",
      "✅ Saved single-row checkpoint: 2284 rows validated.\n",
      "✅ Saved single-row checkpoint: 2285 rows validated.\n",
      "✅ Saved single-row checkpoint: 2286 rows validated.\n",
      "✅ Saved single-row checkpoint: 2287 rows validated.\n",
      "✅ Saved single-row checkpoint: 2288 rows validated.\n",
      "✅ Saved single-row checkpoint: 2289 rows validated.\n",
      "✅ Saved single-row checkpoint: 2290 rows validated.\n",
      "✅ Saved single-row checkpoint: 2291 rows validated.\n",
      "✅ Saved single-row checkpoint: 2292 rows validated.\n",
      "✅ Saved single-row checkpoint: 2293 rows validated.\n",
      "✅ Saved single-row checkpoint: 2294 rows validated.\n",
      "✅ Saved single-row checkpoint: 2295 rows validated.\n",
      "✅ Saved single-row checkpoint: 2296 rows validated.\n",
      "✅ Saved single-row checkpoint: 2297 rows validated.\n",
      "✅ Saved single-row checkpoint: 2298 rows validated.\n",
      "⚠️ Error for row 1591 attempt 1: Expecting value: line 1 column 1 (char 0)\n",
      "✅ Saved single-row checkpoint: 2299 rows validated.\n",
      "✅ Saved single-row checkpoint: 2300 rows validated.\n",
      "✅ Saved single-row checkpoint: 2301 rows validated.\n",
      "✅ Saved single-row checkpoint: 2302 rows validated.\n",
      "✅ Saved single-row checkpoint: 2303 rows validated.\n",
      "✅ Saved single-row checkpoint: 2304 rows validated.\n",
      "✅ Saved single-row checkpoint: 2305 rows validated.\n",
      "✅ Saved single-row checkpoint: 2306 rows validated.\n",
      "✅ Saved single-row checkpoint: 2307 rows validated.\n",
      "✅ Saved single-row checkpoint: 2308 rows validated.\n",
      "✅ Saved single-row checkpoint: 2309 rows validated.\n",
      "✅ Saved single-row checkpoint: 2310 rows validated.\n",
      "✅ Saved single-row checkpoint: 2311 rows validated.\n",
      "✅ Saved single-row checkpoint: 2312 rows validated.\n",
      "✅ Saved single-row checkpoint: 2313 rows validated.\n",
      "✅ Saved single-row checkpoint: 2314 rows validated.\n",
      "✅ Saved single-row checkpoint: 2315 rows validated.\n",
      "✅ Saved single-row checkpoint: 2316 rows validated.\n",
      "✅ Saved single-row checkpoint: 2317 rows validated.\n",
      "✅ Saved single-row checkpoint: 2318 rows validated.\n",
      "✅ Saved single-row checkpoint: 2319 rows validated.\n",
      "✅ Saved single-row checkpoint: 2320 rows validated.\n",
      "✅ Saved single-row checkpoint: 2321 rows validated.\n",
      "✅ Saved single-row checkpoint: 2322 rows validated.\n",
      "✅ Saved single-row checkpoint: 2323 rows validated.\n",
      "✅ Saved single-row checkpoint: 2324 rows validated.\n",
      "✅ Saved single-row checkpoint: 2325 rows validated.\n",
      "✅ Saved single-row checkpoint: 2326 rows validated.\n",
      "✅ Saved single-row checkpoint: 2327 rows validated.\n",
      "⚠️ Error for row 1640 attempt 1: Expecting value: line 1 column 1 (char 0)\n",
      "⚠️ Error for row 1640 attempt 2: Expecting value: line 1 column 1 (char 0)\n",
      "✅ Saved single-row checkpoint: 2328 rows validated.\n",
      "✅ Saved single-row checkpoint: 2329 rows validated.\n",
      "✅ Saved single-row checkpoint: 2330 rows validated.\n",
      "✅ Saved single-row checkpoint: 2331 rows validated.\n",
      "✅ Saved single-row checkpoint: 2332 rows validated.\n",
      "✅ Saved single-row checkpoint: 2333 rows validated.\n",
      "✅ Saved single-row checkpoint: 2334 rows validated.\n",
      "✅ Saved single-row checkpoint: 2335 rows validated.\n",
      "✅ Saved single-row checkpoint: 2336 rows validated.\n",
      "✅ Saved single-row checkpoint: 2337 rows validated.\n",
      "✅ Saved single-row checkpoint: 2338 rows validated.\n",
      "✅ Saved single-row checkpoint: 2339 rows validated.\n",
      "✅ Saved single-row checkpoint: 2340 rows validated.\n",
      "✅ Saved single-row checkpoint: 2341 rows validated.\n",
      "✅ Saved single-row checkpoint: 2342 rows validated.\n",
      "✅ Saved single-row checkpoint: 2343 rows validated.\n",
      "✅ Saved single-row checkpoint: 2344 rows validated.\n",
      "✅ Saved single-row checkpoint: 2345 rows validated.\n",
      "✅ Saved single-row checkpoint: 2346 rows validated.\n",
      "✅ Saved single-row checkpoint: 2347 rows validated.\n",
      "✅ Saved single-row checkpoint: 2348 rows validated.\n",
      "✅ Saved single-row checkpoint: 2349 rows validated.\n",
      "✅ Saved single-row checkpoint: 2350 rows validated.\n",
      "✅ Saved single-row checkpoint: 2351 rows validated.\n",
      "✅ Saved single-row checkpoint: 2352 rows validated.\n",
      "✅ Saved single-row checkpoint: 2353 rows validated.\n",
      "✅ Saved single-row checkpoint: 2354 rows validated.\n",
      "✅ Saved single-row checkpoint: 2355 rows validated.\n",
      "✅ Saved single-row checkpoint: 2356 rows validated.\n",
      "✅ Saved single-row checkpoint: 2357 rows validated.\n",
      "✅ Saved single-row checkpoint: 2358 rows validated.\n",
      "✅ Saved single-row checkpoint: 2359 rows validated.\n",
      "✅ Saved single-row checkpoint: 2360 rows validated.\n",
      "✅ Saved single-row checkpoint: 2361 rows validated.\n",
      "✅ Saved single-row checkpoint: 2362 rows validated.\n",
      "✅ Saved single-row checkpoint: 2363 rows validated.\n",
      "✅ Saved single-row checkpoint: 2364 rows validated.\n",
      "✅ Saved single-row checkpoint: 2365 rows validated.\n",
      "⚠️ Error for row 1818 attempt 1: Expecting value: line 1 column 1 (char 0)\n",
      "⚠️ Error for row 1818 attempt 2: Expecting value: line 1 column 1 (char 0)\n",
      "⚠️ Error for row 1818 attempt 3: Expecting value: line 1 column 1 (char 0)\n",
      "❌ Row 1818 failed again after 3 attempts.\n",
      "✅ Saved single-row checkpoint: 2366 rows validated.\n",
      "✅ Saved single-row checkpoint: 2367 rows validated.\n",
      "✅ Saved single-row checkpoint: 2368 rows validated.\n",
      "✅ Saved single-row checkpoint: 2369 rows validated.\n",
      "✅ Saved single-row checkpoint: 2370 rows validated.\n",
      "✅ Saved single-row checkpoint: 2371 rows validated.\n",
      "✅ Saved single-row checkpoint: 2372 rows validated.\n",
      "✅ Saved single-row checkpoint: 2373 rows validated.\n",
      "✅ Saved single-row checkpoint: 2374 rows validated.\n",
      "✅ Saved single-row checkpoint: 2375 rows validated.\n",
      "✅ Saved single-row checkpoint: 2376 rows validated.\n",
      "✅ Saved single-row checkpoint: 2377 rows validated.\n",
      "✅ Saved single-row checkpoint: 2378 rows validated.\n",
      "✅ Saved single-row checkpoint: 2379 rows validated.\n",
      "✅ Saved single-row checkpoint: 2380 rows validated.\n",
      "✅ Saved single-row checkpoint: 2381 rows validated.\n",
      "✅ Saved single-row checkpoint: 2382 rows validated.\n",
      "✅ Saved single-row checkpoint: 2383 rows validated.\n",
      "✅ Saved single-row checkpoint: 2384 rows validated.\n",
      "✅ Saved single-row checkpoint: 2385 rows validated.\n",
      "✅ Saved single-row checkpoint: 2386 rows validated.\n",
      "✅ Saved single-row checkpoint: 2387 rows validated.\n",
      "✅ Saved single-row checkpoint: 2388 rows validated.\n",
      "✅ Saved single-row checkpoint: 2389 rows validated.\n",
      "✅ Saved single-row checkpoint: 2390 rows validated.\n",
      "✅ Saved single-row checkpoint: 2391 rows validated.\n",
      "✅ Saved single-row checkpoint: 2392 rows validated.\n",
      "✅ Saved single-row checkpoint: 2393 rows validated.\n",
      "✅ Saved single-row checkpoint: 2394 rows validated.\n",
      "✅ Saved single-row checkpoint: 2395 rows validated.\n",
      "✅ Saved single-row checkpoint: 2396 rows validated.\n",
      "✅ Saved single-row checkpoint: 2397 rows validated.\n",
      "✅ Saved single-row checkpoint: 2398 rows validated.\n",
      "✅ Saved single-row checkpoint: 2399 rows validated.\n",
      "✅ Saved single-row checkpoint: 2400 rows validated.\n",
      "✅ Saved single-row checkpoint: 2401 rows validated.\n",
      "✅ Saved single-row checkpoint: 2402 rows validated.\n",
      "✅ Saved single-row checkpoint: 2403 rows validated.\n",
      "✅ Saved single-row checkpoint: 2404 rows validated.\n",
      "✅ Saved single-row checkpoint: 2405 rows validated.\n",
      "✅ Saved single-row checkpoint: 2406 rows validated.\n",
      "✅ Saved single-row checkpoint: 2407 rows validated.\n",
      "✅ Saved single-row checkpoint: 2408 rows validated.\n",
      "✅ Saved single-row checkpoint: 2409 rows validated.\n",
      "✅ Saved single-row checkpoint: 2410 rows validated.\n",
      "✅ Saved single-row checkpoint: 2411 rows validated.\n",
      "✅ Saved single-row checkpoint: 2412 rows validated.\n",
      "✅ Saved single-row checkpoint: 2413 rows validated.\n",
      "✅ Saved single-row checkpoint: 2414 rows validated.\n",
      "✅ Saved single-row checkpoint: 2415 rows validated.\n",
      "✅ Saved single-row checkpoint: 2416 rows validated.\n",
      "✅ Saved single-row checkpoint: 2417 rows validated.\n",
      "✅ Saved single-row checkpoint: 2418 rows validated.\n",
      "✅ Saved single-row checkpoint: 2419 rows validated.\n",
      "✅ Saved single-row checkpoint: 2420 rows validated.\n",
      "✅ Saved single-row checkpoint: 2421 rows validated.\n",
      "✅ Saved single-row checkpoint: 2422 rows validated.\n",
      "✅ Saved single-row checkpoint: 2423 rows validated.\n",
      "✅ Saved single-row checkpoint: 2424 rows validated.\n",
      "✅ Saved single-row checkpoint: 2425 rows validated.\n",
      "✅ Saved single-row checkpoint: 2426 rows validated.\n",
      "✅ Saved single-row checkpoint: 2427 rows validated.\n",
      "⚠️ Error for row 2271 attempt 1: Expecting value: line 1 column 1 (char 0)\n",
      "✅ Saved single-row checkpoint: 2428 rows validated.\n",
      "✅ Saved single-row checkpoint: 2429 rows validated.\n",
      "✅ Saved single-row checkpoint: 2430 rows validated.\n",
      "✅ Saved single-row checkpoint: 2431 rows validated.\n",
      "✅ Saved single-row checkpoint: 2432 rows validated.\n",
      "✅ Saved single-row checkpoint: 2433 rows validated.\n",
      "✅ Saved single-row checkpoint: 2434 rows validated.\n",
      "✅ Saved single-row checkpoint: 2435 rows validated.\n",
      "✅ Saved single-row checkpoint: 2436 rows validated.\n",
      "✅ Saved single-row checkpoint: 2437 rows validated.\n",
      "✅ Saved single-row checkpoint: 2438 rows validated.\n",
      "✅ Saved single-row checkpoint: 2439 rows validated.\n",
      "✅ Saved single-row checkpoint: 2440 rows validated.\n",
      "✅ Saved single-row checkpoint: 2441 rows validated.\n",
      "✅ Saved single-row checkpoint: 2442 rows validated.\n",
      "✅ Saved single-row checkpoint: 2443 rows validated.\n",
      "✅ Saved single-row checkpoint: 2444 rows validated.\n",
      "✅ Saved single-row checkpoint: 2445 rows validated.\n",
      "✅ Saved single-row checkpoint: 2446 rows validated.\n",
      "✅ Saved single-row checkpoint: 2447 rows validated.\n",
      "✅ Saved single-row checkpoint: 2448 rows validated.\n",
      "✅ Saved single-row checkpoint: 2449 rows validated.\n",
      "✅ Saved single-row checkpoint: 2450 rows validated.\n",
      "✅ Saved single-row checkpoint: 2451 rows validated.\n",
      "✅ Saved single-row checkpoint: 2452 rows validated.\n",
      "✅ Saved single-row checkpoint: 2453 rows validated.\n",
      "✅ Saved single-row checkpoint: 2454 rows validated.\n",
      "✅ Saved single-row checkpoint: 2455 rows validated.\n",
      "✅ Saved single-row checkpoint: 2456 rows validated.\n",
      "✅ Saved single-row checkpoint: 2457 rows validated.\n",
      "✅ Saved single-row checkpoint: 2458 rows validated.\n",
      "✅ Saved single-row checkpoint: 2459 rows validated.\n",
      "✅ Saved single-row checkpoint: 2460 rows validated.\n",
      "✅ Saved single-row checkpoint: 2461 rows validated.\n",
      "✅ Saved single-row checkpoint: 2462 rows validated.\n",
      "✅ Saved single-row checkpoint: 2463 rows validated.\n",
      "✅ Saved single-row checkpoint: 2464 rows validated.\n",
      "✅ Saved single-row checkpoint: 2465 rows validated.\n",
      "✅ Saved single-row checkpoint: 2466 rows validated.\n",
      "✅ Saved single-row checkpoint: 2467 rows validated.\n",
      "✅ Saved single-row checkpoint: 2468 rows validated.\n",
      "✅ Saved single-row checkpoint: 2469 rows validated.\n",
      "✅ Saved single-row checkpoint: 2470 rows validated.\n",
      "✅ Saved single-row checkpoint: 2471 rows validated.\n",
      "✅ Saved single-row checkpoint: 2472 rows validated.\n",
      "✅ Saved single-row checkpoint: 2473 rows validated.\n",
      "✅ Saved single-row checkpoint: 2474 rows validated.\n",
      "✅ Saved single-row checkpoint: 2475 rows validated.\n",
      "✅ Saved single-row checkpoint: 2476 rows validated.\n",
      "✅ Saved single-row checkpoint: 2477 rows validated.\n",
      "✅ Saved single-row checkpoint: 2478 rows validated.\n",
      "✅ Saved single-row checkpoint: 2479 rows validated.\n",
      "✅ Saved single-row checkpoint: 2480 rows validated.\n",
      "🎉 Retry complete! Check bupa_long_llm_validation_results.csv for updated results.\n"
     ]
    }
   ],
   "source": [
    "# Example call for Fireworks or Groq LLM\n",
    "resent_long_results_df = retry_failed_rows(\n",
    "    llm=fireworks_llm,\n",
    "    failed_file=\"bupa_failed_rows.csv\",\n",
    "    checkpoint_file=\"bupa_long_llm_validation_results.csv\"\n",
    ")"
   ]
  },
  {
   "cell_type": "code",
   "execution_count": null,
   "id": "0073ad33",
   "metadata": {},
   "outputs": [],
   "source": []
  },
  {
   "cell_type": "markdown",
   "id": "43ca17e9",
   "metadata": {},
   "source": [
    "# Check RAG Mappings:"
   ]
  },
  {
   "cell_type": "code",
   "execution_count": 3,
   "id": "9710cd53",
   "metadata": {},
   "outputs": [
    {
     "data": {
      "text/plain": [
       "(92236, 14)"
      ]
     },
     "execution_count": 3,
     "metadata": {},
     "output_type": "execute_result"
    }
   ],
   "source": [
    "full_mappings = pd.read_excel(\"D:/CodingSystem/notebooks/full_mappings.xlsx\")\n",
    "full_mappings.shape"
   ]
  },
  {
   "cell_type": "code",
   "execution_count": 4,
   "id": "2782e303",
   "metadata": {},
   "outputs": [
    {
     "data": {
      "text/html": [
       "<div>\n",
       "<style scoped>\n",
       "    .dataframe tbody tr th:only-of-type {\n",
       "        vertical-align: middle;\n",
       "    }\n",
       "\n",
       "    .dataframe tbody tr th {\n",
       "        vertical-align: top;\n",
       "    }\n",
       "\n",
       "    .dataframe thead th {\n",
       "        text-align: right;\n",
       "    }\n",
       "</style>\n",
       "<table border=\"1\" class=\"dataframe\">\n",
       "  <thead>\n",
       "    <tr style=\"text-align: right;\">\n",
       "      <th></th>\n",
       "      <th>INSURANCE_COMPANY</th>\n",
       "      <th>SERVICE_CODE</th>\n",
       "      <th>SERVICE_DESCRIPTION</th>\n",
       "      <th>PRICE</th>\n",
       "      <th>SERVICE_KEY</th>\n",
       "      <th>SERVICE_CLASSIFICATION</th>\n",
       "      <th>SERVICE_CATEGORY</th>\n",
       "      <th>SBS Code</th>\n",
       "      <th>SBS Code (Hyphenated)</th>\n",
       "      <th>SHORT_DESCRIPTION</th>\n",
       "      <th>Long Description</th>\n",
       "      <th>Definition</th>\n",
       "      <th>Chapter Name</th>\n",
       "      <th>Block Name</th>\n",
       "    </tr>\n",
       "  </thead>\n",
       "  <tbody>\n",
       "    <tr>\n",
       "      <th>0</th>\n",
       "      <td>Al Rajhi</td>\n",
       "      <td>LA0009004</td>\n",
       "      <td>ORAL GLUCOSE TOLERANCE TEST</td>\n",
       "      <td>438.600</td>\n",
       "      <td>76961</td>\n",
       "      <td>LAB Services</td>\n",
       "      <td>LAB-Biochemistry</td>\n",
       "      <td>665420020</td>\n",
       "      <td>66542-00-20</td>\n",
       "      <td>ORAL GLUCOSE TOLERANCE TEST</td>\n",
       "      <td>ORAL GLUCOSE TOLERANCE TEST</td>\n",
       "      <td>A test that measures the body's response to su...</td>\n",
       "      <td>Non-invasive, cognitive and other intervention...</td>\n",
       "      <td>Physiological assessment</td>\n",
       "    </tr>\n",
       "    <tr>\n",
       "      <th>1</th>\n",
       "      <td>Al Rajhi</td>\n",
       "      <td>XY0077772</td>\n",
       "      <td>RADIOGRAPHY OF ABDOMEN</td>\n",
       "      <td>246.708</td>\n",
       "      <td>81526</td>\n",
       "      <td>RAD Services</td>\n",
       "      <td>X-Ray</td>\n",
       "      <td>589000090</td>\n",
       "      <td>58900-00-90</td>\n",
       "      <td>RADIOGRAPHY ABDO</td>\n",
       "      <td>RADIOGRAPHY OF ABDOMEN</td>\n",
       "      <td>NaN</td>\n",
       "      <td>Imaging services</td>\n",
       "      <td>Radiography of abdomen</td>\n",
       "    </tr>\n",
       "    <tr>\n",
       "      <th>2</th>\n",
       "      <td>Al Rajhi</td>\n",
       "      <td>XY0077746</td>\n",
       "      <td>MAGNETIC RESONANCE ANGIOGRAPHY OF SPINE</td>\n",
       "      <td>1477.476</td>\n",
       "      <td>81537</td>\n",
       "      <td>RAD Services</td>\n",
       "      <td>MRA</td>\n",
       "      <td>909020300</td>\n",
       "      <td>90902-03-00</td>\n",
       "      <td>MAGNETIC RESONANCE ANGIOGRAPHY OF SPINE</td>\n",
       "      <td>MAGNETIC RESONANCE ANGIOGRAPHY OF SPINE</td>\n",
       "      <td>NaN</td>\n",
       "      <td>Imaging services</td>\n",
       "      <td>Magnetic resonance angiography</td>\n",
       "    </tr>\n",
       "    <tr>\n",
       "      <th>3</th>\n",
       "      <td>Al Rajhi</td>\n",
       "      <td>XY0077753</td>\n",
       "      <td>RADIOGRAPHY OF ANKLE AND FOOT, UNILATERAL</td>\n",
       "      <td>314.160</td>\n",
       "      <td>81544</td>\n",
       "      <td>RAD Services</td>\n",
       "      <td>X-Ray</td>\n",
       "      <td>575240401</td>\n",
       "      <td>57524-04-01</td>\n",
       "      <td>RADIOGRAPHY ANKLE &amp; FOOT  UNI</td>\n",
       "      <td>RADIOGRAPHY OF ANKLE AND FOOT, UNILATERAL</td>\n",
       "      <td>Radiography of ankle and foot (one side).</td>\n",
       "      <td>Imaging services</td>\n",
       "      <td>Radiography of lower limb</td>\n",
       "    </tr>\n",
       "    <tr>\n",
       "      <th>4</th>\n",
       "      <td>Al Rajhi</td>\n",
       "      <td>XY0078124</td>\n",
       "      <td>RADIOGRAPHY OF ELBOW AND HUMERUS, UNILATERAL</td>\n",
       "      <td>267.960</td>\n",
       "      <td>81554</td>\n",
       "      <td>RAD Services</td>\n",
       "      <td>X-Ray</td>\n",
       "      <td>575120001</td>\n",
       "      <td>57512-00-01</td>\n",
       "      <td>RADIOGRAPHY ELBOW &amp; HUMERUS  UNI</td>\n",
       "      <td>RADIOGRAPHY OF ELBOW AND HUMERUS, UNILATERAL</td>\n",
       "      <td>Radiography of elbow and humerus (one side), e...</td>\n",
       "      <td>Imaging services</td>\n",
       "      <td>Radiography of upper limb</td>\n",
       "    </tr>\n",
       "  </tbody>\n",
       "</table>\n",
       "</div>"
      ],
      "text/plain": [
       "  INSURANCE_COMPANY SERVICE_CODE  \\\n",
       "0          Al Rajhi    LA0009004   \n",
       "1          Al Rajhi    XY0077772   \n",
       "2          Al Rajhi    XY0077746   \n",
       "3          Al Rajhi    XY0077753   \n",
       "4          Al Rajhi    XY0078124   \n",
       "\n",
       "                            SERVICE_DESCRIPTION     PRICE  SERVICE_KEY  \\\n",
       "0                   ORAL GLUCOSE TOLERANCE TEST   438.600        76961   \n",
       "1                        RADIOGRAPHY OF ABDOMEN   246.708        81526   \n",
       "2       MAGNETIC RESONANCE ANGIOGRAPHY OF SPINE  1477.476        81537   \n",
       "3     RADIOGRAPHY OF ANKLE AND FOOT, UNILATERAL   314.160        81544   \n",
       "4  RADIOGRAPHY OF ELBOW AND HUMERUS, UNILATERAL   267.960        81554   \n",
       "\n",
       "  SERVICE_CLASSIFICATION  SERVICE_CATEGORY   SBS Code SBS Code (Hyphenated)  \\\n",
       "0           LAB Services  LAB-Biochemistry  665420020           66542-00-20   \n",
       "1           RAD Services             X-Ray  589000090           58900-00-90   \n",
       "2           RAD Services               MRA  909020300           90902-03-00   \n",
       "3           RAD Services             X-Ray  575240401           57524-04-01   \n",
       "4           RAD Services             X-Ray  575120001           57512-00-01   \n",
       "\n",
       "                         SHORT_DESCRIPTION  \\\n",
       "0              ORAL GLUCOSE TOLERANCE TEST   \n",
       "1                         RADIOGRAPHY ABDO   \n",
       "2  MAGNETIC RESONANCE ANGIOGRAPHY OF SPINE   \n",
       "3            RADIOGRAPHY ANKLE & FOOT  UNI   \n",
       "4         RADIOGRAPHY ELBOW & HUMERUS  UNI   \n",
       "\n",
       "                               Long Description  \\\n",
       "0                   ORAL GLUCOSE TOLERANCE TEST   \n",
       "1                        RADIOGRAPHY OF ABDOMEN   \n",
       "2       MAGNETIC RESONANCE ANGIOGRAPHY OF SPINE   \n",
       "3     RADIOGRAPHY OF ANKLE AND FOOT, UNILATERAL   \n",
       "4  RADIOGRAPHY OF ELBOW AND HUMERUS, UNILATERAL   \n",
       "\n",
       "                                          Definition  \\\n",
       "0  A test that measures the body's response to su...   \n",
       "1                                                NaN   \n",
       "2                                                NaN   \n",
       "3          Radiography of ankle and foot (one side).   \n",
       "4  Radiography of elbow and humerus (one side), e...   \n",
       "\n",
       "                                        Chapter Name  \\\n",
       "0  Non-invasive, cognitive and other intervention...   \n",
       "1                                  Imaging services    \n",
       "2                                  Imaging services    \n",
       "3                                  Imaging services    \n",
       "4                                  Imaging services    \n",
       "\n",
       "                       Block Name  \n",
       "0        Physiological assessment  \n",
       "1          Radiography of abdomen  \n",
       "2  Magnetic resonance angiography  \n",
       "3       Radiography of lower limb  \n",
       "4       Radiography of upper limb  "
      ]
     },
     "execution_count": 4,
     "metadata": {},
     "output_type": "execute_result"
    }
   ],
   "source": [
    "full_mappings.head()"
   ]
  },
  {
   "cell_type": "code",
   "execution_count": 5,
   "id": "c12a2c5c",
   "metadata": {},
   "outputs": [
    {
     "data": {
      "text/plain": [
       "(8544, 5)"
      ]
     },
     "execution_count": 5,
     "metadata": {},
     "output_type": "execute_result"
    }
   ],
   "source": [
    "mapped_services = pd.read_excel(\"D:/CodingSystem/assets/mapped_services.xlsx\")\n",
    "mapped_services.shape"
   ]
  },
  {
   "cell_type": "code",
   "execution_count": 6,
   "id": "ca98d57c",
   "metadata": {},
   "outputs": [
    {
     "data": {
      "text/html": [
       "<div>\n",
       "<style scoped>\n",
       "    .dataframe tbody tr th:only-of-type {\n",
       "        vertical-align: middle;\n",
       "    }\n",
       "\n",
       "    .dataframe tbody tr th {\n",
       "        vertical-align: top;\n",
       "    }\n",
       "\n",
       "    .dataframe thead th {\n",
       "        text-align: right;\n",
       "    }\n",
       "</style>\n",
       "<table border=\"1\" class=\"dataframe\">\n",
       "  <thead>\n",
       "    <tr style=\"text-align: right;\">\n",
       "      <th></th>\n",
       "      <th>SERVICE_CODE</th>\n",
       "      <th>SERVICE_DESCRIPTION</th>\n",
       "      <th>SBS_CODE</th>\n",
       "      <th>SBS_DESCRIPTION</th>\n",
       "      <th>LLM_EXPLAINATION</th>\n",
       "    </tr>\n",
       "  </thead>\n",
       "  <tbody>\n",
       "    <tr>\n",
       "      <th>0</th>\n",
       "      <td>LA0013674</td>\n",
       "      <td>AFP**</td>\n",
       "      <td>73050-01-70</td>\n",
       "      <td>AFP (TOTAL); SERUM</td>\n",
       "      <td>The internal service (LAB-Hormones) aligns wit...</td>\n",
       "    </tr>\n",
       "    <tr>\n",
       "      <th>1</th>\n",
       "      <td>LA0043519</td>\n",
       "      <td>RESPIRATORY INFECTIONS PANEL (VIRAL-BACTERIAL)...</td>\n",
       "      <td>73050-57-70</td>\n",
       "      <td>RESPIRATORY VIRUS (3-5); AMPLIFIED PROBE</td>\n",
       "      <td>The internal service uses PCR (a nucleic acid ...</td>\n",
       "    </tr>\n",
       "    <tr>\n",
       "      <th>2</th>\n",
       "      <td>LA0043329</td>\n",
       "      <td>TISSUE TRANSGLUTAMINASE IGG ABS</td>\n",
       "      <td>73100-16-75</td>\n",
       "      <td>TISSUE TRANSGLUTAMINASE AB</td>\n",
       "      <td>This code explicitly includes assays for both ...</td>\n",
       "    </tr>\n",
       "    <tr>\n",
       "      <th>3</th>\n",
       "      <td>LA0043328</td>\n",
       "      <td>TISSUE TRANSGLUTAMINASE IGA ABS</td>\n",
       "      <td>73050-11-50</td>\n",
       "      <td>HUMAN TISSUE TRANSGLUTAMINASE</td>\n",
       "      <td>This code explicitly specifies measurement of ...</td>\n",
       "    </tr>\n",
       "    <tr>\n",
       "      <th>4</th>\n",
       "      <td>LA0027629</td>\n",
       "      <td>ENTERO VIRUS (COXSACKIE) ABS</td>\n",
       "      <td>73100-21-40</td>\n",
       "      <td>ENTEROVIRUS AB</td>\n",
       "      <td>The SBS code 73100-21-40 directly matches the ...</td>\n",
       "    </tr>\n",
       "  </tbody>\n",
       "</table>\n",
       "</div>"
      ],
      "text/plain": [
       "  SERVICE_CODE                                SERVICE_DESCRIPTION  \\\n",
       "0    LA0013674                                              AFP**   \n",
       "1    LA0043519  RESPIRATORY INFECTIONS PANEL (VIRAL-BACTERIAL)...   \n",
       "2    LA0043329                    TISSUE TRANSGLUTAMINASE IGG ABS   \n",
       "3    LA0043328                    TISSUE TRANSGLUTAMINASE IGA ABS   \n",
       "4    LA0027629                       ENTERO VIRUS (COXSACKIE) ABS   \n",
       "\n",
       "      SBS_CODE                           SBS_DESCRIPTION  \\\n",
       "0  73050-01-70                        AFP (TOTAL); SERUM   \n",
       "1  73050-57-70  RESPIRATORY VIRUS (3-5); AMPLIFIED PROBE   \n",
       "2  73100-16-75                TISSUE TRANSGLUTAMINASE AB   \n",
       "3  73050-11-50             HUMAN TISSUE TRANSGLUTAMINASE   \n",
       "4  73100-21-40                            ENTEROVIRUS AB   \n",
       "\n",
       "                                    LLM_EXPLAINATION  \n",
       "0  The internal service (LAB-Hormones) aligns wit...  \n",
       "1  The internal service uses PCR (a nucleic acid ...  \n",
       "2  This code explicitly includes assays for both ...  \n",
       "3  This code explicitly specifies measurement of ...  \n",
       "4  The SBS code 73100-21-40 directly matches the ...  "
      ]
     },
     "execution_count": 6,
     "metadata": {},
     "output_type": "execute_result"
    }
   ],
   "source": [
    "mapped_services.head()"
   ]
  },
  {
   "cell_type": "code",
   "execution_count": 7,
   "id": "738db45e",
   "metadata": {},
   "outputs": [
    {
     "name": "stderr",
     "output_type": "stream",
     "text": [
      "C:\\Users\\doha.ramadan\\AppData\\Local\\Temp\\ipykernel_23172\\1031212365.py:2: SettingWithCopyWarning: \n",
      "A value is trying to be set on a copy of a slice from a DataFrame\n",
      "\n",
      "See the caveats in the documentation: https://pandas.pydata.org/pandas-docs/stable/user_guide/indexing.html#returning-a-view-versus-a-copy\n",
      "  llm_mapped_services.drop(columns=['INSURANCE_COMPANY', 'PRICE', 'SERVICE_KEY'], inplace= True)\n",
      "C:\\Users\\doha.ramadan\\AppData\\Local\\Temp\\ipykernel_23172\\1031212365.py:3: SettingWithCopyWarning: \n",
      "A value is trying to be set on a copy of a slice from a DataFrame\n",
      "\n",
      "See the caveats in the documentation: https://pandas.pydata.org/pandas-docs/stable/user_guide/indexing.html#returning-a-view-versus-a-copy\n",
      "  llm_mapped_services.drop_duplicates(inplace=True)\n"
     ]
    },
    {
     "data": {
      "text/plain": [
       "(8471, 11)"
      ]
     },
     "execution_count": 7,
     "metadata": {},
     "output_type": "execute_result"
    }
   ],
   "source": [
    "llm_mapped_services = full_mappings[full_mappings['SERVICE_DESCRIPTION'].isin(list(mapped_services['SERVICE_DESCRIPTION'].unique()))]\n",
    "llm_mapped_services.drop(columns=['INSURANCE_COMPANY', 'PRICE', 'SERVICE_KEY'], inplace= True)\n",
    "llm_mapped_services.drop_duplicates(inplace=True)\n",
    "llm_mapped_services.shape"
   ]
  },
  {
   "cell_type": "code",
   "execution_count": 8,
   "id": "470a2649",
   "metadata": {},
   "outputs": [
    {
     "data": {
      "text/html": [
       "<div>\n",
       "<style scoped>\n",
       "    .dataframe tbody tr th:only-of-type {\n",
       "        vertical-align: middle;\n",
       "    }\n",
       "\n",
       "    .dataframe tbody tr th {\n",
       "        vertical-align: top;\n",
       "    }\n",
       "\n",
       "    .dataframe thead th {\n",
       "        text-align: right;\n",
       "    }\n",
       "</style>\n",
       "<table border=\"1\" class=\"dataframe\">\n",
       "  <thead>\n",
       "    <tr style=\"text-align: right;\">\n",
       "      <th></th>\n",
       "      <th>SERVICE_CODE</th>\n",
       "      <th>SERVICE_DESCRIPTION</th>\n",
       "      <th>SERVICE_CLASSIFICATION</th>\n",
       "      <th>SERVICE_CATEGORY</th>\n",
       "      <th>SBS Code</th>\n",
       "      <th>SBS Code (Hyphenated)</th>\n",
       "      <th>SHORT_DESCRIPTION</th>\n",
       "      <th>Long Description</th>\n",
       "      <th>Definition</th>\n",
       "      <th>Chapter Name</th>\n",
       "      <th>Block Name</th>\n",
       "    </tr>\n",
       "  </thead>\n",
       "  <tbody>\n",
       "    <tr>\n",
       "      <th>1741</th>\n",
       "      <td>LA0013674</td>\n",
       "      <td>AFP**</td>\n",
       "      <td>LAB Services</td>\n",
       "      <td>LAB-Hormones</td>\n",
       "      <td>730500170</td>\n",
       "      <td>73050-01-70</td>\n",
       "      <td>AFP (TOTAL); SERUM</td>\n",
       "      <td>MEASUREMENT OF TOTAL ALPHA FETOPROTEIN (AFP) I...</td>\n",
       "      <td>This test is for the quantitation of alpha–fet...</td>\n",
       "      <td>Laboratory and Pathology</td>\n",
       "      <td>Chemistry &amp; Microbiology</td>\n",
       "    </tr>\n",
       "    <tr>\n",
       "      <th>1742</th>\n",
       "      <td>LA0027636</td>\n",
       "      <td>HEAVY METALS IN WATER</td>\n",
       "      <td>LAB Services</td>\n",
       "      <td>LAB-Biochemistry</td>\n",
       "      <td>730501790</td>\n",
       "      <td>73050-17-90</td>\n",
       "      <td>HEAVY METAL; QUANT.</td>\n",
       "      <td>QUANTITATIVE MEASUREMENT OF HEAVY METAL</td>\n",
       "      <td>Measures the amount of heavy metals (e.g. arse...</td>\n",
       "      <td>Laboratory and Pathology</td>\n",
       "      <td>Chemistry &amp; Microbiology</td>\n",
       "    </tr>\n",
       "    <tr>\n",
       "      <th>1744</th>\n",
       "      <td>LA0027634</td>\n",
       "      <td>FRAGILE X SYNDROME(FMR1) BY PCR</td>\n",
       "      <td>LAB Services</td>\n",
       "      <td>Lab-Hematology</td>\n",
       "      <td>733500162</td>\n",
       "      <td>73350-01-62</td>\n",
       "      <td>FMR1 GENE; EVALUATION</td>\n",
       "      <td>FRAGILE X MENTAL RETARDATION 1 (FMR1) EXPANDED...</td>\n",
       "      <td>Testing for abnormal expanded alleles (e.g. fr...</td>\n",
       "      <td>Laboratory and Pathology</td>\n",
       "      <td>Molecular Pathology including Gene Sequencing</td>\n",
       "    </tr>\n",
       "    <tr>\n",
       "      <th>1745</th>\n",
       "      <td>LA0027633</td>\n",
       "      <td>FOOD BACTERIOLOGICAL ASSESSMENT</td>\n",
       "      <td>Microbiology</td>\n",
       "      <td>Microbiology</td>\n",
       "      <td>730504090</td>\n",
       "      <td>73050-40-90</td>\n",
       "      <td>CULTURE SCREEN</td>\n",
       "      <td>SCREENING FOR CULTURE</td>\n",
       "      <td>Screening for specific pathogenic microorganis...</td>\n",
       "      <td>Laboratory and Pathology</td>\n",
       "      <td>Chemistry &amp; Microbiology</td>\n",
       "    </tr>\n",
       "    <tr>\n",
       "      <th>1746</th>\n",
       "      <td>LA0027632</td>\n",
       "      <td>FIBROMAX</td>\n",
       "      <td>LAB Services</td>\n",
       "      <td>LAB-Biochemistry</td>\n",
       "      <td>730502120</td>\n",
       "      <td>73050-21-20</td>\n",
       "      <td>IRON BINDING CAPACITY</td>\n",
       "      <td>MEASUREMENT OF IRON BINDING CAPACITY IN SERUM</td>\n",
       "      <td>Measurement of iron binding capacity (transfer...</td>\n",
       "      <td>Laboratory and Pathology</td>\n",
       "      <td>Chemistry &amp; Microbiology</td>\n",
       "    </tr>\n",
       "  </tbody>\n",
       "</table>\n",
       "</div>"
      ],
      "text/plain": [
       "     SERVICE_CODE              SERVICE_DESCRIPTION SERVICE_CLASSIFICATION  \\\n",
       "1741    LA0013674                            AFP**           LAB Services   \n",
       "1742    LA0027636            HEAVY METALS IN WATER           LAB Services   \n",
       "1744    LA0027634  FRAGILE X SYNDROME(FMR1) BY PCR           LAB Services   \n",
       "1745    LA0027633  FOOD BACTERIOLOGICAL ASSESSMENT           Microbiology   \n",
       "1746    LA0027632                         FIBROMAX           LAB Services   \n",
       "\n",
       "      SERVICE_CATEGORY   SBS Code SBS Code (Hyphenated)  \\\n",
       "1741      LAB-Hormones  730500170           73050-01-70   \n",
       "1742  LAB-Biochemistry  730501790           73050-17-90   \n",
       "1744    Lab-Hematology  733500162           73350-01-62   \n",
       "1745      Microbiology  730504090           73050-40-90   \n",
       "1746  LAB-Biochemistry  730502120           73050-21-20   \n",
       "\n",
       "          SHORT_DESCRIPTION  \\\n",
       "1741     AFP (TOTAL); SERUM   \n",
       "1742    HEAVY METAL; QUANT.   \n",
       "1744  FMR1 GENE; EVALUATION   \n",
       "1745         CULTURE SCREEN   \n",
       "1746  IRON BINDING CAPACITY   \n",
       "\n",
       "                                       Long Description  \\\n",
       "1741  MEASUREMENT OF TOTAL ALPHA FETOPROTEIN (AFP) I...   \n",
       "1742            QUANTITATIVE MEASUREMENT OF HEAVY METAL   \n",
       "1744  FRAGILE X MENTAL RETARDATION 1 (FMR1) EXPANDED...   \n",
       "1745                              SCREENING FOR CULTURE   \n",
       "1746      MEASUREMENT OF IRON BINDING CAPACITY IN SERUM   \n",
       "\n",
       "                                             Definition  \\\n",
       "1741  This test is for the quantitation of alpha–fet...   \n",
       "1742  Measures the amount of heavy metals (e.g. arse...   \n",
       "1744  Testing for abnormal expanded alleles (e.g. fr...   \n",
       "1745  Screening for specific pathogenic microorganis...   \n",
       "1746  Measurement of iron binding capacity (transfer...   \n",
       "\n",
       "                  Chapter Name                                     Block Name  \n",
       "1741  Laboratory and Pathology                       Chemistry & Microbiology  \n",
       "1742  Laboratory and Pathology                       Chemistry & Microbiology  \n",
       "1744  Laboratory and Pathology  Molecular Pathology including Gene Sequencing  \n",
       "1745  Laboratory and Pathology                       Chemistry & Microbiology  \n",
       "1746  Laboratory and Pathology                       Chemistry & Microbiology  "
      ]
     },
     "execution_count": 8,
     "metadata": {},
     "output_type": "execute_result"
    }
   ],
   "source": [
    "llm_mapped_services.head()"
   ]
  },
  {
   "cell_type": "code",
   "execution_count": 18,
   "id": "a89bfea3",
   "metadata": {},
   "outputs": [],
   "source": [
    "class FireworksLLM(LLM):\n",
    "    model: str\n",
    "    api_key: str\n",
    "    base_url: str = \"https://api.fireworks.ai/inference/v1\"\n",
    "    temperature: float = 0\n",
    "    top_p: float = 0\n",
    "\n",
    "    @property\n",
    "    def _llm_type(self) -> str:\n",
    "        return \"fireworks\"\n",
    "\n",
    "    def _call(self, prompt: str, stop: Optional[List[str]] = None) -> str:\n",
    "        client = OpenAI(\n",
    "            api_key=self.api_key,\n",
    "            base_url=self.base_url\n",
    "        )\n",
    "\n",
    "        response = client.chat.completions.create(\n",
    "            model=self.model,\n",
    "            messages=[\n",
    "                {\"role\": \"system\", \"content\": \"You are an expert in medical coding and service mapping.\"},\n",
    "                {\"role\": \"user\", \"content\": prompt}\n",
    "            ],\n",
    "            temperature=self.temperature,\n",
    "            top_p=self.top_p\n",
    "        )\n",
    "        return response.choices[0].message.content\n",
    "\n",
    "load_dotenv()\n",
    "\n",
    "api_key = os.getenv(\"FIREWORKS_API_KEY\")\n",
    "\n",
    "fireworks_llm = FireworksLLM(\n",
    "    model=\"accounts/fireworks/models/deepseek-v3-0324\",\n",
    "    api_key=api_key,\n",
    ")"
   ]
  },
  {
   "cell_type": "code",
   "execution_count": 13,
   "id": "4c2812a7",
   "metadata": {},
   "outputs": [],
   "source": [
    "prompt_template = \"\"\"\n",
    "You are an expert medical coding validator. \n",
    "Check if the AHJ service is correctly mapped to the SBS code.\n",
    "\n",
    "AHJ SERVICE:\n",
    "- Code: {SERVICE_CODE}\n",
    "- Description: {SERVICE_DESCRIPTION}\n",
    "- Classification: {SERVICE_CLASSIFICATION}\n",
    "- Category: {SERVICE_CATEGORY}\n",
    "\n",
    "SBS CODE:\n",
    "- Code: {SBS_Code}\n",
    "- Hyphenated Code: {SBS_Code_Hyphenated}\n",
    "- Short Description: {SHORT_DESCRIPTION}\n",
    "- Long Description: {Long_Description}\n",
    "- Definition: {Definition}\n",
    "- Chapter Name: {Chapter_Name}\n",
    "- Block Name: {Block_Name}\n",
    "\n",
    "Validation Rules:\n",
    "- The descriptions must match semantically.\n",
    "- The classification and category must align with the SBS Chapter and Block.\n",
    "- There should be no obvious mismatches (e.g., test matrix conflict).\n",
    "- Be strict: if unsure, return 0.\n",
    "\n",
    "Output ONLY 1 if correctly mapped, 0 if it’s mismapped.\n",
    "\n",
    "Your final answer must be ONLY a single number: \n",
    "1 if mapped correctly, 0 if not.\n",
    "\n",
    "Do NOT add any explanation or chain-of-thought.\n",
    "Output format: just 1 or 0.\n",
    "\"\"\""
   ]
  },
  {
   "cell_type": "code",
   "execution_count": 22,
   "id": "b442ddf6",
   "metadata": {},
   "outputs": [
    {
     "name": "stdout",
     "output_type": "stream",
     "text": [
      "✅ Loaded checkpoint with 2078 validated rows.\n"
     ]
    },
    {
     "name": "stderr",
     "output_type": "stream",
     "text": [
      "Validating Services:  28%|██▊       | 2366/8471 [14:42<37:58,  2.68it/s]    \n"
     ]
    },
    {
     "ename": "PermissionError",
     "evalue": "[Errno 13] Permission denied: 'validated_checkpoint.csv'",
     "output_type": "error",
     "traceback": [
      "\u001b[31m---------------------------------------------------------------------------\u001b[39m",
      "\u001b[31mPermissionError\u001b[39m                           Traceback (most recent call last)",
      "\u001b[36mCell\u001b[39m\u001b[36m \u001b[39m\u001b[32mIn[22]\u001b[39m\u001b[32m, line 49\u001b[39m\n\u001b[32m     46\u001b[39m         result_int = \u001b[38;5;28;01mNone\u001b[39;00m\n\u001b[32m     48\u001b[39m     validated_df.at[idx, \u001b[33m'\u001b[39m\u001b[33mVALIDATION_RESULT\u001b[39m\u001b[33m'\u001b[39m] = result_int\n\u001b[32m---> \u001b[39m\u001b[32m49\u001b[39m     validated_df.to_csv(checkpoint_file, index=\u001b[38;5;28;01mFalse\u001b[39;00m)\n\u001b[32m     51\u001b[39m \u001b[38;5;28mprint\u001b[39m(\u001b[33m\"\u001b[39m\u001b[33m✅ Validation complete! Saving final file...\u001b[39m\u001b[33m\"\u001b[39m)\n",
      "\u001b[36mFile \u001b[39m\u001b[32mc:\\Users\\doha.ramadan\\AppData\\Local\\miniconda3\\envs\\coding\\Lib\\site-packages\\pandas\\util\\_decorators.py:333\u001b[39m, in \u001b[36mdeprecate_nonkeyword_arguments.<locals>.decorate.<locals>.wrapper\u001b[39m\u001b[34m(*args, **kwargs)\u001b[39m\n\u001b[32m    327\u001b[39m \u001b[38;5;28;01mif\u001b[39;00m \u001b[38;5;28mlen\u001b[39m(args) > num_allow_args:\n\u001b[32m    328\u001b[39m     warnings.warn(\n\u001b[32m    329\u001b[39m         msg.format(arguments=_format_argument_list(allow_args)),\n\u001b[32m    330\u001b[39m         \u001b[38;5;167;01mFutureWarning\u001b[39;00m,\n\u001b[32m    331\u001b[39m         stacklevel=find_stack_level(),\n\u001b[32m    332\u001b[39m     )\n\u001b[32m--> \u001b[39m\u001b[32m333\u001b[39m \u001b[38;5;28;01mreturn\u001b[39;00m func(*args, **kwargs)\n",
      "\u001b[36mFile \u001b[39m\u001b[32mc:\\Users\\doha.ramadan\\AppData\\Local\\miniconda3\\envs\\coding\\Lib\\site-packages\\pandas\\core\\generic.py:3986\u001b[39m, in \u001b[36mNDFrame.to_csv\u001b[39m\u001b[34m(self, path_or_buf, sep, na_rep, float_format, columns, header, index, index_label, mode, encoding, compression, quoting, quotechar, lineterminator, chunksize, date_format, doublequote, escapechar, decimal, errors, storage_options)\u001b[39m\n\u001b[32m   3975\u001b[39m df = \u001b[38;5;28mself\u001b[39m \u001b[38;5;28;01mif\u001b[39;00m \u001b[38;5;28misinstance\u001b[39m(\u001b[38;5;28mself\u001b[39m, ABCDataFrame) \u001b[38;5;28;01melse\u001b[39;00m \u001b[38;5;28mself\u001b[39m.to_frame()\n\u001b[32m   3977\u001b[39m formatter = DataFrameFormatter(\n\u001b[32m   3978\u001b[39m     frame=df,\n\u001b[32m   3979\u001b[39m     header=header,\n\u001b[32m   (...)\u001b[39m\u001b[32m   3983\u001b[39m     decimal=decimal,\n\u001b[32m   3984\u001b[39m )\n\u001b[32m-> \u001b[39m\u001b[32m3986\u001b[39m \u001b[38;5;28;01mreturn\u001b[39;00m DataFrameRenderer(formatter).to_csv(\n\u001b[32m   3987\u001b[39m     path_or_buf,\n\u001b[32m   3988\u001b[39m     lineterminator=lineterminator,\n\u001b[32m   3989\u001b[39m     sep=sep,\n\u001b[32m   3990\u001b[39m     encoding=encoding,\n\u001b[32m   3991\u001b[39m     errors=errors,\n\u001b[32m   3992\u001b[39m     compression=compression,\n\u001b[32m   3993\u001b[39m     quoting=quoting,\n\u001b[32m   3994\u001b[39m     columns=columns,\n\u001b[32m   3995\u001b[39m     index_label=index_label,\n\u001b[32m   3996\u001b[39m     mode=mode,\n\u001b[32m   3997\u001b[39m     chunksize=chunksize,\n\u001b[32m   3998\u001b[39m     quotechar=quotechar,\n\u001b[32m   3999\u001b[39m     date_format=date_format,\n\u001b[32m   4000\u001b[39m     doublequote=doublequote,\n\u001b[32m   4001\u001b[39m     escapechar=escapechar,\n\u001b[32m   4002\u001b[39m     storage_options=storage_options,\n\u001b[32m   4003\u001b[39m )\n",
      "\u001b[36mFile \u001b[39m\u001b[32mc:\\Users\\doha.ramadan\\AppData\\Local\\miniconda3\\envs\\coding\\Lib\\site-packages\\pandas\\io\\formats\\format.py:1014\u001b[39m, in \u001b[36mDataFrameRenderer.to_csv\u001b[39m\u001b[34m(self, path_or_buf, encoding, sep, columns, index_label, mode, compression, quoting, quotechar, lineterminator, chunksize, date_format, doublequote, escapechar, errors, storage_options)\u001b[39m\n\u001b[32m    993\u001b[39m     created_buffer = \u001b[38;5;28;01mFalse\u001b[39;00m\n\u001b[32m    995\u001b[39m csv_formatter = CSVFormatter(\n\u001b[32m    996\u001b[39m     path_or_buf=path_or_buf,\n\u001b[32m    997\u001b[39m     lineterminator=lineterminator,\n\u001b[32m   (...)\u001b[39m\u001b[32m   1012\u001b[39m     formatter=\u001b[38;5;28mself\u001b[39m.fmt,\n\u001b[32m   1013\u001b[39m )\n\u001b[32m-> \u001b[39m\u001b[32m1014\u001b[39m csv_formatter.save()\n\u001b[32m   1016\u001b[39m \u001b[38;5;28;01mif\u001b[39;00m created_buffer:\n\u001b[32m   1017\u001b[39m     \u001b[38;5;28;01massert\u001b[39;00m \u001b[38;5;28misinstance\u001b[39m(path_or_buf, StringIO)\n",
      "\u001b[36mFile \u001b[39m\u001b[32mc:\\Users\\doha.ramadan\\AppData\\Local\\miniconda3\\envs\\coding\\Lib\\site-packages\\pandas\\io\\formats\\csvs.py:251\u001b[39m, in \u001b[36mCSVFormatter.save\u001b[39m\u001b[34m(self)\u001b[39m\n\u001b[32m    247\u001b[39m \u001b[38;5;250m\u001b[39m\u001b[33;03m\"\"\"\u001b[39;00m\n\u001b[32m    248\u001b[39m \u001b[33;03mCreate the writer & save.\u001b[39;00m\n\u001b[32m    249\u001b[39m \u001b[33;03m\"\"\"\u001b[39;00m\n\u001b[32m    250\u001b[39m \u001b[38;5;66;03m# apply compression and byte/text conversion\u001b[39;00m\n\u001b[32m--> \u001b[39m\u001b[32m251\u001b[39m \u001b[38;5;28;01mwith\u001b[39;00m get_handle(\n\u001b[32m    252\u001b[39m     \u001b[38;5;28mself\u001b[39m.filepath_or_buffer,\n\u001b[32m    253\u001b[39m     \u001b[38;5;28mself\u001b[39m.mode,\n\u001b[32m    254\u001b[39m     encoding=\u001b[38;5;28mself\u001b[39m.encoding,\n\u001b[32m    255\u001b[39m     errors=\u001b[38;5;28mself\u001b[39m.errors,\n\u001b[32m    256\u001b[39m     compression=\u001b[38;5;28mself\u001b[39m.compression,\n\u001b[32m    257\u001b[39m     storage_options=\u001b[38;5;28mself\u001b[39m.storage_options,\n\u001b[32m    258\u001b[39m ) \u001b[38;5;28;01mas\u001b[39;00m handles:\n\u001b[32m    259\u001b[39m     \u001b[38;5;66;03m# Note: self.encoding is irrelevant here\u001b[39;00m\n\u001b[32m    260\u001b[39m     \u001b[38;5;28mself\u001b[39m.writer = csvlib.writer(\n\u001b[32m    261\u001b[39m         handles.handle,\n\u001b[32m    262\u001b[39m         lineterminator=\u001b[38;5;28mself\u001b[39m.lineterminator,\n\u001b[32m   (...)\u001b[39m\u001b[32m    267\u001b[39m         quotechar=\u001b[38;5;28mself\u001b[39m.quotechar,\n\u001b[32m    268\u001b[39m     )\n\u001b[32m    270\u001b[39m     \u001b[38;5;28mself\u001b[39m._save()\n",
      "\u001b[36mFile \u001b[39m\u001b[32mc:\\Users\\doha.ramadan\\AppData\\Local\\miniconda3\\envs\\coding\\Lib\\site-packages\\pandas\\io\\common.py:873\u001b[39m, in \u001b[36mget_handle\u001b[39m\u001b[34m(path_or_buf, mode, encoding, compression, memory_map, is_text, errors, storage_options)\u001b[39m\n\u001b[32m    868\u001b[39m \u001b[38;5;28;01melif\u001b[39;00m \u001b[38;5;28misinstance\u001b[39m(handle, \u001b[38;5;28mstr\u001b[39m):\n\u001b[32m    869\u001b[39m     \u001b[38;5;66;03m# Check whether the filename is to be opened in binary mode.\u001b[39;00m\n\u001b[32m    870\u001b[39m     \u001b[38;5;66;03m# Binary mode does not support 'encoding' and 'newline'.\u001b[39;00m\n\u001b[32m    871\u001b[39m     \u001b[38;5;28;01mif\u001b[39;00m ioargs.encoding \u001b[38;5;129;01mand\u001b[39;00m \u001b[33m\"\u001b[39m\u001b[33mb\u001b[39m\u001b[33m\"\u001b[39m \u001b[38;5;129;01mnot\u001b[39;00m \u001b[38;5;129;01min\u001b[39;00m ioargs.mode:\n\u001b[32m    872\u001b[39m         \u001b[38;5;66;03m# Encoding\u001b[39;00m\n\u001b[32m--> \u001b[39m\u001b[32m873\u001b[39m         handle = \u001b[38;5;28mopen\u001b[39m(\n\u001b[32m    874\u001b[39m             handle,\n\u001b[32m    875\u001b[39m             ioargs.mode,\n\u001b[32m    876\u001b[39m             encoding=ioargs.encoding,\n\u001b[32m    877\u001b[39m             errors=errors,\n\u001b[32m    878\u001b[39m             newline=\u001b[33m\"\u001b[39m\u001b[33m\"\u001b[39m,\n\u001b[32m    879\u001b[39m         )\n\u001b[32m    880\u001b[39m     \u001b[38;5;28;01melse\u001b[39;00m:\n\u001b[32m    881\u001b[39m         \u001b[38;5;66;03m# Binary mode\u001b[39;00m\n\u001b[32m    882\u001b[39m         handle = \u001b[38;5;28mopen\u001b[39m(handle, ioargs.mode)\n",
      "\u001b[31mPermissionError\u001b[39m: [Errno 13] Permission denied: 'validated_checkpoint.csv'"
     ]
    }
   ],
   "source": [
    "# Checkpoint file name\n",
    "checkpoint_file = 'validated_checkpoint.csv'\n",
    "\n",
    "# If checkpoint exists, load it; otherwise create a new column\n",
    "if os.path.exists(checkpoint_file):\n",
    "    validated_df = pd.read_csv(checkpoint_file)\n",
    "    print(f\"✅ Loaded checkpoint with {validated_df['VALIDATION_RESULT'].notnull().sum()} validated rows.\")\n",
    "else:\n",
    "    llm_mapped_services['VALIDATION_RESULT'] = None\n",
    "    validated_df = llm_mapped_services.copy()\n",
    "\n",
    "# ✅ Loop with tqdm and safe parsing\n",
    "for idx, row in tqdm(validated_df.iterrows(), total=len(validated_df), desc=\"Validating Services\"):\n",
    "    if pd.notnull(row['VALIDATION_RESULT']):\n",
    "        continue  # Already validated\n",
    "\n",
    "    prompt = prompt_template.format(\n",
    "        SERVICE_CODE=row['SERVICE_CODE'],\n",
    "        SERVICE_DESCRIPTION=row['SERVICE_DESCRIPTION'],\n",
    "        SERVICE_CLASSIFICATION=row['SERVICE_CLASSIFICATION'],\n",
    "        SERVICE_CATEGORY=row['SERVICE_CATEGORY'],\n",
    "        SBS_Code=row['SBS Code'],\n",
    "        SBS_Code_Hyphenated=row['SBS Code (Hyphenated)'],\n",
    "        SHORT_DESCRIPTION=row['SHORT_DESCRIPTION'],\n",
    "        Long_Description=row['Long Description'],\n",
    "        Definition=row['Definition'],\n",
    "        Chapter_Name=row['Chapter Name'],\n",
    "        Block_Name=row['Block Name']\n",
    "    )\n",
    "\n",
    "    try:\n",
    "        response = fireworks_llm._call(prompt)\n",
    "\n",
    "        # ⚡ NEW robust parsing:\n",
    "        lines = [line.strip() for line in response.strip().splitlines() if line.strip()]\n",
    "        last_line = lines[-1] if lines else \"\"\n",
    "        response_clean = ''.join(filter(str.isdigit, last_line))\n",
    "        if response_clean in ['0', '1']:\n",
    "            result_int = int(response_clean)\n",
    "        else:\n",
    "            print(f\"⚠️ Unexpected output at index {idx}: {response.strip()}\")\n",
    "            result_int = None\n",
    "\n",
    "    except Exception as e:\n",
    "        print(f\"⚠️ Error at index {idx}: {e}\")\n",
    "        result_int = None\n",
    "\n",
    "    validated_df.at[idx, 'VALIDATION_RESULT'] = result_int\n",
    "    validated_df.to_csv(checkpoint_file, index=False)\n",
    "\n",
    "print(\"✅ Validation complete! Saving final file...\")"
   ]
  },
  {
   "cell_type": "code",
   "execution_count": null,
   "id": "5c3d2e77",
   "metadata": {},
   "outputs": [],
   "source": []
  }
 ],
 "metadata": {
  "kernelspec": {
   "display_name": "coding",
   "language": "python",
   "name": "python3"
  },
  "language_info": {
   "codemirror_mode": {
    "name": "ipython",
    "version": 3
   },
   "file_extension": ".py",
   "mimetype": "text/x-python",
   "name": "python",
   "nbconvert_exporter": "python",
   "pygments_lexer": "ipython3",
   "version": "3.12.11"
  }
 },
 "nbformat": 4,
 "nbformat_minor": 5
}
